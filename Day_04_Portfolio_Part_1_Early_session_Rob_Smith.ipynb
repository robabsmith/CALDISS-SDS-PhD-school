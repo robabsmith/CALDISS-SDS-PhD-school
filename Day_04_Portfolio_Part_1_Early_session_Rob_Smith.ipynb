{
  "nbformat": 4,
  "nbformat_minor": 0,
  "metadata": {
    "colab": {
      "name": "Day 04 - Portfolio - Part 1 - Early session - Rob Smith.ipynb",
      "provenance": [],
      "collapsed_sections": [],
      "include_colab_link": true
    },
    "kernelspec": {
      "name": "python3",
      "display_name": "Python 3"
    }
  },
  "cells": [
    {
      "cell_type": "markdown",
      "metadata": {
        "id": "view-in-github",
        "colab_type": "text"
      },
      "source": [
        "<a href=\"https://colab.research.google.com/github/robabsmith/CALDISS-SDS-PhD-school/blob/master/Day_04_Portfolio_Part_1_Early_session_Rob_Smith.ipynb\" target=\"_parent\"><img src=\"https://colab.research.google.com/assets/colab-badge.svg\" alt=\"Open In Colab\"/></a>"
      ]
    },
    {
      "cell_type": "markdown",
      "metadata": {
        "id": "qJ-44Or3Nu02",
        "colab_type": "text"
      },
      "source": [
        "# Portfolio Day 4: NLP"
      ]
    },
    {
      "cell_type": "markdown",
      "metadata": {
        "id": "YtvRJ6ostiLT",
        "colab_type": "text"
      },
      "source": [
        "## Part 1: Mid day do it yourself sections"
      ]
    },
    {
      "cell_type": "code",
      "metadata": {
        "id": "w8fp87nmNuDh",
        "colab_type": "code",
        "colab": {}
      },
      "source": [
        "import re"
      ],
      "execution_count": 0,
      "outputs": []
    },
    {
      "cell_type": "code",
      "metadata": {
        "id": "0ROqKx-_eeDe",
        "colab_type": "code",
        "colab": {}
      },
      "source": [
        "import spacy\n",
        "nlp = spacy.load(\"en\")"
      ],
      "execution_count": 0,
      "outputs": []
    },
    {
      "cell_type": "code",
      "metadata": {
        "id": "kv7_8oG5NfJ0",
        "colab_type": "code",
        "colab": {}
      },
      "source": [
        "text =  \"I’ve been called many things in my life, but never an optimist. That was fine by me. I believed pessimists lived in a constant state of pleasant surprise: if you always expected the worst, things generally turned out better than you imagined. The only real problem with pessimism, I figured, was that too much of it could accidentally turn you into an optimist.\""
      ],
      "execution_count": 0,
      "outputs": []
    },
    {
      "cell_type": "code",
      "metadata": {
        "id": "bZOY9IcapnCZ",
        "colab_type": "code",
        "outputId": "ff13dbde-f7ff-4a85-f55b-5db8ce6b1834",
        "colab": {
          "base_uri": "https://localhost:8080/",
          "height": 85
        }
      },
      "source": [
        "import nltk #this part is needed on colab.\n",
        "nltk.download('punkt')\n",
        "nltk.download('stopwords')\n",
        "#----------------------------------------\n",
        "\n",
        "# Tokenizing sentences\n",
        "from nltk.tokenize import sent_tokenize\n",
        "\n",
        "# Tokenizing words\n",
        "from nltk.tokenize import word_tokenize\n",
        "\n",
        "import pandas as pd\n",
        "pd.set_option('display.max_colwidth', -1) #to see more text\n",
        "\n",
        "import numpy as np\n",
        "import seaborn as sns\n",
        "\n",
        "import itertools\n",
        "from collections import Counter"
      ],
      "execution_count": 0,
      "outputs": [
        {
          "output_type": "stream",
          "text": [
            "[nltk_data] Downloading package punkt to /root/nltk_data...\n",
            "[nltk_data]   Package punkt is already up-to-date!\n",
            "[nltk_data] Downloading package stopwords to /root/nltk_data...\n",
            "[nltk_data]   Package stopwords is already up-to-date!\n"
          ],
          "name": "stdout"
        }
      ]
    },
    {
      "cell_type": "code",
      "metadata": {
        "id": "PDaGwf73PEVy",
        "colab_type": "code",
        "colab": {}
      },
      "source": [
        "# Tokenizing Tweets made easy!\n",
        "from nltk.tokenize import TweetTokenizer\n",
        "tknzr = TweetTokenizer()\n",
        "\n",
        "from nltk.corpus import stopwords\n",
        "stop_words = set(stopwords.words('english')) "
      ],
      "execution_count": 0,
      "outputs": []
    },
    {
      "cell_type": "code",
      "metadata": {
        "id": "_wbQ7SsXoVmA",
        "colab_type": "code",
        "outputId": "c90466f8-0f27-4390-a3ed-a1a7d1fc1065",
        "colab": {
          "base_uri": "https://localhost:8080/",
          "height": 54
        }
      },
      "source": [
        "# Let's get our stences.\n",
        "# Note that the full-stops at the end of each sentence are still there\n",
        "\n",
        "sentences = sent_tokenize(text)\n",
        "print(sentences)"
      ],
      "execution_count": 0,
      "outputs": [
        {
          "output_type": "stream",
          "text": [
            "['I’ve been called many things in my life, but never an optimist.', 'That was fine by me.', 'I believed pessimists lived in a constant state of pleasant surprise: if you always expected the worst, things generally turned out better than you imagined.', 'The only real problem with pessimism, I figured, was that too much of it could accidentally turn you into an optimist.']\n"
          ],
          "name": "stdout"
        }
      ]
    },
    {
      "cell_type": "code",
      "metadata": {
        "id": "DUEFiD0qoVmC",
        "colab_type": "code",
        "outputId": "efabff4c-b253-424a-87b5-05f61a0bf3c2",
        "colab": {
          "base_uri": "https://localhost:8080/",
          "height": 71
        }
      },
      "source": [
        "# Use word_tokenize to tokenize the third sentence: tokenized_sent\n",
        "tokenized_sent = word_tokenize(sentences[1])\n",
        "\n",
        "# Make a set of unique tokens in the entire scene: unique_tokens\n",
        "unique_tokens = set(word_tokenize(text))\n",
        "\n",
        "print(tokenized_sent)\n",
        "print(unique_tokens)"
      ],
      "execution_count": 0,
      "outputs": [
        {
          "output_type": "stream",
          "text": [
            "['That', 'was', 'fine', 'by', 'me', '.']\n",
            "{'life', 'expected', 'The', 'much', 'optimist', 'in', '’', 'but', 'a', 'an', 'turned', 'could', 'pessimists', 'only', 'constant', 'lived', 'believed', 'out', 'pleasant', 'better', 'by', 'I', ',', 'been', 'pessimism', 'into', 'my', 'was', 'of', 'imagined', 'you', 'that', 'problem', 'state', 'surprise', 'than', 've', 'if', 'fine', 'things', 'accidentally', ':', 'it', 'worst', 'figured', 'the', 'called', 'many', 'real', 'generally', 'That', 'never', 'too', '.', 'turn', 'me', 'always', 'with'}\n"
          ],
          "name": "stdout"
        }
      ]
    },
    {
      "cell_type": "code",
      "metadata": {
        "id": "G50Jl_MrpyLX",
        "colab_type": "code",
        "outputId": "fbcbbbeb-d22a-4088-9d3e-0d2b5dc090ad",
        "colab": {
          "base_uri": "https://localhost:8080/",
          "height": 629
        }
      },
      "source": [
        "[word.lower() for word in word_tokenize(text) if word not in stop_words and word.isalnum()]"
      ],
      "execution_count": 0,
      "outputs": [
        {
          "output_type": "execute_result",
          "data": {
            "text/plain": [
              "['i',\n",
              " 'called',\n",
              " 'many',\n",
              " 'things',\n",
              " 'life',\n",
              " 'never',\n",
              " 'optimist',\n",
              " 'that',\n",
              " 'fine',\n",
              " 'i',\n",
              " 'believed',\n",
              " 'pessimists',\n",
              " 'lived',\n",
              " 'constant',\n",
              " 'state',\n",
              " 'pleasant',\n",
              " 'surprise',\n",
              " 'always',\n",
              " 'expected',\n",
              " 'worst',\n",
              " 'things',\n",
              " 'generally',\n",
              " 'turned',\n",
              " 'better',\n",
              " 'imagined',\n",
              " 'the',\n",
              " 'real',\n",
              " 'problem',\n",
              " 'pessimism',\n",
              " 'i',\n",
              " 'figured',\n",
              " 'much',\n",
              " 'could',\n",
              " 'accidentally',\n",
              " 'turn',\n",
              " 'optimist']"
            ]
          },
          "metadata": {
            "tags": []
          },
          "execution_count": 328
        }
      ]
    },
    {
      "cell_type": "markdown",
      "metadata": {
        "id": "qh2Q8_stR760",
        "colab_type": "text"
      },
      "source": [
        "# Part 2: Baby boomer tweets - applying tokens and counts to text.\n",
        "\n",
        "This section is an attempt to model the 10 most popular topics in the tweets that tag baby boomer. \n",
        "\n",
        "These topics are extracted from the text portion rather than from the tags themselves"
      ]
    },
    {
      "cell_type": "code",
      "metadata": {
        "id": "SIcUPTayoVmJ",
        "colab_type": "code",
        "colab": {}
      },
      "source": [
        "# download and open some Trump tweets from trump_tweet_data_archive\n",
        "\n",
        "boomer_tweets_df = pd.read_json('https://github.com/CALDISS-AAU/sdsphd19_coursematerials/raw/master/data/tweets_boomer.zip')\n",
        "# boomer_tweets_df.head()"
      ],
      "execution_count": 0,
      "outputs": []
    },
    {
      "cell_type": "code",
      "metadata": {
        "id": "YPWtWgyaoVmN",
        "colab_type": "code",
        "colab": {}
      },
      "source": [
        "# Reset index (not really needed but why not)\n",
        "boomer_tweets_df = boomer_tweets_df.set_index(pd.to_datetime(boomer_tweets_df.created_at))"
      ],
      "execution_count": 0,
      "outputs": []
    },
    {
      "cell_type": "code",
      "metadata": {
        "id": "FeNibW-Ed2vi",
        "colab_type": "code",
        "colab": {}
      },
      "source": [
        "boomer_tweets_df.info()"
      ],
      "execution_count": 0,
      "outputs": []
    },
    {
      "cell_type": "markdown",
      "metadata": {
        "id": "L_Qn_742O_kM",
        "colab_type": "text"
      },
      "source": [
        "# Cleaning boomer tweets to text\n"
      ]
    },
    {
      "cell_type": "code",
      "metadata": {
        "id": "djLlq-U1H0-X",
        "colab_type": "code",
        "outputId": "e7b41b9f-5c11-47b8-e09a-6f082851a3ae",
        "colab": {
          "base_uri": "https://localhost:8080/",
          "height": 34
        }
      },
      "source": [
        "!pip install tweet-preprocessor\n"
      ],
      "execution_count": 0,
      "outputs": [
        {
          "output_type": "stream",
          "text": [
            "Requirement already satisfied: tweet-preprocessor in /usr/local/lib/python3.6/dist-packages (0.5.0)\n"
          ],
          "name": "stdout"
        }
      ]
    },
    {
      "cell_type": "code",
      "metadata": {
        "id": "eEEIvyGbH08l",
        "colab_type": "code",
        "colab": {}
      },
      "source": [
        "import preprocessor as p\n",
        "\n",
        "from nltk.corpus import stopwords\n",
        "stop_words = set(stopwords.words('english'))"
      ],
      "execution_count": 0,
      "outputs": []
    },
    {
      "cell_type": "code",
      "metadata": {
        "id": "Bwa5cvmGH06u",
        "colab_type": "code",
        "colab": {}
      },
      "source": [
        "p.set_options(p.OPT.URL, \tp.OPT.HASHTAG, p.OPT.EMOJI, p.OPT.MENTION, \tp.OPT.RESERVED, \tp.OPT.SMILEY, \tp.OPT.NUMBER)\n",
        "# [p.clean(tweet) for tweet in boomer_tweets_df['tweet']]"
      ],
      "execution_count": 0,
      "outputs": []
    },
    {
      "cell_type": "code",
      "metadata": {
        "id": "yHAjOFegH039",
        "colab_type": "code",
        "colab": {}
      },
      "source": [
        "boomer_tweets_clean = boomer_tweets_df.tweet.map(p.clean)"
      ],
      "execution_count": 0,
      "outputs": []
    },
    {
      "cell_type": "code",
      "metadata": {
        "id": "a2AJqAzqgIHB",
        "colab_type": "code",
        "colab": {}
      },
      "source": [
        "boomer_tweets_df.head()"
      ],
      "execution_count": 0,
      "outputs": []
    },
    {
      "cell_type": "code",
      "metadata": {
        "id": "ToIgrSPlO9d6",
        "colab_type": "code",
        "colab": {}
      },
      "source": [
        "tknzr = TweetTokenizer(strip_handles=True)\n",
        "\n",
        "boomer_tweets_clean = boomer_tweets_clean.map(lambda t: [tok.lower() for tok in word_tokenize(t) if tok not in stop_words and tok.isalpha()])"
      ],
      "execution_count": 0,
      "outputs": []
    },
    {
      "cell_type": "code",
      "metadata": {
        "id": "PwMPt-IUO9jp",
        "colab_type": "code",
        "colab": {}
      },
      "source": [
        "boomer_tweets_clean = boomer_tweets_clean.map(lambda t:  \" \".join(t))"
      ],
      "execution_count": 0,
      "outputs": []
    },
    {
      "cell_type": "code",
      "metadata": {
        "id": "FDEwE3tcH3AT",
        "colab_type": "code",
        "colab": {}
      },
      "source": [
        "boomer_tweets_clean"
      ],
      "execution_count": 0,
      "outputs": []
    },
    {
      "cell_type": "code",
      "metadata": {
        "id": "-1cK5PLCO9md",
        "colab_type": "code",
        "colab": {}
      },
      "source": [
        "tokens = []\n",
        "\n",
        "for x in nlp.pipe(boomer_tweets_clean):\n",
        "  proj_tok = [token.lemma_.lower() for token in x if token.pos_ in ['NOUN', 'PROPN', 'ADJ', 'ADV'] and not token.is_stop] \n",
        "  tokens.append(proj_tok)"
      ],
      "execution_count": 0,
      "outputs": []
    },
    {
      "cell_type": "code",
      "metadata": {
        "id": "bACUeYpIHmIA",
        "colab_type": "code",
        "colab": {}
      },
      "source": [
        "tokens\n"
      ],
      "execution_count": 0,
      "outputs": []
    },
    {
      "cell_type": "code",
      "metadata": {
        "id": "-ooyryQpzCvV",
        "colab_type": "code",
        "colab": {}
      },
      "source": [
        "boomer_tweets_df['tokens'] = tokens"
      ],
      "execution_count": 0,
      "outputs": []
    },
    {
      "cell_type": "code",
      "metadata": {
        "id": "vRLglAhcQ5gA",
        "colab_type": "code",
        "colab": {}
      },
      "source": [
        "boomer_tweets_df.head()"
      ],
      "execution_count": 0,
      "outputs": []
    },
    {
      "cell_type": "code",
      "metadata": {
        "colab_type": "code",
        "id": "mEbZFm6tDLjB",
        "colab": {}
      },
      "source": [
        "!pip install -qq -U gensim"
      ],
      "execution_count": 0,
      "outputs": []
    },
    {
      "cell_type": "code",
      "metadata": {
        "colab_type": "code",
        "id": "Og5qTrBvDLjF",
        "colab": {}
      },
      "source": [
        "# Import the dictionary builder\n",
        "from gensim.corpora.dictionary import Dictionary"
      ],
      "execution_count": 0,
      "outputs": []
    },
    {
      "cell_type": "code",
      "metadata": {
        "colab_type": "code",
        "id": "MjD1FeO1DLjI",
        "colab": {}
      },
      "source": [
        "# Create a Dictionary from the articles: dictionary\n",
        "dictionary = Dictionary(boomer_tweets_df['tokens'])"
      ],
      "execution_count": 0,
      "outputs": []
    },
    {
      "cell_type": "code",
      "metadata": {
        "colab_type": "code",
        "id": "avjcHZbPDLjM",
        "colab": {}
      },
      "source": [
        "# filter out low-frequency / high-frequency stuff, also limit the vocabulary to max 1000 words\n",
        "dictionary.filter_extremes(no_below=5, no_above=0.5, keep_n=1000)"
      ],
      "execution_count": 0,
      "outputs": []
    },
    {
      "cell_type": "code",
      "metadata": {
        "colab_type": "code",
        "id": "5Q0RYbbyDLjN",
        "colab": {}
      },
      "source": [
        "# construct corpus using this dictionary\n",
        "corpus = [dictionary.doc2bow(doc) for doc in boomer_tweets_df['tokens']]"
      ],
      "execution_count": 0,
      "outputs": []
    },
    {
      "cell_type": "code",
      "metadata": {
        "colab_type": "code",
        "id": "hCsObCZXDLjP",
        "colab": {}
      },
      "source": [
        "# That's how the corpus looks\n",
        "corpus[:100]"
      ],
      "execution_count": 0,
      "outputs": []
    },
    {
      "cell_type": "code",
      "metadata": {
        "id": "WHV7quvyL0cd",
        "colab_type": "code",
        "colab": {}
      },
      "source": [
        "# let's fist install this nice visualizer\n",
        "!pip install -qq pyLDAvis"
      ],
      "execution_count": 0,
      "outputs": []
    },
    {
      "cell_type": "code",
      "metadata": {
        "id": "fuGZe88uMxCh",
        "colab_type": "code",
        "colab": {}
      },
      "source": [
        "# and import it\n",
        "import pyLDAvis.gensim\n",
        "%matplotlib inline\n",
        "pyLDAvis.enable_notebook()"
      ],
      "execution_count": 0,
      "outputs": []
    },
    {
      "cell_type": "code",
      "metadata": {
        "id": "G3vcFRRqbsFR",
        "colab_type": "code",
        "colab": {}
      },
      "source": [
        "# we'll use the faster multicore version of LDA\n",
        "\n",
        "from gensim.models import LdaMulticore"
      ],
      "execution_count": 0,
      "outputs": []
    },
    {
      "cell_type": "code",
      "metadata": {
        "id": "Sv_Z6JXIb526",
        "colab_type": "code",
        "colab": {}
      },
      "source": [
        "# Training the model (makes some mess atm due to version clashes)\n",
        "\n",
        "lda_model = LdaMulticore(corpus, id2word=dictionary,  num_topics=10, workers = 4, passes=10)"
      ],
      "execution_count": 0,
      "outputs": []
    },
    {
      "cell_type": "code",
      "metadata": {
        "id": "cXPrQHO9nDhB",
        "colab_type": "code",
        "colab": {}
      },
      "source": [
        "# Check out topics\n",
        "lda_model.print_topics(-1)"
      ],
      "execution_count": 0,
      "outputs": []
    },
    {
      "cell_type": "code",
      "metadata": {
        "id": "SDIH34Lvb7Cz",
        "colab_type": "code",
        "outputId": "a0a2c6f5-1945-4688-e2be-55aa30265186",
        "colab": {
          "base_uri": "https://localhost:8080/",
          "height": 153
        }
      },
      "source": [
        "# Let's try to visualize\n",
        "lda_display = pyLDAvis.gensim.prepare(lda_model, corpus, dictionary, sort_topics=False)\n"
      ],
      "execution_count": 0,
      "outputs": [
        {
          "output_type": "stream",
          "text": [
            "/usr/local/lib/python3.6/dist-packages/pyLDAvis/_prepare.py:257: FutureWarning: Sorting because non-concatenation axis is not aligned. A future version\n",
            "of pandas will change to not sort by default.\n",
            "\n",
            "To accept the future behavior, pass 'sort=False'.\n",
            "\n",
            "To retain the current behavior and silence the warning, pass 'sort=True'.\n",
            "\n",
            "  return pd.concat([default_term_info] + list(topic_dfs))\n"
          ],
          "name": "stderr"
        }
      ]
    },
    {
      "cell_type": "code",
      "metadata": {
        "id": "bmDFJBBFcBHV",
        "colab_type": "code",
        "colab": {}
      },
      "source": [
        "# Let's Visualize\n",
        "pyLDAvis.display(lda_display)"
      ],
      "execution_count": 0,
      "outputs": []
    },
    {
      "cell_type": "markdown",
      "metadata": {
        "id": "k9O38l6QMtKz",
        "colab_type": "text"
      },
      "source": [
        "# Plotting most common by day"
      ]
    },
    {
      "cell_type": "code",
      "metadata": {
        "id": "xQ5DTVN75l_w",
        "colab_type": "code",
        "colab": {}
      },
      "source": [
        "# Get columns of interest into a new DF\n",
        "\n",
        "tweets_boomer_tokens = boomer_tweets_df[['tweet', 'tokens', 'id','created_at']]"
      ],
      "execution_count": 0,
      "outputs": []
    },
    {
      "cell_type": "code",
      "metadata": {
        "id": "2EuE6RVqx_7H",
        "colab_type": "code",
        "colab": {}
      },
      "source": [
        "# Get most common hashtags\n",
        "\n",
        "most_common = Counter(itertools.chain(*tweets_boomer_tokens.tokens)).most_common(11)"
      ],
      "execution_count": 0,
      "outputs": []
    },
    {
      "cell_type": "code",
      "metadata": {
        "id": "0xVnVUDkWuOG",
        "colab_type": "code",
        "outputId": "0ea5f75e-3651-403b-8811-3719ae62fb6c",
        "colab": {
          "base_uri": "https://localhost:8080/",
          "height": 204
        }
      },
      "source": [
        "most_common"
      ],
      "execution_count": 0,
      "outputs": [
        {
          "output_type": "execute_result",
          "data": {
            "text/plain": [
              "[('boomer', 2600),\n",
              " ('people', 788),\n",
              " ('generation', 689),\n",
              " ('old', 680),\n",
              " ('millennial', 544),\n",
              " ('time', 462),\n",
              " ('thing', 443),\n",
              " ('meme', 414),\n",
              " ('way', 406),\n",
              " ('good', 335),\n",
              " ('young', 330)]"
            ]
          },
          "metadata": {
            "tags": []
          },
          "execution_count": 40
        }
      ]
    },
    {
      "cell_type": "code",
      "metadata": {
        "id": "1LEHoLZtyMY4",
        "colab_type": "code",
        "colab": {}
      },
      "source": [
        "# Isolate the hashtags only\n",
        "most_common = [x for x,y in most_common][1:]"
      ],
      "execution_count": 0,
      "outputs": []
    },
    {
      "cell_type": "code",
      "metadata": {
        "id": "DyEboySgyqmq",
        "colab_type": "code",
        "colab": {}
      },
      "source": [
        "# Create new columns (one for each hashtag) and fill with 0\n",
        "\n",
        "for col in most_common:\n",
        "  tweets_boomer_tokens[col] = 0"
      ],
      "execution_count": 0,
      "outputs": []
    },
    {
      "cell_type": "code",
      "metadata": {
        "id": "9Mgq-Vb_zDvf",
        "colab_type": "code",
        "colab": {}
      },
      "source": [
        "# Iterate over hashtags and fill in the corresponding columns with 1 if hashtag present in a tweet\n",
        "for tokens in most_common:\n",
        "  tweets_boomer_tokens[tokens] = tweets_boomer_tokens['tokens'].map(lambda t: 1 if tokens in t else 0)"
      ],
      "execution_count": 0,
      "outputs": []
    },
    {
      "cell_type": "code",
      "metadata": {
        "id": "HzTX2U9h3RT5",
        "colab_type": "code",
        "colab": {}
      },
      "source": [
        "# Import plotting stuff\n",
        "import seaborn as sns\n",
        "sns.set_style(\"whitegrid\")\n",
        "sns.set(rc={'figure.figsize':(10,10)})"
      ],
      "execution_count": 0,
      "outputs": []
    },
    {
      "cell_type": "code",
      "metadata": {
        "id": "cNOPxTiy6QMd",
        "colab_type": "code",
        "colab": {}
      },
      "source": [
        "# count up occurence of hashtags in timeframe of interest\n",
        "\n",
        "tweets_boomer_tokens.resample('D')[most_common].sum().plot()"
      ],
      "execution_count": 0,
      "outputs": []
    },
    {
      "cell_type": "markdown",
      "metadata": {
        "id": "6PVpeB-ZfOKi",
        "colab_type": "text"
      },
      "source": [
        "# Processing an academic article"
      ]
    },
    {
      "cell_type": "markdown",
      "metadata": {
        "id": "wKlNwMHYfTUD",
        "colab_type": "text"
      },
      "source": [
        "This is an attempt to apply the tools above to an academic article to gain insight into the key focus of the research."
      ]
    },
    {
      "cell_type": "code",
      "metadata": {
        "id": "4asdhhU5m5MH",
        "colab_type": "code",
        "colab": {}
      },
      "source": [
        "!pip install PyPDF2\n",
        "!pip install tika"
      ],
      "execution_count": 0,
      "outputs": []
    },
    {
      "cell_type": "code",
      "metadata": {
        "id": "GYkO6j3Cm5Oh",
        "colab_type": "code",
        "colab": {}
      },
      "source": [
        "#import requests\n",
        "\n",
        "#url = 'http://www.levyinstitute.org/pubs/wp_891.pdf'\n",
        "\n",
        "#pdf_file_content = requests.get(url).content\n",
        "\n",
        "#pdf_file = requests.get(url).content"
      ],
      "execution_count": 0,
      "outputs": []
    },
    {
      "cell_type": "code",
      "metadata": {
        "id": "ijpLtDYmtZnh",
        "colab_type": "code",
        "outputId": "af69823c-36f5-4c46-9798-e5744dff1973",
        "colab": {
          "base_uri": "https://localhost:8080/",
          "height": 34
        }
      },
      "source": [
        "\n",
        "from tika import parser\n",
        "import PyPDF2 as pyPdf\n",
        "\n",
        "raw = parser.from_file('http://www.levyinstitute.org/pubs/wp_891.pdf')\n",
        "content = raw['content']"
      ],
      "execution_count": 0,
      "outputs": [
        {
          "output_type": "stream",
          "text": [
            "2019-12-02 16:21:49,186 [MainThread  ] [INFO ]  Retrieving http://www.levyinstitute.org/pubs/wp_891.pdf to /tmp/pubs-wp_891.pdf.\n"
          ],
          "name": "stderr"
        }
      ]
    },
    {
      "cell_type": "code",
      "metadata": {
        "id": "Z99Thx-eBLup",
        "colab_type": "code",
        "colab": {}
      },
      "source": [
        "# raw[\"metadata\"]"
      ],
      "execution_count": 0,
      "outputs": []
    },
    {
      "cell_type": "code",
      "metadata": {
        "id": "YtF_oTnjDzgc",
        "colab_type": "code",
        "colab": {}
      },
      "source": [
        "text_content = \" \".join(content.replace(u\"\\xa0\", \" \").strip().split())"
      ],
      "execution_count": 0,
      "outputs": []
    },
    {
      "cell_type": "code",
      "metadata": {
        "id": "ZLb5hFfZYJ0T",
        "colab_type": "code",
        "outputId": "498354ca-da61-4056-ac5f-44b77720b6b7",
        "colab": {
          "base_uri": "https://localhost:8080/",
          "height": 54
        }
      },
      "source": [
        "text_content"
      ],
      "execution_count": 0,
      "outputs": [
        {
          "output_type": "execute_result",
          "data": {
            "text/plain": [
              "'Stock-flow Consistent Macroeconomic Models: a Survey Working Paper No. 891 Stock-flow Consistent Macroeconomic Models: A Survey by Michalis Nikiforos and Gennaro Zezza Levy Economics Institute of Bard College May 2017 The Levy Economics Institute Working Paper Collection presents research in progress by Levy Institute scholars and conference participants. The purpose of the series is to disseminate ideas to and elicit comments from academics and professionals. Levy Economics Institute of Bard College, founded in 1986, is a nonprofit, nonpartisan, independently funded research organization devoted to public service. Through scholarship and economic research it generates viable, effective public policy responses to important economic problems that profoundly affect the quality of life in the United States and abroad. Levy Economics Institute P.O. Box 5000 Annandale-on-Hudson, NY 12504-5000 http://www.levyinstitute.org Copyright © Levy Economics Institute 2017 All rights reserved ISSN 1547-366X 1 ABSTRACT The stock-flow consistent (SFC) modeling approach, grounded in the pioneering work of Wynne Godley and James Tobin in the 1970s, has been adopted by a growing number of researchers in macroeconomics, especially after the publication of Godley and Lavoie (2007), which provided a general framework for the analysis of whole economic systems, and the recognition that macroeconomic models integrating real markets with flow-of-funds analysis had been particularly successful in predicting the Great Recession of 2007–9. We introduce the general features of the SFC approach for a closed economy, showing how the core model has been extended to address issues such as financialization and income distribution. We next discuss the implications of the approach for models of open economies and compare the methodologies adopted in developing SFC empirical models for whole countries. We review the contributions where the SFC approach is being adopted as the macroeconomic closure of microeconomic agent-based models, and how the SFC approach is at the core of new research in ecological macroeconomics. Finally, we discuss the appropriateness of the name “stock-flow consistent” for the class of models we survey. Keywords: Macroeconomic Models; Stock-flow Consistency; Financial Models; Economic Policy JEL Classifications: E1, E17, E50, E60, F41, G00 2 1. INTRODUCTION The stock-flow consistent (henceforth SFC) approach to macroeconomic modeling has become increasingly popular among economists of different persuasions. Despite its roots going back at least five decades, its popularity increased exponentially after the recent crisis of 2007–9. Two factors played a significant role in that: first, the 2007 publication of Monetary Economics, by Wynne Godley and Marc Lavoie (2007a), a book that summarizes and synthesizes the basic principles and modeling methods; and second, the recognition that models and policy analyses based on the SFC framework (e.g., Godley 1999a) were able to predict the crisis, which caught the majority of the profession by surprise. For these two reasons the years of the Great Recession are a demarcation point in time that separates the early period of the development of the SFC approach from the more recent period. The main characteristic and advantage of the SFC approach is that it provides a framework for treating the real and the financial sides of the economy in an integrated way. In a modern capitalist economy, the behavior of the real side of the economy cannot be understood without reference to the financial side (money, debt, and assets markets). Although this is a general statement, it became particularly evident during the recent crisis and the slow recovery that followed (hence the aforementioned surge in the popularity of SFC models). For that reason, the SFC approach is an essential tool if one wants to examine the political economy of modern capitalism in a rigorous and analytical way. The roots of the SFC approach go back to the late 1960s and 1970s, a “hard time” for Keynesian economists, who saw their influence decline in favor of monetarism and then later New Classical economics (Dos Santos 2006). The two main figures in these nascent years were Wynne Godley at the University of Cambridge and James Tobin at Yale University. Godley, after working for 14 years at the Treasury, joined the University of Cambridge as the director of the Department of Applied Economics, within which he also formed the Cambridge Economic Policy Group. His writings at the time—most done together with Francis Cripps—contain the basic elements of the principles of SFC modeling that we will discuss below (Godley and Cripps 1974, 1983; Cripps and Godley 1976, 1978). Since these early days, the two basic characteristics of Godley’s 3 approach are an effort to combine economic theory and policy (not surprising for someone who had spent 14 years at the Treasury) and successive attempts to build rigorous models that combine the real and the financial sides of the economy.1 The work of Godley was highly influenced by Nicholas Kaldor. The two met while Godley was at the Treasury and it was Kaldor who brought him to Cambridge. Among other things, it was discussions with Kaldor that led Godley to identify and recognize the importance of the “three balances,” which we will discuss in some detail in section 4. Kaldor had already mentioned these balances three decades earlier (Kaldor and Barna 1944), though without then recognizing their importance. At the same time, on the other side of the Atlantic, James Tobin developed a similar approach, which came to be known as the “pitfalls” approach. The approach was developed in a series of papers, many of which were coauthored with William Brainard (Brainard and Tobin 1968; Tobin 1969; Backus et al. 1980), and was summarized in Tobin’s Nobel Prize lecture (Tobin 1982). According to Tobin, the main pitfall in financial-model building is the failure to explicitly model that “the prices and interest rates determined in these [financial] markets and the quantities to which they refer both influence and are influenced by the ‘real economy’ [...]. These interdependencies are easy to acknowledge in principle but difficult to honor in practice, either in theoretical analysis or in empirical investigation” (Brainard and Tobin 1968: 99; emphasis added). The aim of Tobin’s research project was thus to provide an analysis that properly takes care of these interdependencies. As we will discuss in more detail in section 2.2, among other things, Tobin set out the principles that determine portfolio choice within these models. The latest part of this long first phase of the formation of the SFC approach started in 1994 when Godley arrived at the Levy Economics Institute of Bard College and ends with the publication of Monetary Economics (the book was the result of a long research project, undertaken together with Marc Lavoie from the University of Ottawa). At the same time, and in accordance with his preference for a combination of theory and policy, Godley created the Levy Macroeconomic 1 Cripps and Lavoie (2017) provide a biographical discussion of Godley’s works and methods. 4 Model, a policy model based on SFC principles, which proved successful in predicting the downturn of 2001 and the Great Recession. As we mentioned above, since the publication of Monetary Economics there have been extensive contributions to the literature adopting the SFC method for examining a variety of issues. The purpose of this paper is to provide a detailed survey of this literature, as well to show how this approach provides innovative contributions to policy debates related to austerity policies, balance of payment imbalances, long-term sustainable growth, etc. Towards that goal, in the next section we provide an overview of the basic principles of SFC modeling, which will also act as an entry and a reference point for the discussion that will follow. These principles can be divided into two broad categories. First, the building of the models starts with a lot of attention to accounting consistency. In the words of Taylor (2004: 206), making sure that the accounting is right is often “the best way to attack a problem in economics.” Careful accounting can lead to interesting conclusions in its own right because it imposes certain constraints and reduces the degrees of freedom of the model. The second category consists of the closure and the behavioral specifications of the model. SFC models have a post-Keynesian closure, in the sense that demand matters and full employment is not considered to be the general state of the economy. Moreover, and based on the early insights of Godley and Tobin, there is a thorough modeling of the real and the financial sides of the economy and of their interdependencies. The accounting structure of the model provides the basis for these modeling exercises. The emphasis on careful accounting reveals the intellectual kinship of the SFC approach to national accounts–based macroeconomic models, first introduced by Richard Stone (e.g., Stone and Brown 1962) as part of his wider pioneering work on national accounts. Stone preceded Godley as the first director of the Department of Applied Economics at the University of Cambridge. Stone’s methodology was further developed as a base for fixed-price, multiplier-type analysis based on large social accounting matrices (Pyatt and Round 1977, 1979; Pyatt 1988; Round 2003a, 2003b) and also then used as the accounting framework for computable general equilibrium (CGE) models (Johansen 1960; Taylor and Black 1974; Adelman and Robinson 1978; Taylor et al. 1980; Dervis, de Melo, and Robinson 1982; Taylor 1990; Dixon and Jorgenson 2013). 5 Moreover, the integrated treatment of the financial and the real sectors provides a natural way to examine issues related to financial fragility and its links to the real economy. It is thus no coincidence that the work of Hyman Minsky (1975, 1986) has been very influential on the SFC literature. Many of Godley’s models and analyses formalize Minskyan ideas, while there is a considerable number of more recent papers that treat Minskyan themes in an SFC framework (Minsky also played an instrumental role in Godley’s coming to the Levy Economics Institute). Finally, it is worth mentioning that the principles of SFC analysis in one form or another were advocated and used by various scholars in parallel and sometimes crossing paths with the abovementioned protagonists. Paul Davidson (1968a) was one of the first to emphasize that money balances need to be taken into account in models of capital accumulation; he also provided an early exploration of the implications of portfolio choice for economic growth (Davidson 1968b). Stock-flow consistency is a central element in the work of Alfred Eichner (e.g., 1987), who also emphasized the interdependences of the real and financial sectors and the need for a combined treatment. Lance Taylor arrived at the SFC approach through his extensive work on CGE models (cited above) and the structuralist theory of growth, distribution, and finance (see Taylor 1983, 1991; Taylor and O’Connell 1985; Taylor [2008] provides a review of Monetary Economics). Another author within the post-Keynesian tradition who has consistently been using rigorous analytical SFC models is Peter Skott (e.g., 1989). Finally, in addition to these Keynesian scholars, Duncan Foley (1982, 1986) used an (essentially) SFC model to formalize the circuit of capital originally proposed by Marx (1978) in volume II of Capital. The rest of the paper proceeds as follows. The basic principles of SFC modeling are laid out in section 2. In the first subsection (2.1), we discuss the accounting principles and in the second (2.2) the closure and treatment of the real and financial sides of the economy in a generic SFC model. Section 3 presents how various contributions have extended and/or modified this generic treatment to examine issues related to the monetary circuit, financialization, and changes in income distribution. In section 4 we discuss how the basic model can be extended to deal with the implications of open-economy macroeconomics. The open-economy model allows us to introduce the “three balances approach,” which is one of the main building blocks of SFC analysis. The theoretical open-economy models allow us to discuss SFC models for whole 6 countries as concrete economic policy tools in section 5. Then, in section 6, we present recent contributions of SFC applications to environmental issues. In recent years there has been an effort to use the SFC approach together with agent-based modeling, which we discuss in section 7. In section 8, we conclude with a discussion of the name “stock-flow consistent.” We argue that the name is sometimes misleading and confusing; as we already mentioned, accounting consistency is just one side of the SFC approach, with a demand-led economy and an explicit treatment of the financial side being the other. Finally, we need to say that there were two excellent survey papers of the SFC literature before this one: the first is Dos Santos (2006), written in the early era of SFC modeling, which tries to locate the SFC approach within different strands of Keynesian macroeconomic thought; and the second is Caverzasi and Godin (2014). The purpose of our paper is of course to update these surveys with the burgeoning recent literature, but also approach some issues from a different angle. In particular, we aim to provide a survey that is pedagogical and rigorous but also accessible to the nonspecialist reader. Moreover, along the discussion we try to make clear the links between the theoretical elements underpinning the SFC methodology and broader macroeconomic debates, e.g., the “twin-deficits” hypothesis or the impact of austerity. Finally, our paper discusses some questions that cannot be found in these other papers, such as the meaning of the name “stock-flow consistent.” 2. BASIC PRINCIPLES 2.1 Accounting Consistency We can identify four main accounting principles of SFC macroeconomic modeling: i. Flow consistency: Every monetary flow comes from somewhere and goes somewhere. As a result, there are no “black holes” in the system. For example, the income of a household is a payment for a firm, and the exports of one country are the imports of another. In the jargon of the 7 System of National Accounts (SNA) (European Commission et al. 2009), this type of flow consistency between units (household-firm; country A–country B) is called “horizontal” consistency. Another type of flow consistency is “vertical” consistency, meaning that every transaction involves at least two entries within each unit, usually referred to as “credit” and “debit.” For example, when a household receives income, its deposits are credited by the same amount. ii. Stock consistency: The financial liabilities of an agent or sector are the financial assets of some other agent or sector. For example, a loan is a liability for a household and an asset for a bank; a Treasury bond is a liability for the government and an asset for its holder. As a result, the net financial wealth of the system as a whole is zero. iii. Stock-flow consistency: Every flow implies the change in one or more stocks. As a result, the end-of-period stocks are obtained by cumulating the relevant flows, and taking into account possible capital gains. More formally, Ω Ω , where Ω is the monetary value of the stock at the end of period t, is the relevant flow, and are net capital gains. Thus, stock- flow consistency implies that positive net saving leads, ceteris paribus, to an increase in net wealth and vice versa. For example, when the net saving of a household is positive, one or more of its assets increase (or one or more liabilities decrease) and its net wealth—save for capital gains—also increases. Obviously, this equation can be rewritten as ΔΩ , where Δ is the difference operator. From this perspective the change in the stock, which is a flow in itself, is equal to the related flow and the capital gains. Stock-flow consistency is thus a logical corollary of the “vertical” flow consistency. The flow-of-funds (FoF) accounts usually have separate tables for the flows (ΔΩ ) and the level of stocks (Ω ) of financial assets.2 2 In the United States, the FoF accounts are released by the Federal Reserve System, and are also published as “integrated macroeconomic accounts” by the Bureau of Economic Analysis. In the eurozone, these accounts are usually called “financial accounts” and are published by the national central banks and Eurostat, but they have a broadly similar format. 8 iv. Quadruple entry: These three principles, then, imply a fourth one: that every transaction involves a quadruple entry in accounting. For example, when a household purchases a product from a firm, the accounting registers an increase in the revenues of the firm and the expenditure of the household, and at the same time a decrease in at least one asset (or increase in a liability) of the household and correspondingly an increase in at a least one asset of the firm. Quadruple- entry bookkeeping was introduced by Morris Copeland (1947, 1949) and is now the fundamental accounting system underlying the SNA because it ties together the various types of accounting consistency and therefore guarantees the accounting consistency of the system as a whole (European Commission et al. 2009: 50). Among others things, these principles mean that the accounting structure of the SFC models follows that of the SNA—albeit with a varying level of detail determined by the research question that the model wants to address. The accounting structure of SFC models is summarized within two matrices: the balance-sheet matrix and the transactions-flow matrix. Table 1: Balance-Sheet Matrix (1) (2) (3) (4) (5) (6) Households Production Firms Government Central Bank Banks Total (A) Fixed capital +PK +PK (B) HPM 0 (C) Deposits 0 (D) Loans 0 (E) Bills 0 (F) Bonds 0 (G) Equities 0 (H) Balance (net worth) -PK (I) Sum 0 0 0 0 0 0 We can make the above clearer by introducing the accounting structure of a baseline model. Table 1 presents the balance-sheet matrix of a closed economy divided into five sectors: households, firms, government, the central bank, and banks. We assume the existence of six financial assets: high-powered money (HPM), deposits, loans, bills, bonds, and equities. These assets have one important difference related to their rate of return: the nominal rate of return of HPM is zero, while deposits, loans, and bills have a nominal rate of return equal to their 9 respective interest rate. On the other hand, the overall rate of return on bonds and equity consists not only of their income return (interest and dividends, respectively) but also of the possible capital gains. The positive sign in the matrix denotes an asset and the negative a liability; the subscript denotes the holder of the related instrument. For example, bills (B) are a liability for the government but an asset for households, banks, and the central bank. The principle of stock consistency is captured in the matrix by the sum of each row of financial assets being equal to zero. To continue with the bills, the amount of government liabilities under this form of bills is exactly equal to the holdings of bills on behalf of the other sectors, so that . An important conclusion of this accounting exercise is that the common conception that government debt is a liability for future generations is misguided. Assuming that the government debt is not held by foreigners, table 1 is telling us that it is a liability for the government and thus the taxpayers of the economy, but at the same time it is an asset of households and other domestic sectors. The “future generations” that will have to pay for this debt—if they will have to—will also earn the proceeds of these payments. The only tangible asset in table 1 is fixed capital, which is an asset of the firms. Because of the stock consistency, all financial assets and liabilities cancel out. As a result, the overall net worth of the economy is equal to the value of the tangible assets—in this case, the fixed capital. An important decision one needs to make when building an SFC model is how many assets to include. The more assets one includes, the more realistic the model becomes and the more real features of an actual economy it can potentially capture; however, this comes at the cost of the model becoming exponentially more complicated and less intuitive. For instance, in table 1, residential capital has been omitted from the matrix. A second, related decision has to do with the holders of each asset. In reality, every sector holds (almost) every asset, but in a model one may choose to focus on only certain holders of each asset to keep the model as simple as possible.3 These questions have to be addressed in relation to the research question at hand. 3 For example, in the present case we have implicitly assumed that only firms issue equities, which are held by households, the banks, and the central bank. 10 Table 2: Transactions-Flows Matrix (1) (2) (3) (4) (5) (6) (7) Households NFC Government Central Bank Banks Total Current Capital Transactions (A) Consumption 0 (B) Investment 0 (C) Gov. Expenditure 0 (D) [memo: Output] (E) Wages 0 (F) NFC Profits , , 0 (G) Taxes 0 (H) C.B. Profits 0 (I) Interest on Deposits 0 (J) Interest on Loans 0 (K) Interest on Bills 0 (L) Interest on Bonds 0 Flow of Funds (M) [memo: Net Lending] 0 (N) Δ in HPM 0 (O) Δ in Deposits 0 (P) Δ in Loans 0 (Q) Δ in Bills 0 (R) Δ in Bonds 0 (S) Δ in Equities 0 (T) Sum 0 0 0 0 0 0 The accounting skeleton of the model is completed with the transactions-flows matrix, presented in table 2. The matrix may seem intimidating to an unexperienced eye, but it is not that complicated. Starting from column (2) in the upper part of the table we can see that—following the national accounts—total output is decomposed on the expenditure side into total consumption (PC), investment (PI), and government expenditure (PG), and on the income side into wages (W) and profits (Π). A convention of the matrix is that sources of funds are denoted with a plus sign and uses of funds with a minus sign. Horizontal flow consistency requires that for each category of transactions the flow and uses of funds sum to zero. For example, in row (D) we see that the wages are a use of funds for the firms but a source of funds for the households. The other income sources of funds for the households are the distributed profits (Π , ) and the interest income on the various assets they are holding. On the other hand, a household’s major uses of funds are the purchase of consumption goods, paying taxes ( ), and the interest on their loans. The latter is equal to the interest rate on loans times the stock of their loans in the previous period ( ). 11 The difference between the overall sources and uses of funds is equal to the net lending of the sector. In the case of the household sector that is: Π , (1) Vertical accounting consistency requires specifying where this net lending goes. As we can see at the bottom part of column (1), positive net lending means an increase in the various financial assets held by the households (denoted with a minus sign since this is a use of funds) or a decrease in their loans. An important decision, which we will discuss in more detail in the following section, is how the households and the other sectors allocate not only their net lending, but also their already accumulated wealth among these assets. Overall, vertical consistency requires that the sum of each column of the table is also equal to zero. The rest of the matrix can be read in a similar way, so we do not need to go through every entry. Four more comments are in order here. First, whenever a payment implies a change in the stock of real or financial wealth it is a good idea to record it separately in the capital account. Therefore, in principle, all entries in the FoF part of the table should appear in a “financial/ capital account” column of each sector, with net lending transferred from the current account to the capital/financial account. In that sense the households would transfer their net lending to their capital account and this account would then record the changes in their assets and liabilities. For reasons of simplicity and economy of space, we opted for a simpler layout with one account for each sector. The only sector where we cannot apply this simplifying treatment is the corporate sector. Investment (PI) is a transaction that takes place within the corporate sector: some firms buy investment goods from other firms that produce them. Similarly, the retained profits net of taxes and interest payments (Π , Π ) are also an income “transfer” that takes place within the sector. To capture these intrasectoral transactions in a consistent way, we need to have the capital account of the firms in column (3). The difference between Π , and investment is 12 equal to the net lending of firms. At the lower part of the table we see that a negative lending (a net borrowing) is covered either by the issuance of new equity or by taking on more loans. Π , Δ Δ (2) Second, the horizontal consistency also applies to the FoF part of the matrix, so that the overall change in every asset is equal to the change in the corresponding liability. For example, the increase in the loans offered by banks is equal to the increase in the loans assumed by households and firms; therefore, the stock consistency of the system is maintained. Algebraically, that means that the sum of each row in the lower part of the matrix is also zero. The end-of-period values of the assets in the balance-sheet matrix (table 1) are equal to their value at the beginning of the period plus the change during the period (as captured in the lower part of table 2) and possible capital gains. In that sense, the FoF subtable provides the link between the balance-sheet matrices of successive periods. For example, in the case of the stock of loans—which do not have a price and therefore no capital gains are involved—their end of period value is: Δ (3) with the latter term of the equation coming from the FoF subtable. In the case of assets with an explicit price, the end-of-period stock needs to take capital gains into account. So, the end-of- period stock of equities is: ∙ ∙ Δ Δ ∙ (4) where the last term Δ ∙ captures the capital gains, which are equal to the change in the value of the stock of equities at the end of the previous period ( ) due to changes in their prices (Δ ). The institutions that produce FoF data usually provide a separate matrix, the so- called “revaluation matrix,” with information on the revaluation of the assets. 13 Finally, another important corollary of doing the accounting right is that the sum of the net lending of the sectors of our system is equal to zero: 0 (5) This is an important insight that was first pursued consistently by Godley in the late 1970s (Godley and Cripps 1983). Although it is a simple accounting identity, it has far-reaching consequences for macroeconomic analysis and it is a good example of why a careful specification of the accounting structure of a model is essential. One of the most important of these consequences is that negative net lending on behalf of a sector will tend to increase its debt-to-income ratio. For example, if we assume that the net lending of the banking sector in equation (5) is zero and the government is running large surpluses, then the private sector (households and firms) must be running large deficits, which in turn leads, ceteris paribus, to an increase in the indebtedness of that sector. A prolonged period with such a configuration can lead the private sector—to use the Minskyan terminology—from a hedge, to a speculative, and then a “Ponzi” position (Minsky 1975, 1986). This is an important point of contact between the SFC approach and the Minskyan analysis of financial markets and it also emphasizes the interlinkages between the balance sheets of each sector and the net lending position of the other sectors. Another way to portray the accounting skeleton of an economy is the so-called social accounting matrix (SAM). The SAM methodology was first introduced by Richard Stone and was then further developed as a base for multiplier fixed-price as well as for CGE models (see the references in the introduction). For reasons of economy of space, we discuss the SAM exposition in the appendix. For here it suffices to say that in a macro model, the choice between a transactions-flow matrix and a SAM is a matter of taste. If properly constructed, both matrices can convey the same information and guarantee the accounting consistency of the model. 14 2.2 Closure, Behavioral Specification, and Equilibrium Accounting consistency is a very important part of SFC methodology. Doing the accounting correctly reduces the degrees of freedom of a model and provides some important insights by itself. However, as Taylor and Lysy (1979) demonstrated in the context of CGE models, the conclusions of a model crucially depend on its “closure” (the direction of causality among the macroeconomic variables). In that respect, the SFC literature has developed mostly inside the Keynesian school: it is aggregate demand that sets the tone for the economy not only in the short run but also in the long run. Neoclassical macroeconomic models are—or should be—stock-flow consistent and thus satisfy the principles of the previous subsection.4 However, in such models economic activity is determined from the supply side and finance plays a minor role. Another important part of the model is its behavioral specification. From a technical point of view, if a model needs to determine n endogenous variables, and its accounting skeleton provides us with k independent accounting identities, we need n-k more equations to solve the model.5 These equations are provided by the specification of the behavior of the various agents and sectors of the model. There are five broad categories of behavioral assumptions that one needs to make. First, we need to specify how the agents determine their expenditure. In the model of table 2, we need to specify a consumption function, an investment function, and a government expenditure function. The latter is usually treated as a discretionary policy instrument, or modeled as a reaction function. The most common specification of the consumptions function is: , (6) 4 One important counterexample is the famous textbook IS-LM model, which is not stock-flow consistent. For the implications of stock-flow inconsistency in the IS-LM model, see Godley and Shaikh (2002). 5 Note that the identities resulting from the transaction matrix are such that one can be obtained as a linear combination of the others, and must therefore be dropped from the simulation to avoid overdetermination. This is the so-called “redundant equality” (Godley and Lavoie 2007:14). The same applies to the identities embedded in the balance sheet. 15 where , is the nominal disposable income of the households and , are positive constants. In other words, real consumption is assumed to be a function of real disposable income and the lagged real wealth. On the other hand, the investment function is usually a variant of the following specification: Π , (7) Investment (normalized for capital stock) is a positive function of retained profits ( , / ), the degree of indebtedness ( / ), the valuation ratio ( / ), and capacity utilization ( / ). 6 An important feature of both consumption and investment as specified above is that they depend on past values of stocks of assets and liabilities (the stock of wealth, of loans, of capital, etc.). In other words, the stocks, as determined at the end of each period, feed back into the flows of the next period, which in turn determine the stocks of that period and so on. This makes the model dynamic, and the position of the system at every time period is determined by its historical path. The second category of behavioral assumptions is related to how the agents finance their expenditure and possible net borrowing positions. In our example, one needs to specify: how the government decides the portion of its deficit that is covered through short-term bills and long- term bonds; how the firms will cover a possible discrepancy between investment and retained profits; and finally how households decide how much of their expenditure will be financed with new loans. It is common to specify this set of decisions as simple linear functions, e.g., the demand for loans on behalf of households is a constant proportion of their income (Godley and Lavoie 2007a: ch.11) or that firms finance a fixed proportion of their investment with new equities (Lavoie and Godley 2001; Taylor 2004a: ch. 8; Godley and Lavoie 2007a: ch. 11). It 6 The specification of investment is famously difficult and controversial, but at the same time necessary within a Keynesian framework. Equation (7) builds on the recent post-Keynesian and Kaleckian literature (Steindl 1952; Rowthorn 1981; Taylor 1983; Dutt 1984; Bhaduri and Marglin 1990; Minsky 1986) and the so-called “q-theory of investment,” as proposed by James Tobin (Brainard and Tobin 1968; Tobin 1969). Variants of this specific functional form within an SFC model can be found in Lavoie and Godley (2001) and have been subsequently used in other forms by Taylor (2004: ch. 8) and Godley and Lavoie (2007: ch. 11). Fazzari and Mott (1986) and Ndikumana (1999) have found empirical evidence that supports it. 16 goes without saying that a more sophisticated specification is possible, albeit at the cost of increasing the complexity of the model. The third category of behavioral assumptions is how agents, especially households, allocate their wealth. With reference to tables 1 and 2, we can see that a household’s decision on how much to consume and borrow also implies how much they will save, which in turn—together with the stock of wealth from the previous period and possible capital gains—determines the value of their stock of wealth at the end of the period. The question then is how households allocate this wealth between various possible assets. If there are m possible assets, one needs to specify the demand for m-1 of them, with the demand for the last one following residually. Assets are usually allocated according to “Tobinesque” principles (Tobin 1969, 1982b; Godley 1999b; Godley and Lavoie 2007a: ch. 5). More formally, the demand for the various assets is specified as: , / ) (8) where is a vector of the demand for m assets as a share of total wealth, is a vector of constants, R is a vector of the (expected) real rates of returns of the various assets, and is a square matrix of the effects of the returns of the assets on their demand and the demand for the other assets (with the main diagonal of the matrix capturing the effect of the rate of return of each asset on its own demand). Finally, is a vector that captures the effect of disposable income on the demand for the assets. The size of the vectors and the order of is m. The real rate of returns for each asset is comprised by its income yield (interest or dividend) and capital gains corrected for inflation. The logical constraints on these vectors are: i) that the sum of the elements of is equal to unity, meaning that the sum of the shares of each asset are equal to unity; and ii) that the sum of each of the columns of and the elements of are equal to zero, meaning that an increase in the demand for an asset—due to a change in the return on an asset or disposable income—needs to be matched with an equiproportional decrease in demand for one or more other assets. To 17 close the specification of the parameters of equation (8), Godley (1996) proposed an additional constraint: the sum of each row of needs to be equal to zero, meaning that the effect of a change in the return on an asset, all other returns remaining equal, should, in principle, be the same as the effect of an equiproportional change of the other returns, with the specific return remaining constant. A common alternative to this horizontal constraint follows Friedman (1978) and Karacaoglu (1984) and assumes that the is symmetric. The symmetry constraint implies the horizontal adding-up constraint, but not the other way around. A fourth set of behavioral assumptions is related to the specification of productivity growth, wages, and inflation. The SFC literature so far has not focused on productivity issues. As a result, productivity is usually assumed to be constant or in some cases to grow at an exogenously given rate. Inflation is the result of the conflict between wage earners and their employers. The former are posited to have certain real wage aspirations that depend on labor productivity and the state of the labor market, and the nominal wage reacts—through a certain parameter—to the gap between the targeted and actual wage. The price level is then determined with a markup on the unit cost of production. To close the system, one then needs to specify a final (fifth) set of assumptions about the behavior of the financial system. More specifically, we need to specify the behavior of the banks and how monetary policy is conducted. For example, with regard to the latter, a common assumption is that the central bank buys any quantity of government liabilities that are not demanded by the private sector and supplies an amount of HPM equal to its demand. In that way, it is able to exogenously set the interest rate and the quantity of money becomes endogenous; this is in opposition to the common neoclassical quantity theory of money, where it is the central bank that exogenously determines the quantity of money. When it comes to the banks, we again need to specify what assets are issued by other entities, what quantities of these assets they choose to hold, and, very importantly, how they supply credit. Common specifications include a purely Wicksellian type of banking sector, where banks supply whatever loans are demanded (for example, this is the running assumption in most chapters of Godley and Lavoie [2007a]) or some kind of credit rationing (e.g., Le Heron and Mouakil 2008; Caiani et al. 2016). 18 The accounting skeleton, as sketched in the previous section, together with the demand-led closure, and the behavioral assumptions for the components of aggregate demand, and the explicit treatment of financial assets allows for an integrated analysis of the real and the financial sides of the economy. These kinds of models are diametrically opposed to models that have dominated macroeconomic discourse over the last three decades, where the real variables are independent from the monetary variables. In SFC models, decisions made by the agents of the economy on debt, credit, and assets and liabilities allocation have an impact on the determination of the real variables and vice versa. As the recent crisis made very clear, this is a better way to understand a modern capitalist economy. In the short run, “equilibrium” is reached through price adjustments in financial markets, while output adjustments guarantee that overall saving is equal to investment. However, such “equilibrium” is not a state of rest, since the expectations that drive expenditure and portfolio decisions may not be fulfilled, and/or the end-of-period level for at least one stock in the economy is not at its target level, so that such discrepancies influence decisions in the next period. In theoretical SFC models, the long-run equilibrium is defined as the state where the stock-flow ratios are stable. In other words, the stocks and the flows grow at the same rate. The system converges towards that equilibrium with a sequence of short-run equilibria, and thus follows the Kaleckian dictum that “the long-run trend is but a slowly changing component of a chain of short-run situations; it has no independent entity” (Kalecki 1971: 165). The adjustment takes place because stocks and stock-flow ratios are relevant for the decisions of the agents of the economy. If stocks did not feed back into flows, the model may generate ever-increasing (or decreasing) stock-flow ratios: a result that might be stock-flow consistent, but at the same time unendurable. The convergence towards the long-run equilibrium also depends on more conventional hypotheses regarding the parameters of the model. Τhe relevance of stocks also implies that agents have some desired stock-flow “norm” that they are trying to achieve. For example, using the identity Δ , we can rewrite the consumption function of equation (6) as: 19 Δ , (9) where 1 / is the ratio of wealth to income (a stock-flow norm) that households target. The change in wealth, and thus also consumption, is a reaction to the discrepancy of this norm from the actual ratio. When the ratio of (lagged) wealth to income is lower than the norm (when the term in square brackets is positive), households will adjust their behavior accordingly to move closer to their target. In the long-run equilibrium the stock-flow norm is achieved. Besides its theoretical interest at a practical level and in more policy-oriented analyses, a so- defined long-run equilibrium can act as a benchmark because a situation that is characterized by a constant increase (or decrease) in a stock-flow ratio is likely to be unsustainable. For example, Godley (1999a) characterized the configuration of the US economy as unsustainable because of the high net borrowing of the private sector, which led to a continuous increase in its debt-to- income ratio. 3. EXTENSIONS: FINANCE, THE MONETARY CIRCUIT, AND INCOME DISTRIBUTION As mentioned above, the main purpose of the SFC approach is to provide an integrated framework for treating the linkages between the real and financial sectors. For that reason, the baseline model of the previous section can be, and has been, extended to examine issues of this kind, the treatment of which does not allow abstraction from either the real or the financial side of the economy. Some important extensions of the model are related to financialization, i.e., “the increasing role of financial motives, financial markets, financial actors, and financial institutions in the operation of the domestic and international economies” (Epstein 2005: 3). Two integral parts of the process of financialization—which have also been treated in the literature—are the new perspective on corporate governance that prioritizes shareholder value as the ultimate goal of a firm (Lazonick 20 and O’Sullivan 2000) and the increase in income inequality that has accompanied these trends over the last three-and-a-half decades. Moreover, in highlighting real-financial interactions the SFC approach has many similarities to the theory of the monetary circuit (TMC), usually associated with Augusto Graziani (2003). Such similarities were noted early (Godley 2004; Lavoie 2004) and paved the way for a number of circuitist analyses of the developments in the financial sector (Bellofiore and Passarella 2010; Passarella 2012, 2014; Botta, Caverzasi, and Tori 2015; Sawyer and Passarella 2017), as well as comparisons between the TMC and SFC approaches (Zezza 2012). In a fairly complex model, Botta, Caverzasi, and Tori (2015) disaggregate the household sector into “workers” and “rentiers,” and introduce special purpose vehicles, money market mutual funds, investment funds, and “broker and dealers” as parts of the financial sector, with a high level of detail in the balance sheet for each sector, where they consider two real assets (productive capital and housing) and nine financial assets (loans, mortgages, deposits, obligations of financial and nonfinancial firms, money shares, longer shares, asset-backed securities, and repos). They provide a very rich and enlightening view of a complex, modern financialized economy, but do not attempt to provide formal behavioral rules for portfolio management, nor a closure for their model, which therefore is limited to a (very interesting) accounting framework. Sawyer and Passarella (2017) adopt a simpler accounting structure, distinguishing only banks from other financial intermediaries, and only consider loans, deposits, securities, and derivatives; however, they provide a full-blown “behavioral” model, which they use for simulating the impact of different shocks to the economy. They show how the TMC distinction between “initial finance” (the creation of liquidity to finance the start of the production process) and “final finance” (the sources of funds for investment) is very relevant for understanding financialization. They also distinguish between workers and rentiers in order to examine the role of changes in the personal distribution of income due to financialization, showing that the transformation of household loans into financial products, along with the effect of the class divide on access to 21 bank credit, are the main drivers of a worsening in income distribution and an increase in household debt. An early SFC treatment of financialization (not explicitly linked to TMC) is Skott and Ryoo (2008). They demonstrate that the effects of financialization critically depend on whether we assume a labor-constrained “mature” economy or a “dual” economy. Further work that addresses financialization and income distribution is van Treeck (2009), who pays particular attention to the shareholder value orientation. The simulations of his model reproduce some central stylized facts of financialization, like the decoupling of profitability from investment and the increase in income inequality. Related to that, Dallery and van Treeck (2011) develop a model to study the conflicting claims among workers, shareholders, and managers, using model simulations to generate patterns resembling the stylized facts of a “Fordist regime,” where capital accumulation is the primary objective of managers, and a “financialization regime,” where the maximization of shareholder value is the primary goal. A large number of contributions adopt the SFC methodology to formalize Minskyan concepts, especially after the 2007–9 recession, which brought Minsky back into fashion (Dos Santos 2005; Dos Santos and Macedo e Silva 2009; Bellofiore and Passarella 2010; Morris and Juniper 2012; Dafermos 2015). Well before the recession, Dos Santos (2005) noted that the attempts at formalizing Minsky’s “financial instability hypothesis” were lacking a common ground, while the SFC approach could provide a framework where many of Minsky’s insights, such as the interrelation among balance sheets, could be better dealt with. Later contributions, such as Dos Santos and Macedo e Silva (2009), tried to show how SFC models could provide a starting point for a dynamic analysis of a business cycle with Minskyan features, a result that is achieved with a model of greater complexity by Dafermos (2015), who combines Godley’s New Cambridge approach with some Minskyan assumptions. In his model, private expenditure is driven by a target net-assets-to-income ratio, but such a target ratio—following Minsky—changes over the cycle as a result of changes in expectations and the conventions of borrowers and lenders. In this way the model is useful for understanding how instability can emerge and which policies are appropriate to counter such instability. 22 The SFC approach to a closed economy has also been used for a more detailed treatment of the household sector, which allows one to deal with issues related to the distribution of income. Dafermos and Papatheodorou (2015) develop a model with rich detail in household groups, which are split among low and high skilled, employed and unemployed, and entrepreneurs. This framework allows the authors to consistently address the link between the functional and the personal distribution of income. In a more recent paper, Nikiforos (2017) presents a model that shows how, in the face of an increase in income inequality, the decrease in the saving rate (and thus the increase in the indebtedness) of the households at the bottom 90 percent of the distribution was a prerequisite for the maintenance of full employment in the three decades before the crisis. In turn, the asset bubbles of the period were necessary for sustaining this process. Nikiforos, following Godley (1999a), Zezza (2011), and Papadimitriou et al. (2014), calls the increase in income inequality the “eighth unsustainable process” of the US economy and argues that a decrease in inequality is necessary for sustainable growth in the future. The core model has also been extended to include more than one real asset. The role of the housing market bubble in the Great Recession of 2007–9 led to SFC models that treated residential capital separately and examined the relation between real estate prices and income distribution. Zezza (2007, 2008) built models to explore the distributional implications of the housing market boom. Similar arguments have been put forward by Lavoie (2008) and Nikolaidi (2015). Finally, in a recent paper, Herbillon-Leprince (2016) extends the model to include—in addition to residential capital—land owned by a capitalist-landowner sector and whose supply is constant. 4. MODELING THE OPEN ECONOMY The discussion so far has been limited to closed-economy models. However, open-economy models are able to provide significant insights at both a theoretical and a practical level. This is a statement that applies to all macroeconomic models, but is especially true for SFC models. 23 Introducing the open economy in a consistent way means that one needs to specify the structure of the domestic and the foreign economy, as well as the interactions between them. As in the case of the closed economy, we can start from the balance sheets. Table 3 presents the balance sheets of various sectors for a two-economy model. The sectoral decomposition of the two economies is the same as in the closed-economy model of section 2, as are the available assets. The difference is that there are financial assets issued domestically and in the foreign country. Agents hold assets and assume liabilities issued both in their country and abroad. The symbol * denotes abroad. When it comes to assets, the superscript * denotes assets issued abroad, while the subscript * refers to assets held abroad. So, for example ∗ is foreign HPM held by domestic households, while ∗ ∗ is foreign HPM held by households abroad. The balance sheets of each economy are denominated in local currency. Therefore, the assets issued abroad are converted into the local currency with the use of the exchange rate (ε), i.e., the number of domestic currency units per foreign currency unit. As a result, all the assets issued in the foreign economy are included on the domestic balance sheets, multiplied by ε and vice versa. 24 Table 3: Balance-Sheet Matrix for Two Economies Domestic Economy Foreign Economy (1) (2) (3) (4) (5) (6) (7) (8) (9) (10) (11) (12) Households Production Firms Government Central Bank Banks [XR] Households Production Firms Government Central Bank Banks Total (A) Fixed capital ∗ ∗ ∗ ∗ D om es ti ca ll y is su ed a ss et s (B) HPM 1/ ∗ 0 (C) Deposits 1/ ∗ 0 (D) Loans 1/ ∗ 1/ ∗ 0 (E) Bills 1/ ∗ 1/ ∗ 0 (F) Bonds 1/ ∗ 1/ ∗ 0 (G) Equities 1/ ∗ 1/ ∗ 0 F or ei gn is su ed as se ts (H) HPM ∗ ∗ ∗ ∗ ∗ ∗ 0 (I) Deposits ∗ ∗ ∗ ∗ ∗ 0 (J) Loans ∗ ∗ ∗ ∗ ∗ ∗ ∗ ∗ 0 (K) Bills ∗ ∗ ∗ ∗ ∗ ∗ ∗ ∗ ∗ ∗ ∗ 0 (L) Bonds ∗ ∗ ∗ ∗ ∗ ∗ ∗ ∗ ∗ ∗ ∗ ∗ ∗ ∗ ∗ ∗ ∗ ∗ 0 (M) Equities ∗ ∗ ∗ ∗ ∗ ∗ ∗ ∗ ∗ ∗ ∗ ∗ 0 (N) Net worth ∗ ∗ ∗ ∗ ∗ ∗ ∗ ∗ ∗ ∗ ∗ ∗ (O) Sum 0 0 0 0 0 0 0 0 0 0 0 25 In table 3 we have assumed that the agents of each economy hold the same types of domestic and foreign assets. For example, households in both countries hold all types of assets and assume loans issued both from the banks of their countries and banks abroad. The only exception is the central banks of the two countries. Implicitly, an underlying assumption for table 3 is that foreign currency has the special status of a reserve currency, so the domestic central bank holds foreign assets as reserves while the foreign central bank (presumably that of the US) holds no foreign assets. Accounting consistency dictates that the financial assets of someone are the liabilities of others; therefore each row of the table (adjusted by the exchange rate) sums to zero and the overall net financial asset position (NFA) of the whole system is zero as well. The overall net worth of the two economies combined is equal to their tangible assets, whose value in domestic currency units is ∗ ∗. Since the overall NFA of the system is zero, if one country has a positive NFA, then the other’s is negative: ∗. 26 Table 4: Transactions-Flow Matrix for Two Economies Domestic Economy Foreign Economy (1) (2) (3) (4) (5) (6) (7) (8) (9) (10) (11) (12) (13) (14) Households NFC Government Central Bank Banks [XR] Households NFC Government Central Bank Banks Total Current Capital Current Capital (A) Transactions 0 (B) Consumption ∗ ∗ ∗ ∗ 0 (C) Investment ∗ ∗ ∗ ∗ 0 (D) Gov. Expenditure ∗ ∗ ∗ ∗ 0 (E) Domestic Exports ∗ ∗ 0 (F) Domestic Imports ∗ ∗ 0 (G) [memo: Output] ∗ ∗ (H) Wages ∗ ∗ 0 (I) Dom. Profits Π , Π Π , 1/ Π , ∗ 0 (J) For. Profits Π , ∗ Π , ∗ ∗ Π∗ Π ,∗ 0 (K) Taxes ∗ ∗ ∗ ∗ 0 (L) C.B. Profits Π Π Π∗ Π∗ 0 Interest on (M) Dom. Deposits 1/ ∗ 0 (N) Dom. Loans 1/ ∗ 1/ ∗ 0 (O) Dom. Bills 1/ ∗ 1/ ∗ 0 (P) Dom. Bonds ∗ 1/ ∗ ∗ 1/ ∗ 0 (Q) For. Deposits ∗ ∗ ∗ ∗ ∗ ∗ ∗ ∗ 0 (R) For. Loans ∗ ∗ ∗ ∗ ∗ ∗ ∗ ∗ ∗ ∗ ∗ ∗ ∗ 0 (S) For. Bills ∗ ∗ ∗ ∗ ∗ ∗ ∗ ∗ ∗ ∗ ∗ ∗ ∗ ∗ ∗ ∗ ∗ 0 (T) For. Bonds ∗ ∗ ∗ ∗ ∗ ∗ ∗ ∗ ∗ ∗ ∗ ∗ ∗ ∗ ∗ ∗ ∗ 0 Flow of Funds (U) [memo: Net Lending] ∗ ∗ ∗ ∗ ∗ 0 (V) Δ in ∗ ∗ ∗ ∗ ∗ 0 (W) Δ in ∗ ∗ ∗ ∗ ∗ ∗ ∗ ∗ ∗ ∗ ∗ ∗ ∗ ∗ ∗ ∗ 0 (X) Sum 0 0 0 0 0 0 0 0 0 0 0 0 27 The transactions-flow matrix (table 4) is also easily understood based on the principles laid out in section 2. A few comments are important. First, as we can see in rows (E) and (F), accounting consistency dictates that the exports of one country are the imports of the other country. This is a trivial but often neglected point. The policy recommendations advising that all countries should try to increase their competitiveness and pursue export-led growth violate this principle, as one country cannot pursue export-led growth if at least one other country does not absorb these exports. Another difference of the open-economy transactions-flow matrix is that the sectors receive and pay income abroad based on the respective foreign-denominated assets and liabilities they hold. For example, because they hold equities of foreign firms, domestic households now receive dividends from abroad ( Π , ∗ ), as well as interest income on deposits at foreign banks, and bills and bonds issued abroad. In turn, they pay interest for loans they have taken from foreign banks. The net income transfers together with the trade balance sum up to the current account balance, or the net lending of the foreign sector ( ). A positive trade balance and a positive net interest income contribute to a positive current account balance (or to a negative ; i.e., the foreign sector is a “net borrower”). As in the case of the closed economy, positive net lending for a sector leads to an increase in the sector’s NFA. For reasons of economy of space, the FoF part of table 4 does not present the changes in every asset and liability in detail; it summarizes the change in the net financial position in domestic and foreign assets. Moreover, as before, the sum of the net lending of the various sectors of the economy is equal to zero. The important thing here is that now the net lending of the foreign sector is included in this identity. If we group the domestic sectors into a private and a government sector, this implies that: 0 (10) 28 where is the net lending position of the private sector. In the related literature, equation (10) is often referred to as the “three balances” or the “fundamental identity” (Lavoie 2014: 258). The examination of the three balances in conjunction with total income can help us identify which component of aggregate demand contributes to growth. The net lending position of each sector also gives us information about the trajectory of its debt and net worth. This kind of analysis based on the three balances was the central axis of Godley’s Seven Unsustainable Processes (1999a), the most famous piece on economic policy based on SFC methodology. The main idea of Godley’s argument is that during the 1990s, the United States experienced a large exogenous increase in their current account deficit (due to the “successful invasion” of their markets by foreign competitors) and the government consolidated its budget (2000 was the only year in the postwar period that the government sector achieved a surplus). As a result, and based on equation (10), the only way for the economy to sustain the robust growth of the period was through a large increase in net borrowing and thus the indebtedness of the private sector. In fact, the rate of the accumulation of debt was so fast that despite the high growth rate of the economy, it led to a continuous increase in the debt-to-income ratio of the private sector—a Minskyan process where the private sector moves from a hedge, to a speculative, and then a Ponzi position. As we explained above, a process that entails a continuous increase of a stock-flow ratio is unsustainable. A more formal discussion of Godley’s argument can be found in Nikiforos (2017). Therefore, the three balances approach ties together the performance of the foreign sector and the fiscal stance of the government with the trajectory of the balance sheets of the private sector and the performance of the economy. This approach remains a central aspect of the Levy Institute’s policy analyses for the US economy, which are produced with updated versions of the model that Godley created in the 1990s and used for his “Seven Unsustainable Processes” Papadimitriou, Hannsgen and Nikiforos 2013; Papadimitriou et al. 2014, 2015; Papadimitriou, Nikiforos, and Zezza 2016b; Nikiforos and Zezza 2017); the same is true for the SFC macroeconometric model that we recently developed for the Greek economy (Papadimitriou, Nikiforos, and Zezza 2013). One of the main underlying assumptions of the austerity policies in Greece and elsewhere in Europe is that austerity (a steep increase in ) will improve the competitiveness of the country 29 and thus decrease without a negative effect on the growth rate. In reality, although austerity has led to an increase in and a decrease in , the adjustment took place through the output: the operation succeeded, but the patient died (Papadimitriou, Nikiforos, and Zezza 2013b, 2014a, 2014b, 2014c, 2015, and 2016a) An analysis of eurozone imbalances through the prism of the three balances is also provided in Semieniuk, van Treek, and Truger (2011). Notice that the analysis of the three balances requires the specification of the closure of the model. More precisely, one needs to define: (i) if the economy is demand led or supply led; and (ii) how the causality runs between the net lending of the three sectors. For example, in “Seven Unsustainable Processes,” Godley (1999a) assumes a demand-led economy where the increase in the trade deficit is exogenous—due to the successful invasion of the US markets—and thus the causality runs from to the domestic sector. In the case of the US, the possibility that the causality is running this way has also been highlighted by Darrat (1988) and Stiglitz (2010: ch. 8). In the case of the eurozone, many authors have argued that the high private and public deficits of the peripheral countries are simply the mirror image of the exogenous decrease of the current account balance due to the real exchange rate appreciation, the decrease in the transfers to these countries, and the structural deficiencies of the eurozone (Arghyrou and Chortareas 2008; Eichengreen 2010; Flassbeck and Lapavitsas 2013; Chen, Milesi-Ferretti, and Tressel 2013; Nikiforos, Carvalho, and Schroder 2015; Kang and Shambaugh 2016). On the other end, neoclassical economists usually maintain a different causal story, where the causality runs from the domestic sector—especially the government—to the foreign sector. This is the so-called “twin-deficits hypothesis” (Volcker 1984; Abell 1990). According to this hypothesis, a decrease in (or ) creates inflation and thus has a negative impact on competitiveness, with the result being that increases. Thus austerity can help increase competitiveness without a negative impact on the growth rate. Several studies that supported this interpretation provided the theoretical underpinnings of the austerity policies in the eurozone periphery (Blanchard and Giavazzi 2002; Jaumotte and Sodsriwiboon 2010; Decressin and Stavrev 2009; Schmitz and von Hagen 2011). A different neoclassical closure is the so-called “Ricardian equivalence,” where a change in leads to an equivalent change in in the opposite direction, leaving unchanged (Barro 1974). 30 The three balances approach can be extended within a two-country framework, like that in table 4. In this case the accounting identity of equation (10) needs to hold for each country individually, with the additional constraint that the net lending of one country is equal to the net borrowing of the other: 0 ∗ ∗ ∗ 0 ∗ (11) Combing these three equations we get: ∗ ∗ ∗ (12) Equation (12) shows how the balance of the sectors of the two countries—and therefore also their balance sheets—are connected. From this equation it becomes clear that by accounting principle it is impossible for both countries to simultaneously increase their current account balance: the surpluses of one country need to be absorbed by another. Another implication of this equation is that it is impossible to have foreign surpluses in one country and at the same time domestic surpluses—private or public—in the other. This simple accounting rule is often forgotten in the eurozone, where officials defend the trade surpluses of the north and demand the south decreases its public and private domestic borrowing. Another complication that arises in an open-economy framework is that one needs to define the mechanisms that determine the exchange rate. The economic performance of the economy, the portfolio choice of the agents, and the decisions of the policymakers are the main determinants of the exchange rate. In turn, the exchange rate will affect the performance of exports and imports, but also the portfolio choice of the agents (since it will affect the price of foreign assets in domestic currencies). This is yet another channel where the real and financial sides of the economy are integrated within the SFC framework. For example, a change in the portfolio preferences of the agents will tend to change the exchange rate and this will feed back into the real economy. 31 The center of gravity of the open-economy SFC literature is—as with other themes—the treatment in Godley and Lavoie (2007a). In chapter 6, they first introduce an economy with two regions but a common government and then sketch a “gold standard”–like two-country model, with the exchange rate being treated as a constant, where the central bank of each country holds gold reserves in addition to the domestic government bills. The foreign deficit of a country is matched by gold outflows and vice versa. There are two important results of this simple model that carry over to the more complicated models they introduce later. First, after a negative shock to net exports, the private sector does not receive any signal that something is wrong and its demand for assets and money are not affected. Second, the reduction in the gold reserves of the central bank is automatically compensated for by an increase in its holding of government securities (since the foreign deficit that precedes the former leads to government deficits and, thus, to the latter), and therefore the supply of money adjusts—endogenously—to meet its demand. These results stand in stark contrast with conventional wisdom, which posits that there is some automatic adjustment of the foreign balance.7 In the absence of an automatic correction the government needs to intervene and correct the imbalances. Chapter 12 introduces a two-country model where the exchange rate is determined endogenously to clear the international transactions for goods and financial assets. To close the model, they assume that private-sector demand for foreign financial assets is always satisfied and therefore the exchange rate is pinned down by the demand for and supply of the reserves of the central bank (of the country that does not issue the reserve currency). This is a common closure for the exchange rate in the literature, although there are several other possibilities. Godley and Lavoie distinguish between a regime where the central bank chooses to keep its reserves constant and allows the exchange rate to fluctuate, and three regimes with fixed exchange rates along the lines of their model in chapter 6. Their model shows again that there is no intrinsic mechanism that will correct possible foreign imbalances and that there has to be active government intervention. Exchange rate adjustment can be effective in correcting foreign imbalances, as purely 7 The automatic stabilization of the foreign balance goes back to the price-specie flow mechanism of David Hume (2008) and is present in the IS-LM-BP type of models (Mundell 1963; Fleming 1962). The mechanism of the automatic correction is based on the assumption that the quantity of money is supply determined. 32 speculative behavior is left outside of the model. Finally, a change in the liquidity preference of households can affect the exchange rate and then the real economy through the asset markets. The analysis found in these two chapters of Godley and Lavoie (2007a) builds on the work of the two authors in the years before the publication of the book. The first attempt toward a full SFC model for an open economy is Godley (1999c). Lavoie (2003) builds a fixed exchange rate model for the eurozone, which forms the basis for chapter 6, and in Godley and Lavoie (2003, 2005) one can find the first insights for chapter 12. Finally, Godley and Lavoie (2007b) present a three-country model that discusses the eurozone economy. In a somewhat prophetic manner, they stress that the situation in the eurozone in the presence of imbalances would be sustainable as long as the ECB was willing to accumulate an ever-rising quantity of bills from the “weak” country (the country with external deficits). If not, interest rates in the weak country would keep on rising. The only alternative would be for the government of the weak country to endogenize fiscal policy: essentially to create a recession that would decrease imports and rebalance the current account. An interesting feature of the model is that it demonstrates the interconnectedness of countries, since the fiscal and external deficits of the weak country could arise through no fault on its own, as they could be caused by an improvement in the export performance of other members vis-à-vis the rest of the world. These are important insights if one wants to understand the current situation in the eurozone and the policies that have been adopted in the last seven years. Another paper of this first generation of open-economy SFC models is by Izurieta (2003), who was working with Godley at the Levy Institute at the time. The paper presents a two-country model and examines the implications of the dollarization of an economy. The conclusions of the paper echo the results of the fixed exchange rate models of Godley and Lavoie. Another fully articulated open-economy SFC model from the same period was built by Lance Taylor (2004a: ch. 10; and 2004b), who employs a different closure for the model. Internally in each economy the interest rate is determined endogenously based on an IS-LM mechanism and the exchange rate is determined based on the uncovered interest parity condition through arbitrage. Taylor reaches the same conclusion with regards to the (in)ability of an economy to self-correct external imbalances. 33 These insights and the techniques of this first generation of open-economy SFC models have been used in more-recent contributions on various topics. Lavoie and Zhao (2010) build a three- country model (US, eurozone, and China) where the exchange rate between China and the US is fixed, and examine the results of the diversification of Chinese foreign reserves. They show that both the Chinese and US economy benefit, because the increase in the demand for European assets leads to the appreciation of the euro. Their model also generates path dependence. Lavoie and Daigle (2011) examine the role of exchange rate expectations. Based on chapter 12 of Godley and Lavoie (2007a), they build a model of exchange rate expectations with two types of agents: the so-called “fundamentalists” and “chartists.” The former expect that the exchange rate will revert to a level that they perceive as fundamental, while the latter follow the market trend. The model shows that expectations play a role, and if the “chartists” are overrepresented, expectations can be destabilizing. Flexible exchange rates in that case will not remove global imbalances. Mazier and Tiou-Tagba Aliti (2012) build a three-country model along the lines of Lavoie and Zhao (2010) and examine scenarios with pegged and flexible dollar-yuan parity. They conclude that the flexible parity could be an important way to address the global imbalances. Addressing the global imbalances is also the subject of Valdecantos and Zezza (2015). Within a four-country model, they examine the effects of introducing an international clearing union and a Bancor model, as proposed by Keynes’s at Bretton Woods, and show that the implementation of these proposals leads to an elimination of global imbalances. Finally, Greenwood-Nimmo (2014) discusses the role and effects of stabilization policies and extends the two-country model of Godley and Lavoie (2007a: ch.12) with the introduction of persistent inflationary pressures (because of conflicting claims) and cyclicality of aggregate demand (achieved through the endogenization of the propensities to consume to changes in the interest rate). The simulations of the model show that a combination of fiscal and monetary policies outperforms each of these policies when operated in isolation. Moreover, the autonomous pursuit of inflation targeting policies by both central banks leads to excessive exchange rate volatility compared to a situation in which one central bank plays the leader in setting the interest rate. 34 The discussion above shows that the SFC framework is particularly appropriate for examining issues related to a monetary union like the eurozone. As we explained, Lavoie (2003) and Godley and Lavoie (2007b) present models specifically for the eurozone, while much of the discussion in their book implicitly or explicitly refers to it. The publication of the book, together with the increasing popularity of the SFC approach and the fact that many scholars who have adopted it are based in Europe, has led to a series of contributions that examine eurozone-related issues. In a properly calibrated model, Duwicquet and Mazier (2010) examine the usual argument that financial integration can help make a currency union an optimum currency area. In particular, they examine the stabilization effects of holding foreign assets and intrazone credits. They conclude that the former indeed has stabilizing effects, albeit small, while the latter does not have specific stabilization effects. An extension of this analysis is provided in Duwicquet and Mazier (2012), where it is argued that intrazone credit has a stabilization effect if the nonresident banks do not ration their purchases of T-bills from deficit countries. Eurozone adjustment mechanisms are the topic of another paper (Duwicquet, Mazier, and Saadaoui 2012), which argues that the creation of a federal budget and issuing of eurobonds could have a stabilizing role. In a similar vein, Mazier and Valdecantos (2015) use a four-country model and suggest that the introduction of a “multi-speed” Europe, with separate currencies for the north and the south, could have a stabilizing role. The same model is used by Mazier and Valdecantos (2014), who propose the introduction of a clearing union and a Bancor system for the eurozone, arguing that the TARGET2 system provides the necessary infrastructure for the implementation of such a proposal. Finally, Kinsella and Khalil (2011) build a two-country model and discuss the process of debt deflation in a small, open economy (an appropriate issue for Ireland, where Kinsella is based). They conclude that within a monetary union, the duration of the debt deflation spiral is prolonged. 35 5. EMPIRICAL MODELS FOR WHOLE COUNTRIES One of the main reasons for the recent surge in the popularity of SFC modeling is certainly related to the recognition that Wynne Godley and models based on the SFC approach were able to predict the 2001 US recession (e.g., Godley 1999a), and later the Great Recession of 2007–9 (Godley and Zezza 2006; Godley et al. 2007).8 This recognition came from academic economists (e.g., Bezemer 2010), but was also widely shared in the press (Chancellor 2010; Wolf 2012; Schlefer 2013). Although the SFC theoretical methodology was fully formalized later, as discussed in the previous sections, the central features of SFC empirical models were already present in Godley’s work at the time of the Cambridge Economic Policy Group in the 1970s (Godley and Cripps 1974, 1983; Cripps and Godley 1976, 1978). This early SFC empirical approach was aimed at determining the drivers of sectoral financial balances (see eq. 10, above) by building a set of accounting identities for monetary transactions and determining the components of trade, aggregate private demand, and prices through econometric estimates. From that point of view, the modeling methodology was in the “Cowles Commission” tradition of other Keynesian empirical models of the time (Fair 2012). An important difference was the choice of treating private domestic demand as an aggregate—i.e., the combination of household consumption and business investment. This approach aimed at introducing what came to be labeled the “New Cambridge hypothesis” about the private-sector financial balance as a contribution to the Keynesian debate of the time on the UK economy. As Dos Santos and Macedo e Silva (2010: 22–23) explain the “private financial balance of the British economy had been relatively small and stable for many years—so that any (conventional Keynesian) attempts to increase effective demand by means of a relaxation of fiscal policy would only worsen the British current account balance.” This same approach guided the development of models for Denmark (Godley and Zezza 1992), the US (Godley 1999a; Zezza 2009), and, more recently, Greece (Papadimitriou, Nikiforos and 8 It is worth mentioning that Godley (1995a: 5) argues that if the process continues for eight more years, there will be a “sensational day of reckoning.” Eight years after 1999 was 2007! 36 Zezza 2013a). The models for the US and Greece have routinely been used by the Levy Institute to examine the medium-run prospects of the US economy and simulate the effects of alternative policy options or other macroeconomic scenarios.9 Their ability to better project the trajectories of these economies relative to other neoclassical-oriented DSGE-type models has contributed to spreading the interest in the SFC approach. The main features of what could be labeled as the “Godley–Levy” empirical SFC models are thus the attention to modeling real aggregate private-sector demand as a function of real disposable wealth and the real opening stock of net financial wealth, determining an implicitly stable stock-flow ratio (“norm”) towards which the economy would converge in the absence of external shocks. The introduction of additional variables—mainly related to credit and net capital gains—determines deviations from the stock-flow ratio, where such deviations may take a very long time to die out (Zezza 2009). On the other hand, the Tobinesque approach to portfolio management is kept to a minimum—or it is absent. The Godley–Levy models capture the main channels of transmission from the financial side of the economy to the real side, namely: i. every stock of financial assets implies a flow of income from capital from the debtor to the creditor (this usually implies a considerable amount of work reconstructing who-to-whom payments from national accounts, whenever they are not available); ii. flows of new credit have an impact on expenditure decisions; and iii. the end-of-period stock of net financial wealth (or debt) has an impact on expenditure and saving decisions. What are neglected, given the absence of portfolio management, are the macroeconomic consequences of shifts in financial portfolios, which are likely to be small in many practical cases. 9 Recent publications using the model for the United States include Papadimitriou, Hannsgen, and Nikiforos (2013), Papadimitriou et al (2014, 2015), Papadimitriou, Nikiforos, and Zezza (2016b), and Nikiforos and Zezza (2017). Publications on Greece include Papadimitriou, Nikiforos, and Zezza (2013b, 2014a, 2014b, 2014c, 2015, and 2016a) 37 Since the purpose of the Godley–Levy SFC models is to perform policy simulations in order to minimize concerns over the Lucas critique (Lucas 1976), model parameters are estimated with econometric techniques that ensure—as far as possible—that their values would not change over a shocked simulation period.10 A somewhat different methodology has been applied to developing empirical SFC models for Ireland (Kinsella and Aliti 2012a). In this case, the focus is on reconstructing the balance sheets of the main sectors of the economy for a country where statistical information for flows and stocks is not complete. This leads Kinsella and Aliti (2012b) to propose the adoption of calibration methods for determining parameter values, where parameters may change over time. In some cases the calibration method can also produce a time series for missing statistical information (Godin, Aliti, and Kinsella 2012). This approach is certainly useful in adapting a theoretical model to an empirical time series in order to get “informed intuition” (Godley and Lavoie 2007a: 9) on how the economy actually works, but may pose severe limitations in using the model for forecasting purposes (whenever the future value of parameters may not be assumed to remain stable). A similar approach in terms of parameter calibration has been adopted in Miess and Schmelzer (2016a, 2016b). They develop a model for Austria with rich institutional detail, and a detailed disaggregation of the financial sector with seven classes of financial assets. Parameters are calibrated over the observed sample, and their trend is used to project their value over the out-of- sample period. In practice, most parameters are projected to remain fixed at their last value in out-of-sample simulations. The authors use the model to produce a baseline scenario up to 2025, which is used as a benchmark to evaluate alternative scenarios for different fiscal policies. A recent model for the UK (Burgess et al. 2016) is probably the most-complex SFC model so far estimated from national accounting statistics for a real economy. Similar to the Godley–Levy models, their purpose is to perform scenario analysis over the medium term. On the other hand, compared to the Godley–Levy models, there is greater institutional detail, with the economy 10 This is usually achieved adopting cointegration techniques, therefore verifying that explanatory variables are weakly exogenous. 38 disaggregated into six sectors (households, nonfinancial corporations, government, banks, insurance companies and pension funds, and the foreign sector). The approach used for identifying parameter values is a mixture of econometric estimation, calibration, and (arbitrary) coefficient restrictions, which allows for a rich and complex model for portfolio management that would not have been feasible by adopting only econometric techniques. In all the aforementioned applied SFC post-Keynesian models, output is driven by demand, with little attention to supply-side constraints. An exception is a structuralist-SFC model for Argentina by Valdecantos (2012) that distinguishes among three goods—agricultural, nonagricultural, and intermediate—and shows that, especially in the context of less-developed economies, several complications may arise when supply constraints are binding, e.g., when the price of agricultural goods is determined in the international markets or if the growth rate is constrained by the balance of payments (Thirlwall 1979). The model points to an interesting direction for future applied work, which will combine the SFC principles with input-output analysis. Finally, Escobar-Espinoza (2016) builds an applied SFC model for Colombia following the Godley–Levy approach, and shows that even in the case of a developing country it can perform satisfactorily and provide some useful insights. We are not aware of other complete SFC models for whole countries. Several authors employ econometric techniques to estimate parameters of their theoretical models, thus partially calibrating them to a specific country (e.g., Clévenot, Guy, and Mazier 2010). 6. SFC AND AGENT-BASED MODELLING The use of agent-based models (henceforth ABM) is an approach that has been gaining favor very quickly over the last few years. Epstein and Axtell (1996), Tesfatsion and Judd (2006), and LeBaron and Tesfatsion (2008) provide an extensive treatment of the use of ABM in economics and the social sciences; most of the papers cited in this section explain the advantages of ABM, as well. The basic idea of ABM is that a modern capitalist economy is a complex system of interacting agents and we can gain a lot in our effort to understand such a system by precisely 39 studying its complexity (Farmer and Foley 2009). Such an approach is obviously diametrically opposed to the neoclassical idea that one can understand the basic features of a capitalist economy by studying the behavior of a Robinson Crusoe economy. Thus, economic processes are studied through the interaction of numerous heterogeneous agents, classified in various sectors. As in any model, the classification follows the related theory and the issue under examination. The properties of the model emerge from the (microeconomic) behavior of the agents from the “bottom-up.” In that sense, ABM can shed light on how the macroeconomic variables and phenomena (e.g., GDP, leverage, economic fluctuations) are determined endogenously through the interaction of multiple heterogeneous agents. In that sense, ABM are able to provide the sought-after microfoundations. More interestingly, in ABM there is an endogenous emergence of various distributions and networks within the economy (e.g., the distribution of the size of the firms, the income and wealth of households, or the network structure of the banking sector). ABM is a methodological approach and therefore the conclusions one reaches with the use of a related model crucially depend on the theory behind the model and the specification of the behavior of the agents. Therefore, although the overall vision of most of the scholars who develop ABM for economic applications is not neoclassical, one could reach neoclassical results by assuming an “appropriate” behavior for the agents of the model. The advantages of agent-based and SFC models have led many researchers to call for a combination of the two approaches. The basic idea is that in an agent-based–SFC model each sector of the transactions-flow matrix is populated with several agents (e.g., n households, m firms, and k banks). The government and the central bank are usually treated as one agent each. Moreover, instead of specifying behavioral rules for each sector as a whole, the modeler specifies rules for the behavior of the individual agents and on the matching between the agents (e.g., how do the household choose where to buy their consumption goods among the different firms or how do the firms and households choose where to deposit their money and where to take their loans from among the banks). 40 The first systematic effort to build an agent-based–SFC model is the EURACE model, the outcome of a collaborative effort of researchers at various European universities. In the words of Deissenberg, van der Hoog, and Dawid (2008), EURACE is a “massive” model: at a spatial level it is subdivided at the European regional level, while its temporal resolution is the business day. There are three types of agents (households, firms, and the banks), each located in a specific region, with five types of markets (consumption goods, investment goods, labor, credit, and financial assets). Cincotti, Raberto, and Teglio (2010) use the EURACE model to study the business cycle and show that when firms pay a higher fraction of their earnings as dividends, the amplitude of the business cycle increases because they compensate for the lower retained earnings with more borrowing and leverage. In a related study, Raberto, Teglio, and Cincotti (2012) examine the relation between debt and the macroeconomic performance of an economy. They show that the effect of debt on growth is not certain a priori: more debt can foster or inhibit growth, a result that echoes the debt-led and debt-burdened classifications of Taylor (2004a: ch. 8). The EURACE model has been further developed more recently by researchers at the University of Bielefeld, and renamed “Eurace@Unibi” (Dawid et al. 2011, 2012, and 2016). This latest incarnation of the model has been used for various applications.11 For example, Dawid, Harting, and Neugart (2014) use the model to study economic convergence across European regions. With fully integrated labor markets, they show that investment in human capital in weaker regions has a positive effect on the performance of the stronger regions, but a negative effect for the weaker ones. On the contrary, subsidies for high-technology industries in the weaker regions leads to convergence. In a related paper, Dawid et al. (2016) examine economic convergence in relation to fiscal policy. They show that debt-burden sharing does not have a significant effect on convergence. Convergence of per capita consumption can emerge as a result of fiscal transfers, although the authors show that technology-oriented subsidies are the most sustainable way for regional convergence. Finally, van der Hoog and Dawid (2015) examine business fluctuations in relation to banking regulation. They find that liquidity regulations, as opposed to capital requirements, dampen the business cycle more effectively. 11 The full list of the publications based on the Eurace@Unibi model can be found at: http://www.wiwi.uni- bielefeld.de/lehrbereiche/vwl/etace/Eurace_Unibi/ 41 An early explicitly agent-based–SFC model was built by Kinsella, Greiff, and Nell (2011). They show how in such a model, power-law dynamics emerge for several variables, such as the size of the firm and income distribution. In the same year, another early call to combine ABM with the SFC approach is found in Bezemer (2011). He shows that a careful modeling of an economy’s financial structure can give rise to nonlinear behaviors and endogenous crises, unlike the DSGE models. However, the model utilized towards that purpose is an aggregate macromodel and not agent based. The combination of ABM and the SFC approach also lies at the heart of “Jamel,” an acronym for “Java agent-based macro economic laboratory,” which is a platform for modeling and simulating complex monetary economies (Seppecher 2012a). Jamel has been used for various interesting modeling exercises. Seppecher (2014) presents a model of a monetary theory of production, which explicitly takes into account the relations between production, money, and time and how these determine interest and profits. Seppecher (2012b) presents a model where the introduction of more flexibility in wages and the labor market creates instability and leads to the formation of deflationary spirals: a result that echoes the famous chapter 19 of The General Theory (Keynes 2013 [1936]). Seppecher and Salle (2015) augment the Jamel platform with endogenous waves of optimism, which affect the leverage decisions of firms and households. This mechanism exacerbates the usual credit cycle. Finally, and related to that, Seppecher, Salle, and Lang (2016) propose a model where firms adapt and explore new strategies of leverage. This kind of behavior of the firms leads to oscillations in the macroeconomic performance of the economy. In the upswing, firms tend to adopt more and more high-leverage strategies. At that phase, firms that resist this kind of strategy face the danger of low profitability and extinction. However, when the leverage of the overall system increases too much, the downswing begins. At this phase, individual firms are unable to adapt fast enough and there is a “brutal” cleaning of the high- leverage firms and the firms with low leverage have better chances of survival. Credit cycles as the result of firm leverage are also modeled in Riccetti, Russo, and Gallegati (2015), where the firms are assumed to have an endogenous leverage target level. In a similar vein, Carvalho and Di Guilmi (2014) model credit cycles, which originate from the household and not from the firm sector. A distinctive characteristic of their approach as opposed to the 42 majority of the literature is that they are able to solve their model analytically and not numerically. Finally, Caiani et al. (2016) propose an agent-based-SFC model as a benchmark for future related research. They pay special attention to how the model can be validated based on real data and they propose rules for the calibration and display of such a model. Based on this model, Schasfoort et al. (2016) examine the transmission mechanisms of monetary policy and conclude that the transmission of monetary policy depends on the composition of the balance sheets of the sectors of the economy. The above show that there is a nascent but very active and growing literature that aims at combining the SFC approach with agent-based microfoundations. These kinds of models can be complementary to the more standard macroeconomic models mentioned above and shed light into corners where an aggregate model does not have much to say. 7. SFC ECOLOGICAL MODELS Many environmental processes that interact with the economy, such as pollution or the availability of natural resources, exhibit characteristics that can be formalized through the stock- flow relationship. For instance, the flow of CO2 emissions will depend on industrial processes in a given region and cumulates in a stock of CO2 pollution, which in turn has adverse consequences on quality of life and the economy. These aspects, together with the formal rigor of the SFC literature, are stimulating a number of studies that adopt the SFC approach to address environmental problems.12 An important link between economic modeling and environmental sustainability is the determination of sustainable economic growth rates. Jackson and Victor (2015) develop an SFC model to show that when interest rates are positive the system can replicate itself in a stationary 12 A useful reference for a post-Keynesian approach to “ecological macroeconomics,” which rests on the monetary circuit theory rather than the SFC approach, is in Fontana and Sawyer (2016). 43 state and therefore diminish threats to environmental sustainability. In Jackson and Victor (2016) they show that under specific assumptions slower growth would not imply an increase in inequality, and would therefore be socially sustainable. In Jackson et al. (2014) they discuss how the links between the impact on the environment and the economy can be detailed using I-O matrices, although these issues have not been developed in later works. Berg, Hartley, and Richters (2015) develop a formal integration of the SFC and I-O approaches, taking energy into account.13 They use their model to study energy-related problems, with attention to the conditions for system stability. A complex multisectoral SFC model with an explicit treatment of the energy sector that has been calibrated for the European Union is presented in Naqvi (2015). The model is simulated to examine policies that can address growth, distribution, and environmental sustainability. The same model structure, albeit without the energy sector, is deployed in a two-region north-south model in Dunz and Naqvi (2016), where the purpose is to study the impact of interregional transfers to foster “clean investment.” Finally, an ambitious model in Dafermos, Nikolaidi, and Galanis (2017) provides additional insights. In this model, the monetary and the physical stocks are determined based on SFC accounting principles and the laws of thermodynamics. The authors adopt the distinction, proposed by Georgescu-Roegen (1971), between stock-flow and fund-service resources. Output is demand determined; however, supply constraints might arise as a result of environmental changes or the exhaustion of natural resources. Climate change and finance have direct and indirect effects on aggregate demand and investment plans. This is important because “green” investment is treated separately from “conventional” investment in the economic part of the model, and therefore investment shifts affect ecological efficiency. Dafermos, Nikolaidi, and Galanis (2017) calibrate the model using global data to produce simulations over a 100-year time horizon under different assumptions of the impact of financial 13 The integration of the SFC methodology into I-O based models is recognized as a potentially fruitful new research area (Kratena and Temursho 2017). 44 fragility on macroeconomic activity, as well as on the financing of green investment. In their simulations, the negative impact of environmental change is reinforced as the contractionary effects of a high leverage increase. Finally, they show that better terms of credit for green investment have positive effects both for environmental sustainability and financial stability. Summing up, SFC models that treat the economy as part of a more global system (i.e., where the environment plays a relevant role) are one of the most promising areas of research for SFC modelers.14 However, greater attention needs to be paid to a number of other systemic variables—such as population growth and migration, constraints to growth given by scarcity of natural resources, etc.—in order to provide a valid alternative to mainstream models, which are usually more detailed in their treatment of the environment, but lack any attention to the role of the financial sector, and are empirically weak because of their assumption of full employment. 8. INSTEAD OF A CONCLUSION: ONOMASTICS The present paper discussed the SFC approach to macroeconomic modeling. We started with a short outline of the intellectual roots of the approach, pioneered by the work of Wynne Godley at Cambridge and James Tobin at Yale. In section 2, we explained the basic principles of the model: the accounting consistency, the demand-led closure, and the various alternative behavioral specifications, as well as the treatment of the financial side of the economy. Section 3 presented how the basic model has been used and modified to address various issues related to the monetary circuit, financialization, and income distribution. In section 4, we surveyed the literature on open-economy SFC models and in section 5 the empirical models for whole countries. Section 6 discussed how the SFC approach has been used in conjunction with the ABM approach, and section 7 explained the usefulness of SFC modeling for treating environmental issues. Instead of a conclusion, we can discuss here one last issue: the name “stock-flow consistent.” The related analysis that follows—besides being interesting in its own right—can act as a summary and further clarify the issues we discussed in the previous sections. 14 See also Cahen-Fourot and Lavoie (2016) for a SFC-based critique of macroeconomic closures in ecological economics. 45 The name “stock-flow consistent” has existed in the literature for a long time as a reference to models with the characteristics described in section 2 (e.g., Davis 1987a, 1987b). However, it was only established as a “brand name” after Claudio Dos Santos’s PhD dissertation at The New School for Social Research entitled “Three Essays on Stock-flow Consistent Macroeconomic Modeling” (Dos Santos 2003).15 The name has been a source of confusion among friends and foes of the SFC approach for two reasons. First, it has misled people to believe that it describes what Krugman (2013) called “hydraulic” macroeconomic models, devoid of behavioral underpinnings, which are essentially “accounting, not economics” (Wren-Lewis 2016).16 Second, people who are not familiar with the SFC approach contend—rightly—that stock-flow consistency is a characteristic of various classes of models. For example, the Solow (1956)–Swan (1956) model or Ramsey-type (1928) models are indeed stock-flow consistent. From that point of view, it is wrong to use stock-flow consistency as the demarcating characteristic of the type of models described here. We discuss these issues in the following paragraphs. To begin with, as we explained in the previous sections (especially in section 2.1), proper accounting reduces the degrees of freedom of a model (or an analysis) and protects the modeler from certain common fallacies. In the course of the discussion in the previous sections we gave many related examples. For instance, in our discussion of the three balances we explained that by accounting principle the sum of the net lending of the foreign sectors of all the economies taken together is also equal to zero. Since the deficit of an economy cannot decrease if the surplus of another economy does not decrease as well, this simple accounting principle invalidates the growth paradigm proposed by many economists and international organizations who advocate that every country should pursue export-led growth by trying to increase its competitiveness (through “structural reforms,” etc.). The problem here is that although the models of these economists and organizations are indeed stock-flow consistent at the individual economy/country 15 As Cripps and Lavoie (2017: 944) point out, several other names have been proposed along the way: real stock– flow monetary model, the financial stock–flow coherent approach, or the sectorial stock–flow coherent approach. 16 It is worth saying that the term “hydraulic Keynesianism” refers to the neoclassical synthesis, IS-LM type of Keynesianism and not to the kind of Keynesian economics Godley and the Cambridge (UK) economists practiced (Coddington 1976). Ironically, Krugman has been the most vocal contemporary defender of the IS-LM model (e.g., Krugman 2000). 46 level, they violate “accounting consistency” at the international level. Certain cases of fallacy of composition like this are due to the violation of simple accounting rules. Besides that, accounting consistency is the method that brings together the real and financial sides of the economy and allows the modeler to track down how the agents’ decisions about their real variables affect the nominal assets of their balance sheets and how these changes feedback on their “real” decisions. The balance-sheet matrix (table 1) and the transactions-flow matrix (table 2) are thus indispensable tools for the analysis of a monetary economy. For all these reasons, the best way to start solving an economic problem is by ensuring that the accounting is right. However, the SFC approach goes beyond simple accounting. As we explained in section 2.2, another very important characteristic is that the basic closure is Keynesian. SFC models do not assume Say’s law and full employment in the short run or that the economy will converge towards such a state in the medium/long run. Arguably, this is Keynes’s most important contribution to macroeconomic theory. He demonstrated that the general state (hence The General Theory) of the capitalist economy is not one of full employment and there is no natural tendency of the economy to gravitate towards full employment. The full employment equilibrium envisaged by neoclassical economics is just a special case. This choice of closure allows then for an integrated treatment of the real and financial sectors of the economy, where the latter—debt, leverage, the stock market, etc.—matters for the behavior of the agents and therefore the performance of the former. SFC models are driven by this kind of closure and a sophisticated treatment of the financial sector, and are thus far from “hydraulic” or without any behavioral content. The world of neoclassical models—like the stochastic Ramsey-type DSGE models that are widely used in academia and policymaking—is on the exact opposite side. These models are indeed stock-flow consistent, in the sense that the flows of the models accumulate into stocks. However, they are supply-side, full-employment models at heart: the general state is supply determined, and characterized by full employment (or a “natural” rate of unemployment). The introduction of (ad hoc) rigidities allows them to derive some Keynesian results in the short run 47 as a special case. However, in the medium run, the economy always returns to full employment or to its natural rate of unemployment. This is not just an esoteric theoretical issue. In the CBO’s projections for the US economy (or the official projections in the European periphery countries), which are derived from DSGE models, demand effects vanish after a couple of years and the economy reverts to a fully supply-side-determined equilibrium. In these types of models, fluctuations are mainly due to “shocks” to productivity or other variables on the real side of the economy. Moreover, this kind of closure ties the model in such a way that it allows a very minor role (if any) for finance. There is the so-called dichotomy between the real and the financial sides of the economy, where financial complications do not really matter for the real outcome of the economy. Finance is, to use another classical metaphor, just a “veil” that can affect nominal variables but not the real ones. Various related properties that are widespread in neoclassical economics, like the “neutrality of money” or the Modigliani–Miller (1958) theorem, emanate from this supply-side, full-employment choice of closure. The only way to break this dichotomy is to introduce some kind of friction. Following Bernanke and Gertler (1989), Kiyotaki and Moore (1997), and Bernanke, Gertler, and Gilchrist (1999), in the related “financial” DSGE literature these frictions usually take the form of informational asymmetries and/or incomplete markets. In these models the financial frictions amplify the effects of shocks to productivity. However, these processes are only transitory and, as is usual with every kind of “friction” DSGE model, the economy tends to return to its supply-determined, full-employment equilibrium in the medium run, where finance does not play any role. It is telling that Bernanke, one of the architects of the “financial frictions” DSGE models, was the same person who coined the term “Great Moderation” three years before the Great Recession (Bernanke 2004). In that sense, it was no accident that the DSGE models ignored the situation in the financial markets or the build-up of private debt in the 1990s or the 2000s. It was exactly the opposite: these models—albeit stock-flow consistent in the literal sense—by assumption keep the real and the financial sides separate. As we explained in the course of this paper, the purpose of the 48 Keynesian-type SFC models is antipodal: to provide an integrated approach to credit, money, income, production, and wealth (as the subtitle of Godley and Lavoie [2007a] reads), where the real and the financial sides matter for each other both in the short and long run. In conclusion, it is true that the name “stock-flow consistent” is misleading and sometimes confusing for what the post-Keynesian SFC approach wants to convey. Accounting consistency is just one of the pillars of the analysis, which is combined with a demand-led closure and a sophisticated and realistic treatment of the financial side of the economy. It is probably too late to change the name, but what we mean by it should be clear by now. Onomastics aside, for the reasons explained in this paper, the SFC approach to macroeconomic analysis combines many advantages for a rigorous analysis and understanding of the political economy of capitalism. 49 REFERENCES Abell, John D. 1990. “Twin Deficits during the 1980s: An Empirical Investigation.” Journal of Macroeconomics 12(1): 81–96. Adelman, Irma, and Sherman Robinson. 1978. Income Distribution Policy in Developing Countries: A Case Study of Korea. Stanford, CA: Stanford University Press. Arghyrou, Michael G., and Georgios Chortareas. 2008. “Current Account Imbalances and Real Exchange Rates in the Euro Area.” Review of International Economics 16(4): 747–64. Backus, David, William C. Brainard, Gary Smith, and James Tobin. 1980. “A Model of U.S. Financial and Nonfinancial Economic Behavior.” Journal of Money, Credit and Banking 12(2): 259–93. Barro, Robert J. 1974. “Are Government Bonds Net Wealth?” The Journal of Political Economy 82(6): 1095–1117. Bellofiore, Riccardo, and Marco Veronese Passarella. 2010. “Minsky, the Monetary Circuit and the Current Crisis: A SFC Monetary Accounting Framework.” Paper presented at the conference “Can it happen again? Sustainable policies to mitigate and prevent financial crises,” Macerata, October 1–2. Berg, Matthew, Brian Hartley, and Oliver Richters. 2015. “A Stock-Flow Consistent Input- Output Model with Applications to Energy Price Shocks, Interest Rates, and Heat Emissions.” New Journal of Physics 17(1): 015011. Bernanke, Ben. 2004. “The Great Moderation: Remarks by Governor Ben S. Bernanke.” Meetings of the Eastern Economic Association, Washington, DC, February 20. Bernanke, Ben, and Mark Gertler. 1989. “Agency Costs, Net Worth, and Business Fluctuations.” The American Economic Review 79(1): 14–31. Bernanke, Ben, Mark Gertler, and Simon Gilchrist. 1999. “The Financial Accelerator in a Quantitative Business Cycle Framework.” In J.B. Taylor and M. Woodford (eds.), Handbook of Macroeconomics, Volume 1, Part C. Philadelphia: Elsevier Science B.V. Bezemer, Dirk J. 2010. “Understanding Financial Crisis through Accounting Models.” Accounting, Organizations and Society 35(7): 676–88. ———. 2011. “Causes of Financial Instability: Don’t Forget Finance.” Levy Institute Working Paper 655. Annandale-on-Hudson, NY: Levy Economics Institute of Bard College. 50 Bhaduri, Amit, and Stephen Marglin. 1990. “Unemployment and the Real Wage: The Economic Basis for Contesting Political Ideologies.” Cambridge Journal of Economics 14(4): 375– 93. Blanchard, Olivier, and Francesco Giavazzi. 2002. “Current Account Deficits in the Euro Area: The End of the Feldstein Horioka Puzzle?” Brookings Papers on Economic Activity 33(2): 147–210. Botta, Alberto, Eugenio Caverzasi, and Daniele Tori. 2015. “Financial-Real Side Interactions in the Monetary Circuit: Loving or Dangerous Hugs?” International Journal of Political Economy 44(3): 196–227. Brainard, William C., and James Tobin. 1968. “Pitfalls in Financial Model Building.” The American Economic Review 58(2): 99–122. Burgess, Stephen, Oliver Burrows, Antoine Godin, Stephen Kinsella, and Stephen Millard. 2016. “A Dynamic Model of Financial Balances for the United Kingdom.” Bank of England Staff Working Paper No. 614, September. London: Bank of England. Caiani, Alessandro, Antoine Godin, Eugenio Caverzasi, Mauro Gallegati, Stephen Kinsella, and Joseph E. Stiglitz. 2016. “Agent Based-Stock Flow Consistent Macroeconomics: Towards a Benchmark Model.” Journal of Economic Dynamics and Control 69: 375– 408. Carvalho, Laura, and Corrado Di Guilmi. 2014. “Income Inequality and Macroeconomic Instability: A Stock-Flow Consistent Approach with Heterogeneous Agents.” CAMA Working Paper No. 60/2014. Canberra: Centre for Applied Macroeconomic Analysis, Australian National University. Caverzasi, Eugenio, and Antoine Godin. 2015. “Post-Keynesian Stock-Flow-Consistent Modelling: A Survey.” Cambridge Journal of Economics 39(1): 157–87. Chancellor, Edward. 2010. “The Dreadful Potential of Frugality.” Financial Times, June 6. Available at: https://www.ft.com/content/a7df74f6-7002-11df-8698-00144feabdc0. Chen, Ruo, Gian Maria Milesi-Ferretti, and Thierry Tressel. 2013. “External Imbalances in the Eurozone.” Economic Policy 28(73): 101–42. Cincotti, Silvano, Marco Raberto, and Andrea Teglio. 2010. “Credit Money and Macroeconomic Instability in the Agent-Based Model and Simulator Eurace.” Economics: The Open- Access, Open-Assessment E-Journal 4: 1–32. Clevenot, Mickaël, Yann Guy, and Jacques Mazier. 2010. “Investment and the Rate of Profit in a Financial Context: The French Case.” International Review of Applied Economics 24(6): 693–714. 51 Coddington, Alan. 1976. “Keynesian Economics: The Search for First Principles.” Journal of Economic Literature 14(4): 1258–73. Copeland, Morris A. 1947. “Tracing Money Flows through the United States Economy.” American Economic Review 37(2): 31–49. ———. 1949. “Social Accounting for Moneyflows.” The Accounting Review 24(3): 254–64. Cripps, Francis T., and Wynne Godley. 1976. “A Formal Analysis of the Cambridge Economic Policy Group Model.” Economica 43(172): 335–48. ———. 1978. “Control of Imports as a Means to Full Employment and the Expansion of World Trade: The UK’s Case.” Cambridge Journal of Economics 2(3): 327–34. Cripps, Francis T., and Marc Lavoie. 2017. “Wynne Godley (1926–2010).” In R. Cord (ed.), The Palgrave Companion to Cambridge Economics. Basingstoke, UK: Palgrave Macmillan. Dafermos, Yannis. 2015. “Debt Cycles, Instability and Fiscal Rules: A Godley-Minsky Model.” University of the West of England, Economics Working Paper Series 1509. Bristol: University of the West of England. Dafermos, Yannis, Maria Nikolaidi, and Giorgos Galanis. 2017. “A Stock-Flow-Fund Ecological Macroeconomic Model.” Ecological Economics 131: 191–207. Dafermos, Yannis, and Christos Papatheodorou. 2015. “Linking Functional with Personal Income Distribution: A Stock-Flow Consistent Approach.” International Review of Applied Economics 29(6): 787–815. Dallery, Thomas, and Till van Treeck. 2011. “Conflicting Claims and Equilibrium Adjustment Processes in a Stock-Flow Consistent Macroeconomic Model.” Review of Political Economy 23(2): 189–211. Darrat, Ali F. 1988. “Have Large Budget Deficits Caused Rising Trade Deficits?” Southern Economic Journal 54(4): 879–87. Davidson, Paul. 1968a. “Money, Portfolio Balance, Capital Accumulation, and Economic Growth.” Econometrica 36(2): 291–321. ———. 1968b. “The Demand and Supply of Securities and Economic Growth and Its Implications for the Kaldor–Pasinetti versus Samuelson–Modigliani Controversy.” The American Economic Review 58(2): 252–69. Davis, Eric P. 1987a. “A Stock-Flow Consistent Macro-Econometric Model of the UK Economy—part II.” Journal of Applied Econometrics 2(4): 259–307. ———. 1987b. “A Stock-Flow Consistent Macro-Econometric Model of the UK Economy— part I.” Journal of Applied Econometrics 2(2): 111–32. 52 Dawid, Herbert, Phllip Harting, and Michael Neugart. 2014. “Economic Convergence: Policy Implications from a Heterogeneous Agent Model.” Journal of Economic Dynamics and Control 44(July): 54–80. ———. 2016. “Fiscal Transfers and Regional Economic Growth.” Bielefeld Working Papers in Economics and Management, No. 09-2016. Bielefeld, Germany: Bielefeld Graduate School of Economics and Management. Dawid, Herbert, Simon Gemkow, Philipp Harting, and Sander Van der Hoog. 2011. “Eurace@Unibi Model v1.0 User Manual.” Available at: https://pub.uni- bielefeld.de/publication/2622083. Dawid, Herbert, Simon Gemkow, Philipp Harting, Sander Van der Hoog, and Michael Neugart. 2012. “The Eurace@Unibi Model: An Agent-Based Macroeconomic Model for Economic Policy Analysis.” Bielefeld Working Papers in Economics and Management No. 05-2012. Bielefeld, Germany: Bielefeld Graduate School of Economics and Management. Dawid, Herbert, Philipp Harting, Sander van der Hoog, and Michael Neugart. 2016. “A Heterogeneous Agent Macroeconomic Model for Policy Evaluation: Improving Transparency and Reproducibility.” Bielefeld Working Papers in Economics and Management, No. 06-2016. Bielefeld, Germany: Bielefeld Graduate School of Economics and Management. Decressin, Jörg, and Emil Stavrev. 2009. “Current Accounts in a Currency Union.” IMF Working Paper 09/127. Washington, DC: International Monetary Fund. Deissenberg, Christophe, Sander van der Hoog, and Herbert Dawid. 2008. “EURACE: A Massively Parallel Agent-Based Model of the European Economy.” Applied Mathematics and Computation 204(2): 541–52. Dervis, Kemal, Jaime de Melo, and Sherman Robinson. 1982. General Equilibrium Models for Development Policy. Cambridge, UK: Cambridge University Press. Dixon, Peter B., and Dale Jorgenson. 2013. Handbook of Computable General Equilibrium Modeling. Amsterdam: North Holland. Dos Santos, Claudio H. 2003. “Three Essays on Stock-Flow Consistent Macroeconomic Modeling.” Ph.D. Thesis. New York: The New School for Social Research. ———. 2005. “A Stock-Flow Consistent General Framework for Formal Minskyan Analyses of Closed Economies.” Journal of Post Keynesian Economics 27(4): 711–36. ———. 2006. “Keynesian Theorising during Hard Times: Stock-Flow Consistent Models as an Unexplored ‘Frontier’ of Keynesian Macroeconomics.” Cambridge Journal of Economics 30(4): 541–65. 53 Dos Santos, Cláudio H., and Antonio Carlos Macedo e Silva. 2009. “Revisiting (and Connecting) Marglin-Bhaduri and Minsky: An SFC Look at Financialization and Profit-Led Growth.” Levy Institute Working Paper 567. Annandale-on-Hudson, NY: Levy Economics Institute of Bard College. ———. 2010. “Revisiting ‘New Cambridge’: The Three Financial Balances in a General Stock– flow Consistent Applied Modeling Strategy.” Levy Institute Working Paper 594. Annandale-on-Hudson, NY: Levy Economics Institute of Bard College. Dunz, Nepomuk, and Asjad Naqvi. 2016. “Environmental and Labor Policies in a North-South SFC Model.” Unpublished manuscript. Available at: http://www.boeckler.de/pdf/v_2016_10_21_dunz.pdf. Dutt, Amitava K. 1984. “Stagnation, Income Distribution and Monopoly Power.” Cambridge Journal of Economics 8(1): 25–40. Duwicquet, Vincent, and Jacques Mazier. 2010. “Financial Integration and Macroeconomic Adjustments in a Monetary Union.” Journal of Post Keynesian Economics 33(2): 331– 68. ———. 2012. “Financial Integration and Stabilization in a Monetary Union Without or With Bank Rationing.” In Dimitri B. Papadimitriou and Gennaro Zezza (eds.), Contributions in Stock-Flow Modeling. Basingstoke, UK: Palgrave Macmillan. Duwicquet, Vincent, Jacques Mazier, and Jamel Saadaoui. 2012. “Exchange Rate Misalignments, Fiscal Federalism and Redistribution: How to Adjust in a Monetary Union.” MPRA Paper No. 48697. Munich: University Library of Munich, Germany. Eichengreen, Barry. 2010. “Imbalances in the Euro Area.” Unpublished manuscript. Available at: http://eml.berkeley.edu/~eichengr/Imbalances_Euro_Area_5-23-11.pdf. Eichner, Alfred S. 1987. The Macrodynamics of Advanced Market Economies. New York: M.E. Sharpe. Epstein, Gerald A. 2005. Financialization and the World Economy. Northampton, MA: Edward Elgar Publishing. Epstein, J., and R. Axtell. 1996. Growing Artificial Societies: Social Science from the Bottom- Up. Washington, DC: MIT Press and Brooking Press. Escobar-Espinoza, Andrés. 2016. “Stock-Flow Consistent Models for Developing Countries: The Case of Colombia.” Unpublished manuscript. Available at: https://www.gtap.agecon.purdue.edu/resources/download/8168.pdf. 54 European Commission, International Monetary Fund, Organisation for Economic Co-operation and Development, United Nations, and World Bank. 2009. System of National Accounts 2008. New York: United Nations. Eurostat. 2008. “Eurostat Manual of Supply, Use and Input-Output Tables.” Economy and Finance, Methodologies and Working Papers. Luxembourg: Eurostat. Available at: http://ec.europa.eu/eurostat/documents/3859598/5902113/KS-RA-07-013- EN.PDF/b0b3d71e-3930-4442-94be-70b36cea9b39?version=1.0 Fair, Ray C. 2012. “Has Macro Progressed?” Journal of Macroeconomics 34(1): 2–10. Farmer, J. Doyne, and Duncan Foley. 2009. “The Economy Needs Agent-Based Modelling.” Nature 460(7256): 685–86. Fazzari, Steven M., and Tracy L. Mott. 1986. “The Investment Theories of Kalecki and Keynes: An Empirical Study of Firm Data, 1970–1982.” Journal of Post Keynesian Economics 9(2): 171–87. Flassbeck, Heiner, and Costas Lapavitsas. 2013. “The Systemic Crisis of the Euro—True Causes and Effective Therapies.” In STUDIEN. Berlin: Rosa-Luxemburg-Stiftung. Available at: http://www.erensep.org/images/pdf/2013-05-01_lapavitsas_flassbeck.pdf Fleming, J. Marcus. 1962. “Domestic Financial Policies under Fixed and under Floating Exchange Rates.” IMF Staff Papers 9(3): 369–80. Foley, Duncan K. 1982. “Realization and Accumulation in a Marxian Model of the Circuit of Capital.” Journal of Economic Theory 28(2): 300–19. ———. 1986. Money, Accumulation, and Crisis. London: Hardwood Academic Publishers. Fontana, Giuseppe, and Malcolm Sawyer. 2016. “Towards Post-Keynesian Ecological Macroeconomics.” Ecological Economics 121(January): 186–95. Friedman, Benjamin M. 1978. “Crowding Out or Crowding In? Economic Consequences of Financing Government Deficits.” Brookings Papers on Economic Activity 9(3): 593–641. Georgescu-Roegen, Nicholas. 1971. The Entropy Law and the Economic Process. Cambridge, MA: Harvard University Press. Godin, Antoine, Gnanonobodom Tiou-Tagba Aliti, and Stephen Kinsella. 2012. “Method to Simultaneously Determine Stock, Flow, and Parameter Values in Large Stock Flow Consistent Models.” Unpublished manuscript. Available at: https://papers.ssrn.com/sol3/papers.cfm?abstract_id=2094996 55 Godley, Wynne. 1996. “Money, Finance and National Income Determination: An Integrated Approach.” Levy Institute Working Paper 167. Annandale-on-Hudson, NY: Levy Economics Institute of Bard College. ———. 1999a. “Seven Unsustainable Processes: Medium-Term Prospects and Policies for the United States and the World.” Strategic Analysis. Annandale-on-Hudson, NY: Levy Economics Institute of Bard College. ———. 1999b. “Money and Credit in a Keynesian Model of Income Determination.” Cambridge Journal of Economics 23(4): 393–411. ———. 1999c. “Open Economy Macroeconomics Using Models of Closed Systems.” Levy Institute Working Paper 281. Annandale-on-Hudson, NY: Levy Economics Institute of Bard College. ———. 2004. “Weaving Cloth from Graziani’s Thread. Endogenous Money In a Simple (but Complete) Keynesian Model.” In Richard Arena and Neri Salvadori (eds.), Money, Credit and the Role of the State: Essays in Honour of Augusto Graziani. Aldershot: Ashgate. Godley, Wynne, and Francis T. Cripps. 1974. “Demand, Inflation and Economic Policy.” London and Cambridge Economic Bulletin 84(1): 22–23. ———. 1983. Macroeconomics. New York: Oxford University Press. Godley, Wynne, and Marc Lavoie. 2003. “Two-Country Stock-Flow-Consistent Macroeconomics Using a Closed Model Within a Dollar Exchange Regime.” Cambridge Endowment for Research in Finance, Working Paper No. 10. Cambridge, UK: Cambridge Endowment for Research in Finance. Available at: http://www.dspace.cam.ac.uk/bitstream/1810/225206/1/wp10.pdf. ———. 2005. “Comprehensive Accounting in Simple Open Economy Macroeconomics with Endogenous Sterilisation or Flexible Exchange Rates.” Journal of Post Keynesian Economics 28(2): 277–312. ———. 2007a. Monetary Economics: An Integrated Approach to Credit, Money, Income, Production and Wealth. London: Palgrave MacMillan. ———. 2007b. “A Simple Model of Three Economies with Two Currencies: The Eurozone and the USA.” Cambridge Journal of Economics 31(1): 1–23. Godley, Wynne, Dimitri B. Papadimitriou, Greg Hannsgen, and Gennaro Zezza. 2007. “The US Economy: Is There a Way Out of the Woods?” Strategic Analysis, November. Annandale-on-Hudson, NY: Levy Economics Institute of Bard College. 56 Godley, Wynne, and Anwar M. Shaikh. 2002. “An Important Inconsistency at the Heart of the Standard Macroeconomic Model.” Journal of Post Keynesian Economics 24(3): 423–43. Godley, Wynne, and Gennaro Zezza. 1992. “A Simple Stock Flow Model of the Danish Economy.” In Helge Brink (ed.), Themes in Modern Macroeconomics. London: Palgrave Macmillan. ———. 2006. “Debt and Lending: A Cri de Coeur.” Policy Note, no. 4. Annandale-on-Hudson, NY: Levy Economics Institute of Bard College. Graziani, Augusto. 2003. The Monetary Theory of Production. Cambridge, UK: Cambridge University Press. Greenwood-Nimmo, Matthew. 2014. “Inflation targeting monetary and fiscal policies in a two- country stock-flow-consistent model.” Cambridge Journal of Economics 38(4): 839–67. Herbillon-Leprince, Serge. 2016. “A Stock-Flow Consistent Model with Real Estate and Land.” Unpublished manuscript. Available at: https://www.boeckler.de/pdf/v_2016_10_21_herbillon-leprince.pdf Hoog, Sander van der, and Herbert Dawid. 2015. “Bubbles, Crashes and the Financial Cycle: Insights from a Stock-Flow Consistent Agent-Based Macroeconomic Model.” Bielefeld Working Papers in Economics and Management, No. 01-2015. Bielefeld, Germany: Bielefeld Graduate School of Economics and Management. Hume, David. 2008. Selected Essays. Oxford: Oxford University Press. Izurieta, Alex. 2003. “Dollarization as a Tight Rein on the Fiscal Stance.” In Louis-Philippe Rochon and Mario Seccareccia (eds.), Dollarization: Lessons from Europe and the Americas. London: Routledge. Jackson, Tim, Ben Drake, Peter A. Victor, Kurt Kratena, and Mark Sommer. 2014. “Foundations for an Ecological Macroeconomics: Literature Review and Model Development.” WWWforEurope Working Paper No. 65. Vienna: WWWforEurope. Available at: http://www.foreurope.eu/fileadmin/documents/pdf/Workingpapers/WWWforEurope_WP S_no065_MS38.pdf Jackson, Tim, and Peter A. Victor. 2015. “Does credit create a ‘growth imperative’? A quasi- stationary economy with interest-bearing debt.” Ecological Economics 120: 32–48. ———. 2016. “Does Slow Growth Lead to Rising Inequality? Some Theoretical Reflections and Numerical Simulations.” Ecological Economics 121: 206–19. 57 Jaumotte, Florence, and Piyaporn Sodsriwiboon. 2010. “Current Account Imbalances in the Southern Euro Area.” IMF Working Paper No. 10/139. Washington, DC: International Monetary Fund. Available at: http://www.imf.org/external/pubs/cat/longres.aspx?sk=23940 Johansen, Leif. 1960. A Multi-Sectoral Study of Economic Growth. Amsterdam: North-Holland. Kaldor, Nicholas, and Tibor Barna. 1944. “The Quantitative Aspects of the Full Employment Problem in Britain.” Appendix C in William H. Beveridge, Full Employment in a Free Society London: Allen & Unwin. Kalecki, Michal. 1971. Selected Essays on the Dynamics of the Capitalist Economy. Cambridge, UK: Cambridge University Press. Kang, Joong Shik, and Jay C. Shambaugh. 2016. “The Rise and Fall of European Current Account Deficits.” Economic Policy 31(85): 153–99. Karacaoglu, Girol. 1984. “Absence of Gross Substitution in Portfolios and Demand for Finance: Some Macroeconomic Implications.” Journal of Post Keynesian Economics 6(4): 576– 89. Keynes, John Maynard. 2013 [1936]. “The General Theory of Employment, Interest and Money.” In Elizabeth Johnson and Donald Moggridge, (eds.), The Collected Writings of John Maynard Keynes, Volume VII. Cambridge, UK: Cambridge University Press. Kinsella, Stephen, Matthias Greiff, and Edward J. Nell. 2011. “Income Distribution in a Stock- Flow Consistent Model with Education and Technological Change.” Eastern Economic Journal 37(1): 134–49. Kinsella, Stephen, and Saed Khalil. 2011. “Debt-Deflation in a Stock Flow Consistent Macromodel.” In Dimitri B. Papadimitriou and Gennaro Zezza (eds.), Contributions in Stock-Flow Consistent Modeling: Essays in Honor of Wynne Godley. Basingstoke, UK: Palgrave MacMillan. Kinsella, Stephen, and Gnanonobodom Tiou-Tagba Aliti. 2012a. “Towards a Stock Flow Consistent Model for Ireland.” Unpublished manuscript. ———. 2012b. “Simulating the Impact of Austerity on the Irish Economy Using a Stock-Flow Consistent Model.” Unpublished manuscript. Available at: https://papers.ssrn.com/sol3/papers.cfm?abstract_id=2157420. Kiyotaki, Nobuhiro, and John Moore. 1997. “Credit Chains.” Journal of Political Economy 105(21): 211–48. 58 Kratena, Kurt, and Umed Temursho. 2017. “Dynamic Econometric Input-Output Modeling: New Perspectives.” In Randall Jackson and Peter Schaeffer (eds.), Regional Research Frontiers,Vol. 2. Basel: Springer International Publishing. Krugman, Paul. 2000. “How Complicated Does the Model Have to Be?” Oxford Review of Economic Policy 16(4): 33–42. Lavoie, Marc. 2003. “A Fully Coherent Post-Keynesian Model of the Euro Zone.” In Philip Arestis, Michelle Baddeley, and J.S.L. McCombie (eds.), Globalization, Regionalism and Economic Activity. Cheltenham, UK: Edward Elgar. ———. 2004. “Circuit and Coherent Stock-Flow Accounting.” In Richard Arena and Neri Salvadori (eds.), Money, Credit, and the Role of the State: Essays in Honour of Augusto Graziani. Aldershot: Ashgate. ———. 2008. “Towards a Post-Keynesian Consensus in Macroeconomics: Reconciling the Cambridge and Wall Street Views.” Research on Banking International and National Systems or Networks, Working Paper 08-05. Ottawa: University of Ottawa. ———. 2014. Post-Keynesian Economics: New Foundations. Cheltenham, UK: Edward Elgar Lavoie, Marc, and Gauthier Daigle. 2011. “A Behavioural Finance Model of Exchange Rate Expectations within a Stock-Flow Consistent Framework.” Metroeconomica 62(3): 434– 58. Lavoie, Marc, and Wynne Godley. 2001. “Kaleckian Models of Growth in a Coherent Stock- Flow Monetary Framework: A Kaldorian View.” Journal of Post Keynesian Economics 24(2): 277–312. Lavoie, Marc, and Jun Zhao. 2010. “A Study of the Diversification of China’s Foreign Reserves in a Three-Country Stock-Flow Consistent Model.” Metroeconomica 61(3): 558–92. Lazonick, William, and Mary O’Sullivan. 2000. “Maximizing Shareholder Value: A New Ideology for Corporate Governance.” Economy and Society 29(1): 13–35. LeBaron, Blake, and Leigh Tesfatsion. 2008. “Modeling Macroeconomies as Open-Ended Dynamic Systems of Interacting Agents.” The American Economic Review 98(2): 246– 50. Le Heron, Edwin, and Tarik Mouakil. 2008. “A post-Keynesian stock flow consistent model for dynamic analysis of monetary policy shock on banking behavior.” Metroeconomica 59(3): 405–40. Lucas, Robert E. 1976. “Econometric Policy Evaluation: A Critique.” Carnegie-Rochester Conference Series on Public Policy 1: 19–46. 59 Marx, Karl. 1978. Capital: A Critique of Political Economy, Vol. II. London: Penguin Books. Mazier, Jacques, and Gnanonobodom Tiou-Tagba Aliti. 2012. “World Imbalances and Macroeconomic Adjustments: A Three-Country Stock-Flow Consistent Model with Fixed or Flexible Prices.” Metroeconomica 63(2): 358–88. Mazier, Jacques, and Sebastian Valdecantos. 2014. “Gathering the Pieces of Three Decades of Monetary Coordination to Build a Way out of the European Crisis.” Unpublished manuscript. Available at: https://www.boeckler.de/pdf/v_2014_10_30_valdecantos_mazier.pdf ———. 2015. “A Multi-Speed Europe: Is It Viable? A Stock-Flow Consistent Approach.” European Journal of Economics and Economic Policies: Intervention 12(1): 93–112. Miess, Michael, and Stefan Schmelzer. 2016a. “Stock-Flow Consistent Modelling of Real- Financial Cycles and Balance Sheet Dynamics.” Preliminary Work-in-Progress Version for 13th EUROFRAME Conference, Utrecht, June 10. Available at: http://www.euroframe.org/files/user_upload/euroframe/docs/2016/conference/Session%2 06/EUROF16_Miess_etal.pdf ———. 2016b. “Extension of the Empirical Stock-Flow Consistent (SFC) Model for Austria: Implementation of Several Asset Classes, a Detailed Tax System and Exploratory Scenarios.” Research report. Available at: http://irihs.ihs.ac.at/4135/. Minsky, Hyman. 1975. John Maynard Keynes. New York: Columbia University Press. ———. 1986. Stabilizing an Unstable Economy. New Haven, CT: Yale University Press. Modigliani, Franco, and Merton H. Miller. 1958. “The Cost of Capital, Corporation Finance and the Theory of Investment.” The American Economic Review 48(3): 261–97. Morris, N., and J. Juniper. 2012. “Modern Money Theory (MM) and Minsky: Towards a Stock- Flow-Consistent (SFC) Synthesis.” In AHE Panel on Modern Monetary Theory at “Political economy and the outlook for capitalism,” a joint conference of the AHE, IIPPE, and FAPE, July 5–7, Paris. Mundell, R.A. 1963. “Capital Mobility and Stabilization Policy under Fixed and Flexible Exchange Rates.” The Canadian Journal of Economics and Political Science / Revue Canadienne d’Economique et de Science Politique 29(4): 475–85. Naqvi, Asjad. 2015. “Modeling Growth, Distribution, and the Environment in a Stock-Flow Consistent Framework.” Institute for Ecological Economics Working Paper 2/2015. Vienna: Vienna University of Economics and Business. Ndikumana, Leonce. 1999. “Debt Service, Financing Constraints, and Fixed Investment: Evidence from Panel Data.” Journal of Post Keynesian Economics 21(3): 455–78. 60 Nikiforos, Michalis. 2016. “A Nonbehavioral Theory of Saving.” Journal of Post Keynesian Economics 39(4): 562–92. Nikiforos, Michalis, Laura Carvalho, and Christian Schoder. 2015. “‘Twin Deficits’ in Greece: In Search of Causality.” Journal of Post Keynesian Economics 38(2): 302–30. Nikiforos, Michalis, and Gennaro Zezza. 2017. “The Trump Effect: Is This Time Different?” Levy Institute Strategic Analysis, April. Annandale-on-Hudson, NY: Levy Economics Institute of Bard College. Nikolaidi, Maria. 2015. “Securitisation, Wage Stagnation and Financial Fragility: A Stock-Flow Consistent Perspective.” Greenwich Papers in Political Economy no. GPERC27. London: University of Greenwich. Papadimitriou, Dimitri B., Greg Hannsgen, and Michalis Nikiforos. 2013. “Is the Link between Output and Jobs Broken?” Levy Institute Strategic Analysis, March. Annandale-on- Hudson, NY: Levy Economics Institute of Bard College. Papadimitriou, Dimitri B., Greg Hannsgen, Michalis Nikiforos, and Gennaro Zezza. 2015. “Fiscal Austerity, Dollar Appreciation, and Maldistribution Will Derail the US Economy.” Levy Institute Strategic Analysis, May. Annandale-on-Hudson, NY: Levy Economics Institute of Bard College. Papadimitriou, Dimitri B., Michalis Nikiforos, and Gennaro Zezza. 2013a. “A Levy Institute Model for Greece.” Levy Institute Technical Report. Annandale-on-Hudson, NY: Levy Economics Institute of Bard College. ———. 2013b. “The Greek Economic Crisis and the Experience of Austerity.” Levy Institute Strategic Analysis, July. Annandale-on-Hudson, NY: Levy Economics Institute of Bard College. ———. 2014a. “Is Greece Heading For a Recovery?” Levy Institute Strategic Analysis, December. Annandale-on-Hudson, NY: Levy Economics Institute of Bard College. ———. 2014b. “Prospects and Policies for the Greek Economy.” Levy Institute Strategic Analysis, February. Annandale-on-Hudson, NY: Levy Economics Institute of Bard College. ———. 2014c. “Will Tourism Save Greece?” Levy Institute Strategic Analysis, August. Annandale-on-Hudson, NY: Levy Economics Institute of Bard College. ———. 2015. “Greece: Conditions and Strategies for Economic Recovery.” Levy Institute Strategic Analysis, May. Annandale-on-Hudson, NY: Levy Economics Institute of Bard College. 61 ———. 2016a. “Greece: Getting Out of the Recession.” Levy Institute Strategic Analysis, October. Annandale-on-Hudson, NY: Levy Economics Institute of Bard College. ———. 2016b. “Destabilizing an Unstable Economy” Levy Institute Strategic Analysis, March. Annandale-on-Hudson, NY: Levy Economics Institute of Bard College. Papadimitriou, Dimitri B., Michalis Nikiforos, Gennaro Zezza, and Greg Hannsgen. 2014. “Is Rising Inequality a Hindrance to the US Economic Recovery?” Levy Institute Strategic Analysis, April. Annandale-on-Hudson, NY: Levy Economics Institute of Bard College. Passarella, Marco. 2012. “A Simplified Stock-Flow Consistent Dynamic Model of the Systemic Financial Fragility in the ‘New Capitalism.’” Journal of Economic Behavior & Organization 83(3): 570–82. ———. 2014. “Financialization and the Monetary Circuit: A Macro-Accounting Approach.” Review of Political Economy 26(1): 107–27. Pyatt, Graham. 1988. “A SAM Approach to Modelling.” Journal of Policy Modeling 10(3): 327– 52. Pyatt, Graham, and Jeffery I. Round. 1977. “Social Accounting Matrices For Development Planning.” Review of Income and Wealth 23(4): 339–64. ———. 1979. “Accounting and Fixed Price Multipliers in a Social Accounting Matrix Framework.” The Economic Journal 89(356): 850–73. Raberto, Marco, Andrea Teglio, and Silvano Cincotti. 2012. “Debt, Deleveraging and Business Cycles: An Agent-Based Perspective.” Economics—The Open-Access, Open-Assessment E-Journal 6: 1–49. Ramsey, F.P. 1928. “A Mathematical Theory of Saving.” The Economic Journal 38(152): 543– 59. Riccetti, Luca, Alberto Russo, and Mauro Gallegati. 2015. “An Agent Based Decentralized Matching Macroeconomic Model.” Journal of Economic Interaction and Coordination 10(2): 305–32. Round, Jeffery I. 2003a. “Constructing SAMs for Development Policy Analysis: Lessons Learned and Challenges Ahead.” Economic Systems Research 15(2): 161–83. ———. 2003b. “Social Accounting Matrices and SAM-Based Multiplier Analysis.” In Francois Bourguignon and Luiz A. Pereira da Silva (eds.), The Impact of Economic Policies on Poverty and Income Distribution: Evaluation Techniques and Tools. Washington, DC and New York: World Bank and Oxford University Press. 62 Rowthorn, Robert. 1981. “Demand Real Wages and Economic Growth.” Thames Papers in Political Economy No 81/3. London: Thames Polytechnic and Northeast London Polytechnic. Sawyer, Malcolm, and Marco Veronese Passarella. 2017. “The Monetary Circuit in the Age of Financialisation: A Stock-Flow Consistent Model with A Twofold Banking Sector.” Metroeconomica 68(2): 321–53. Schasfoort, Joeri, Antoine Godin, Dirk Bezemer, Alessandro Caiani, and Stephen Kinsella. 2016. “Monetary Policy Transmission Mechanisms in an Agent-Based Macroeconomic Model.” Paper presented at “Social Simulation, the Universe and Everything,” Rome, September 19–23.Available at: http://ae2016.it/public/ae2016/files/AE_2016_paper_5.pdf. Schlefer, Jonathan. 2013. “Embracing Wynne Godley, an Economist Who Modeled the Crisis.” The New York Times, September 10. Available at: http://www.nytimes.com/2013/09/11/business/economy/economists-embracing-ideas-of- wynne-godley-late-colleague-who-predicted-recession.html. Schmitz, Birgit, and Jürgen von Hagen. 2011. “Current Account Imbalances and Financial Integration in the Euro Area.” Journal of International Money and Finance 30(8): 1676– 95. Semieniuk, Gregor, Till van Treeck, and Achim Truger. 2011. “Reducing Economic Imbalances in the Euro Area: Some Remarks on the Current Stability Programs, 2011–14.” Levy Economics Institute Working Paper 694. Annandale-on-Hudson, NY: Levy Economics Institute of Bard College. ———. 2012a. “Jamel, a Java Agent-Based MacroEconomic Laboratory.” HAL Archives Working Paper halshs-00697225. Lyon: Centre pour la Communication Scientifique Directe. Available at: http://econpapers.repec.org/paper/halwpaper/halshs-00697225.htm. ———. 2012b. “Flexibility of Wages and Macroeconomic Instability in an Agent-Based Computational Model with Endogenous Money.” Macroeconomic Dynamics 16(S2): 284–97. Seppecher, Pascal. 2014. “Monnaie Endogène et Agents Hétérogènes Dans Un Modèle Stock- Flux Cohérent.” HAL Archives Working Paper hal-01071391. Lyon: Centre pour la Communication Scientifique Directe. Seppecher, Pascal, and Isabelle Salle. 2015. “Deleveraging Crises and Deep Recessions: A Behavioural Approach.” Applied Economics 47(34–35): 3771–90. 63 Seppecher, Pascal, Isabelle Salle, and Dany Lang. 2016. “Is the Market Really a Good Teacher?: Market selection, collective adaptation and financial instability.” 20th Conference of the Research Network Macroeconomics and Macroeconomic Policies, “Towards Pluralism in Macroeconomics?” October 20–22, Berlin. Skott, Peter. 1989. Conflict and Effective Demand in Economic Growth. Cambridge, UK: Cambridge University Press. Skott, Peter, and Soon Ryoo. 2008. “Macroeconomic Implications of Financialisation.” Cambridge Journal of Economics 32(6): 827–62. Solow, Robert M. 1956. “A Contribution to the Theory of Economic Growth.” The Quarterly Journal of Economics 70(1): 65–94. Steindl, Joseph. 1952. Maturity and Stagnation in American Capitalism. Oxford: Basil Blackwell. Stiglitz, Joseph E. 2010. Freefall: America, Free Markets, and the Sinking of the World Economy. New York: W.W. Norton. Stone, Richard, and Alan Brown. 1962. A Computable Model of Economic Growth. London: Chapman & Hall. Swan, T. W. 1956. “Economic Growth and Capital Accumulation.” Economic Record 32(2): 334–61. Taylor, Lance. 1983. Structuralist Macroeconomics. New York: Basil Books. ———. 1990. “Structuralist CGE Models.” In Lance Taylor (ed.), Socially Relevant Policy Analysis: Structuralist Computable General Equilibrium Models for the Developing World. Cambridge, MA: MIT Press. ———. 1991. Income Distribution, Inflation, and Growth: Lectures on Structuralist Macroeconomic Theory. Cambridge, MA: MIT Press. ———. 2004a. Reconstructing Macroeconomics: Structuralist Proposals and Critiques of the Mainstream. Cambridge, MA: Harvard University Press. ———. 2004b. “Exchange Rate Indeterminacy in Portfolio Balance, Mundell–Fleming and Uncovered Interest Rate Parity Models.” Cambridge Journal of Economics 28(2): 205– 27. ———. 2008. “A Foxy Hedgehog: Wynne Godley and Macroeconomic Modelling.” Cambridge Journal of Economics 32(4): 639–63. 64 Taylor, Lance, Edmar L. Bacha, Eliana A. Cardoso, and Frank J. Lysy. 1980. Models of Growth and Distribution for Brazil. New York: Oxford University Press. Taylor, Lance, and Stephen L. Black. 1974. “Practical General Equilibrium Estimation of Resource Pulls under Trade Liberalization.” Journal of International Economics 4(1): 37–58. Taylor, Lance, and Frank J. Lysy. 1979. “Vanishing Income Redistributions: Keynesian Clues about Model Surprises in the Short Run.” Journal of Development Economics 6(1): 11– 29. Taylor, Lance, and Stephen A. O’Connell. 1985. “A Minsky Crisis.” The Quarterly Journal of Economics 100(Supplement): 871–85. Tesfatsion, Leigh, and Kenneth L. Judd. 2006. Handbook of Computational Economics: Agent- Based Computational Economics. Amsterdam: North Holland. Thirlwall, Anthony. 1979. “The Balance of Payments Constraint as an Explanation of International Growth Rate Differences.” BNL Quarterly Review, Banca Nazionale del Lavoro 32(128): 45–53. Tobin, James. 1969. “A General Equilibrium Approach To Monetary Theory.” Journal of Money, Credit and Banking 1(1): 15–29. ———. 1982. “Money and Finance in the Macroeconomic Process.” Journal of Money, Credit and Banking 14(2): 171–204. United Nations. 1999. “Handbook of Input-Output Table Compilation and Analysis.” Studies in Methods: Handbook of National Accounting, Series F, No. 74. New York: United Nations, Department of Economic and Social Affairs, Statistics Division. Valdecantos, Sebastian. 2012. “Macroeconomic Dynamics in Argentina in the Light of a Structuralist-Post Keynesian Stock-Flow Consistent Model.” Unpublished manuscript. Available at: https://archive.org/stream/Jecs20xx/Eje1/Eje1.3/01.03.Valdecantos_djvu.txt. Valdecantos, Sebastian, and Gennaro Zezza. 2015. “Reforming the International Monetary System: A Stock-Flow-Consistent Approach.” Journal of Post Keynesian Economics 38(2): 167–91. van Treeck, Till. 2009. “A Synthetic, Stock-Flow Consistent Macroeconomic Model of Financialisation.” Cambridge Journal of Economics 33(3): 467–93. Volcker, Paul A. 1984. “Facing up to the Twin Deficits.” Challenge 27(1): 4–9. Wolf, Martin. 2012. “The Balance Sheet Recession in the US.” Financial Times, July 19. 65 Wren-Lewis, Simon. 2016. “Heterodox Economics, Mainstream Macro and the Financial Crisis.” Mainly Macro blog, August 29. Available at: https://mainlymacro.blogspot.com/2016/08/heterodox-economics-mainstream- macro.html. Zezza, Gennaro. 2007. “The U.S. Housing Market: A Stock-Flow Consistent Approach.” Ekonomia 10(2): 89–111. ———. 2008. “U.S. Growth, the Housing Market and the Distribution of Income.” Journal of Post Keynesian Economics 30(3): 379–405. ———. 2009. “Fiscal Policy and the Economics of Financial Balances.” Intervention. European Journal of Economics and Economic Policies 6(2): 289–310. ———. 2011. “Income Distribution and Borrowing: Growth and Financial Balances in the US Economy.” In Philip Arestis, Rogério Sobreira, and José Luis Oreiro (eds.), The Financial Crisis: Origins and Implications. Basingstoke, UK and New York: Palgrave Macmillan. ———. 2012. “Godley and Graziani: Stock-Flow Consistent Monetary Circuits.” In Dimitri B. Papadimitriou and Gennaro Zezza (eds.). Contributions in Stock-Flow Consistent Modeling: Essays in Honor of Wynne Godley. Basingstoke, UK: Palgrave MacMillan. 66 APPENDIX: SOCIAL ACCOUNTING MATRICES Another way to portray the accounting skeleton of an economy is the so-called social accounting matrix (SAM). The SAM methodology was first introduced by Richard Stone and was then further developed as a base for multiplier fixed-price models, as well as for CGE models (see the references in the introduction of the paper). Table A1: A Social Accounting Matrix for the Real Sector (1) (2) (3) (4) (5) (6) (7) (14) Output Costs Households Firms Government Central Bank Banks Gross Cap. Formation Totals (A) Output Incomes (B) Households Π , (C) Firms Π (D) Government Π (E) Central Bank (F) Banks Flows of Funds (G) Π , 0 (H) Totals 0 Usually the SAM-based models pay more attention to the real side of the economy, and the complications of the financial sector and asset allocation are ignored. A typical SAM with a similar level of aggregation as the transactions-flow matrix of table 1 is presented in table A1. The first row decomposes total output from the expenditure side and the first column from the income side. The upper-left part of the SAM contains the additional transactions and income transfers between the sectors. Each row contains the sources of funds for each sector and each column represents the uses of these funds. Accounting consistency requires that the sources and uses of funds are equal and therefore the sum of the respective rows and columns of the table are equal. To give an example, the total income of households in row (B) is equal to wages ( ), distributed profits (Π , )—which are a use of funds for the firms in column (3)—income 67 transfers from the government ( )—which are a use of funds for the government in column (4)—and income transfers from the banks on their deposits ( ).17 Overall then: Π , (A1) On the other hand, the households use this income in column (2) for consumption ( ), paying income taxes to the government ( ), and interest to the banks on their loans ( . They save what is left, so we end up once again with the household’s budget constraint in equation (1), which we rewrite here for convenience: Π , (1) We can read the sources and uses of funds of the remaining sectors in the same way. Row (G) contains the flow-of-funds (FoF) accounts with information on the saving of each sector and the negative of the fixed capital formation in the last row. The elements of this row, by accounting principle, sum to zero: Π , 0 (A2) Essentially this row is of the SAM is saying that the sum of the net lending of the various sectors of the economy must sum to zero. In an open-economy model this row would present the “three balances” of the economy (equation 10 in section 4 of the text). The FoF row corresponds with the fixed capital formation column, which also sums to zero. As a result, the conventional SAM is a square matrix with the sum of each row being equal to the sum of each column. This kind of SAM that focuses on the real side of the economy violates the principles of stock- flow consistency, since it remains unclear where the net lending of the various sectors goes. However, it is not hard to modify the conventional configuration to take these principles into account. In table A2 we present a SAM that does that. The upper-left part of the matrix is the 17 The total income transfers on behalf of the government to the households are equal to the interest paid on bills and bonds, . We could make this explicit in the SAM—like in the transactions-flow matrix —with the addition of some more rows and columns. We do not do that here for reasons of economy of space. 68 same as before, but now the FoF part of the SAM shows the changes in the balance sheets of the various sectors, which correspond to their net lending position. 69 Table A2: A Social Accounting Matrix with FoF Information Current Expenditures Changes in Claims (1) (2) (3) (4) (5) (6) (7) (8) (9) (10) (11) (12) (13) (14) Output Costs Households Firms Government Central Bank Banks Gross Cap. Formation HPM Deposits Loans Bills Bonds Equities Totals (A) Output Incomes (B) Households Π , (C) Firms Π (D) Government Π (E) Central Bank (F) Banks Flows of Funds (G) Households Δ Δ Δ 0 (H) Firms Π , Δ 0 (I) Government Δ Δ 0 (J) Central Bank Δ Δ 0 (K) Banks Δ 0 (L) Totals 0 0 0 0 0 0 0 70 The FoF part of the SAM contains exactly the same entries as the respective part of the transactions-flow matrix of table 1. The change in the assets follows the same convention, with uses and sources of funds having a negative and positive sign, respectively. The only difference is that we now need to read the table horizontally. Since all rows in this part of the table sum to zero, we again conclude that the sum of the net lending of the various sectors of the economy sums to zero. In row (H) it becomes clear that the net lending of the firms is equal to their saving (the retained profits) minus investment, as in equation (2). One of the consequences of including the information on the changes in the balance sheets is that the SAM loses its “neat” square form.18 The above implies that the information conveyed in a SAM (like that of table A2) is essentially the same as that of the transactions-flow matrix of table 2, albeit in a different format. Therefore, for a macro model, the choice between a transaction-flow matrix and a SAM is a matter of taste. If properly constructed, both matrices convey the same information and guarantee the accounting consistency of the model. An important advantage of the SAM format is that it is directly compatible with input-output (I-O) tables and the system of accounts (United Nations 1999; Eurostat 2008). 18 Note that in a SAM like that of table A2, it would not have made much difference if investment had been assigned in cell (A3). In this case the cell (H3) would be the net lending of firms and not just retained profits.'"
            ]
          },
          "metadata": {
            "tags": []
          },
          "execution_count": 259
        }
      ]
    },
    {
      "cell_type": "code",
      "metadata": {
        "id": "BZMq7F2oBopo",
        "colab_type": "code",
        "colab": {}
      },
      "source": [
        "import pandas as pd\n",
        "import numpy as np"
      ],
      "execution_count": 0,
      "outputs": []
    },
    {
      "cell_type": "code",
      "metadata": {
        "id": "vTqqjxP9_uAR",
        "colab_type": "code",
        "colab": {}
      },
      "source": [
        "# Here is a long article text - again\n",
        "article = text_content"
      ],
      "execution_count": 0,
      "outputs": []
    },
    {
      "cell_type": "code",
      "metadata": {
        "id": "hUqM3eFrZU8X",
        "colab_type": "code",
        "outputId": "277a29be-58ad-40c1-ebaa-94ffc202b1c4",
        "colab": {
          "base_uri": "https://localhost:8080/",
          "height": 34
        }
      },
      "source": [
        "len(article)"
      ],
      "execution_count": 0,
      "outputs": [
        {
          "output_type": "execute_result",
          "data": {
            "text/plain": [
              "148062"
            ]
          },
          "metadata": {
            "tags": []
          },
          "execution_count": 262
        }
      ]
    },
    {
      "cell_type": "code",
      "metadata": {
        "id": "JJG28XuYZZXq",
        "colab_type": "code",
        "outputId": "6d304d23-34f4-4802-f661-4b6ce3c13701",
        "colab": {
          "base_uri": "https://localhost:8080/",
          "height": 34
        }
      },
      "source": [
        "article.find(\"REFERENCES\")"
      ],
      "execution_count": 0,
      "outputs": [
        {
          "output_type": "execute_result",
          "data": {
            "text/plain": [
              "105484"
            ]
          },
          "metadata": {
            "tags": []
          },
          "execution_count": 263
        }
      ]
    },
    {
      "cell_type": "code",
      "metadata": {
        "id": "i6FEYbN0Zla3",
        "colab_type": "code",
        "colab": {}
      },
      "source": [
        "references_text = article[105480:]\n",
        "article_text = article[:105480]"
      ],
      "execution_count": 0,
      "outputs": []
    },
    {
      "cell_type": "code",
      "metadata": {
        "id": "xtc2VCr4pf69",
        "colab_type": "code",
        "colab": {}
      },
      "source": [
        "# Separate sentences as a separate list\n",
        "sentences = sent_tokenize(article_text)\n",
        "reference_sentences = sent_tokenize(references_text)\n",
        "#print(sentences)"
      ],
      "execution_count": 0,
      "outputs": []
    },
    {
      "cell_type": "code",
      "metadata": {
        "id": "qqthiNxfpXgp",
        "colab_type": "code",
        "colab": {}
      },
      "source": [
        "# create reference list tokens\n",
        "sent_tokens = word_tokenize(sentences[1])\n",
        "\n",
        "# Create sentence tokens\n",
        "reference_sent_tokens = word_tokenize(reference_sentences[1])\n",
        "\n",
        "# Make a set of unique tokens in the entire article: unique_tokens\n",
        "word_tokens = set(word_tokenize(article_text))"
      ],
      "execution_count": 0,
      "outputs": []
    },
    {
      "cell_type": "code",
      "metadata": {
        "colab_type": "code",
        "outputId": "b7275b2a-13f4-4cc0-d5bc-b7facd5cfce9",
        "id": "OQjjZcvde3ih",
        "colab": {
          "base_uri": "https://localhost:8080/",
          "height": 34
        }
      },
      "source": [
        "!pip install tweet-preprocessor\n",
        "import preprocessor as p"
      ],
      "execution_count": 0,
      "outputs": [
        {
          "output_type": "stream",
          "text": [
            "Requirement already satisfied: tweet-preprocessor in /usr/local/lib/python3.6/dist-packages (0.5.0)\n"
          ],
          "name": "stdout"
        }
      ]
    },
    {
      "cell_type": "code",
      "metadata": {
        "colab_type": "code",
        "id": "WJzv-X0Te3ik",
        "colab": {}
      },
      "source": [
        "p.set_options(p.OPT.URL, \tp.OPT.HASHTAG, p.OPT.EMOJI, p.OPT.MENTION, \tp.OPT.RESERVED, \tp.OPT.SMILEY, \tp.OPT.NUMBER)"
      ],
      "execution_count": 0,
      "outputs": []
    },
    {
      "cell_type": "code",
      "metadata": {
        "colab_type": "code",
        "id": "OJrGjVJre3il",
        "colab": {}
      },
      "source": [
        "# Clean the article section using the twee cleaner\n",
        "sent_text_df = pd.DataFrame(sent_tokens)\n",
        "sent_text_df[0]\n",
        "sent_tokens = list(reference_text_df[0].map(p.clean))\n",
        "\n",
        "# Clean the references section using the tweet cleaner\n",
        "reference_text_df = pd.DataFrame(reference_sent_tokens)\n",
        "reference_text_df[0]\n",
        "references_text_clean = list(reference_text_df[0].map(p.clean))\n",
        "\n",
        "# Clean the individual words list using the tweet cleaner\n",
        "word_text_df = pd.DataFrame(word_tokens)\n",
        "word_text_df[0]\n",
        "word_tokens = list(word_text_df[0].map(p.clean))\n"
      ],
      "execution_count": 0,
      "outputs": []
    },
    {
      "cell_type": "code",
      "metadata": {
        "id": "lHgxbsMchMfl",
        "colab_type": "code",
        "colab": {}
      },
      "source": [
        "word_tokens"
      ],
      "execution_count": 0,
      "outputs": []
    },
    {
      "cell_type": "code",
      "metadata": {
        "id": "Trx1d5R3qQeZ",
        "colab_type": "code",
        "outputId": "62bfc599-0056-49a2-b2af-d3be8a9ae7b3",
        "colab": {
          "base_uri": "https://localhost:8080/",
          "height": 51
        }
      },
      "source": [
        "#print(tokenized_sent)\n",
        "#print(unique_tokens)\n",
        "print(type(tokenized_sent))\n",
        "print(type(word_tokens))\n"
      ],
      "execution_count": 0,
      "outputs": [
        {
          "output_type": "stream",
          "text": [
            "<class 'list'>\n",
            "<class 'set'>\n"
          ],
          "name": "stdout"
        }
      ]
    },
    {
      "cell_type": "code",
      "metadata": {
        "id": "2HotypLncSPl",
        "colab_type": "code",
        "colab": {}
      },
      "source": [
        "# Additional exceptions for tokens\n",
        "\n",
        "list_of_random_exclusions = ['k', '-', '—', '2012a']"
      ],
      "execution_count": 0,
      "outputs": []
    },
    {
      "cell_type": "markdown",
      "metadata": {
        "colab_type": "text",
        "id": "cVy7bdZtpUBz"
      },
      "source": [
        "# Cleaning the sentences and individual words of the article\n"
      ]
    },
    {
      "cell_type": "code",
      "metadata": {
        "colab_type": "code",
        "id": "6IHUHRSupUCB",
        "colab": {}
      },
      "source": [
        "tokens_sent = []\n",
        "\n",
        "for x in nlp.pipe(sent_tokens):\n",
        "  proj_tok = [token.lemma_.lower() for token in x if token.pos_ in ['NOUN', 'PROPN', 'ADJ', 'ADV'] and not token.is_stop and token.pos_ not in list_of_random_exclusions] \n",
        "  tokens_sent.append(proj_tok)"
      ],
      "execution_count": 0,
      "outputs": []
    },
    {
      "cell_type": "code",
      "metadata": {
        "id": "e-5W_TW-sQmj",
        "colab_type": "code",
        "colab": {}
      },
      "source": [
        "tokens_words = []\n",
        "\n",
        "for x in nlp.pipe(word_tokens):\n",
        "  proj_tok = [token.lemma_.lower() for token in x if token.pos_ in ['NOUN', 'PROPN', 'ADJ', 'ADV'] and not token.is_stop and token.pos_ not in list_of_random_exclusions] \n",
        "  tokens_words.append(proj_tok)"
      ],
      "execution_count": 0,
      "outputs": []
    },
    {
      "cell_type": "code",
      "metadata": {
        "colab_type": "code",
        "id": "7DosadvcpUCC",
        "colab": {}
      },
      "source": [
        "tokens_sent"
      ],
      "execution_count": 0,
      "outputs": []
    },
    {
      "cell_type": "code",
      "metadata": {
        "id": "nMFVjhLWsggl",
        "colab_type": "code",
        "colab": {}
      },
      "source": [
        "tokens_words"
      ],
      "execution_count": 0,
      "outputs": []
    },
    {
      "cell_type": "markdown",
      "metadata": {
        "id": "SyM1vyFRs3cv",
        "colab_type": "text"
      },
      "source": [
        "## Load the graphical interface and dictionary generator\n"
      ]
    },
    {
      "cell_type": "code",
      "metadata": {
        "colab_type": "code",
        "id": "m1YdZU7YpUCH",
        "colab": {}
      },
      "source": [
        "!pip install -qq -U gensim"
      ],
      "execution_count": 0,
      "outputs": []
    },
    {
      "cell_type": "code",
      "metadata": {
        "colab_type": "code",
        "id": "nrMAM0oVpUCI",
        "colab": {}
      },
      "source": [
        "# Import the dictionary builder\n",
        "from gensim.corpora.dictionary import Dictionary"
      ],
      "execution_count": 0,
      "outputs": []
    },
    {
      "cell_type": "code",
      "metadata": {
        "colab_type": "code",
        "id": "O_aCRf0ipUCJ",
        "colab": {}
      },
      "source": [
        "# Create a Dictionary from the articles: dictionary\n",
        "dictionary_sent = Dictionary(tokens_sent)\n",
        "dictionary_words = Dictionary(tokens_words)"
      ],
      "execution_count": 0,
      "outputs": []
    },
    {
      "cell_type": "code",
      "metadata": {
        "colab_type": "code",
        "id": "YRvL_K91pUCL",
        "colab": {}
      },
      "source": [
        "# filter out low-frequency / high-frequency stuff, also limit the vocabulary to max 1000 words\n",
        "dictionary_sent.filter_extremes(no_below=3, no_above=0.5, keep_n=1000)\n",
        "dictionary_words.filter_extremes(no_below=3, no_above=0.5, keep_n=1000)"
      ],
      "execution_count": 0,
      "outputs": []
    },
    {
      "cell_type": "code",
      "metadata": {
        "colab_type": "code",
        "id": "-DTHSojgpUCM",
        "colab": {}
      },
      "source": [
        "# construct corpus using this dictionary\n",
        "corpus_sent = [dictionary_sent.doc2bow(doc) for doc in tokens_sent]\n",
        "corpus_words = [dictionary_words.doc2bow(doc) for doc in tokens_words]"
      ],
      "execution_count": 0,
      "outputs": []
    },
    {
      "cell_type": "code",
      "metadata": {
        "colab_type": "code",
        "id": "zMxgVV1FpUCO",
        "colab": {}
      },
      "source": [
        "# That's how the corpus looks\n",
        "# corpus_sent[:]\n",
        "corpus_words[:100]"
      ],
      "execution_count": 0,
      "outputs": []
    },
    {
      "cell_type": "code",
      "metadata": {
        "colab_type": "code",
        "id": "mw9EGowN933I",
        "colab": {}
      },
      "source": [
        "# and import it\n",
        "import pyLDAvis.gensim\n",
        "%matplotlib inline\n",
        "pyLDAvis.enable_notebook()"
      ],
      "execution_count": 0,
      "outputs": []
    },
    {
      "cell_type": "code",
      "metadata": {
        "colab_type": "code",
        "id": "LBmVUUbB933L",
        "colab": {}
      },
      "source": [
        "# we'll use the faster multicore version of LDA\n",
        "\n",
        "from gensim.models import LdaMulticore"
      ],
      "execution_count": 0,
      "outputs": []
    },
    {
      "cell_type": "code",
      "metadata": {
        "colab_type": "code",
        "id": "1yq3H-2b933N",
        "colab": {}
      },
      "source": [
        "# Training the model (makes some mess atm due to version clashes)\n",
        "\n",
        "lda_model = LdaMulticore(corpus_words, id2word=dictionary_words,  num_topics=10, workers = 4, passes=10)"
      ],
      "execution_count": 0,
      "outputs": []
    },
    {
      "cell_type": "code",
      "metadata": {
        "colab_type": "code",
        "id": "wChulj7w933O",
        "colab": {}
      },
      "source": [
        "# Check out topics\n",
        "lda_model.print_topics(-1)"
      ],
      "execution_count": 0,
      "outputs": []
    },
    {
      "cell_type": "code",
      "metadata": {
        "colab_type": "code",
        "outputId": "8998703e-217b-4311-98ac-a039a9041454",
        "id": "3LPzeP0G933Q",
        "colab": {
          "base_uri": "https://localhost:8080/",
          "height": 136
        }
      },
      "source": [
        "# Let's try to visualize\n",
        "lda_display = pyLDAvis.gensim.prepare(lda_model, corpus_words, dictionary_words, sort_topics=False)\n"
      ],
      "execution_count": 0,
      "outputs": [
        {
          "output_type": "stream",
          "text": [
            "FutureWarning: Sorting because non-concatenation axis is not aligned. A future version\n",
            "of pandas will change to not sort by default.\n",
            "\n",
            "To accept the future behavior, pass 'sort=False'.\n",
            "\n",
            "To retain the current behavior and silence the warning, pass 'sort=True'.\n",
            " [_prepare.py:257]\n"
          ],
          "name": "stderr"
        }
      ]
    },
    {
      "cell_type": "code",
      "metadata": {
        "colab_type": "code",
        "id": "fmuYQFHb933S",
        "outputId": "c53b7872-fc5b-4303-f745-1c59159fdf97",
        "colab": {
          "base_uri": "https://localhost:8080/",
          "height": 861
        }
      },
      "source": [
        "# Let's Visualize\n",
        "pyLDAvis.display(lda_display)"
      ],
      "execution_count": 0,
      "outputs": [
        {
          "output_type": "execute_result",
          "data": {
            "text/html": [
              "\n",
              "<link rel=\"stylesheet\" type=\"text/css\" href=\"https://cdn.rawgit.com/bmabey/pyLDAvis/files/ldavis.v1.0.0.css\">\n",
              "\n",
              "\n",
              "<div id=\"ldavis_el1231401807564988562404360549\"></div>\n",
              "<script type=\"text/javascript\">\n",
              "\n",
              "var ldavis_el1231401807564988562404360549_data = {\"mdsDat\": {\"x\": [-0.12749418243820038, -0.04857970887945598, -0.13290351869796366, -0.09425120851199943, 0.22484452420267437, -0.04836566233848045, 0.031893046619991684, 0.05726438443648919, -0.04965269134898857, 0.18724501695593346], \"y\": [-0.07231636359645471, 0.21972819700626092, -0.12674801291841026, -0.11345750830937064, -0.15135888204633455, 0.030359865709792162, 0.021014785653730685, 0.15418524930694666, 0.030855474019921576, 0.007737195173918223], \"topics\": [1, 2, 3, 4, 5, 6, 7, 8, 9, 10], \"cluster\": [1, 1, 1, 1, 1, 1, 1, 1, 1, 1], \"Freq\": [9.322507858276367, 10.365589141845703, 9.955544471740723, 11.001261711120605, 12.409563064575195, 8.367401123046875, 9.388768196105957, 9.911422729492188, 9.457306861877441, 9.820636749267578]}, \"tinfo\": {\"Category\": [\"Default\", \"Default\", \"Default\", \"Default\", \"Default\", \"Default\", \"Default\", \"Default\", \"Default\", \"Default\", \"Default\", \"Default\", \"Default\", \"Default\", \"Default\", \"Default\", \"Default\", \"Default\", \"Default\", \"Default\", \"Default\", \"Default\", \"Default\", \"Default\", \"Default\", \"Default\", \"Default\", \"Default\", \"Default\", \"Default\", \"Topic1\", \"Topic1\", \"Topic1\", \"Topic1\", \"Topic1\", \"Topic1\", \"Topic1\", \"Topic1\", \"Topic1\", \"Topic1\", \"Topic1\", \"Topic1\", \"Topic1\", \"Topic1\", \"Topic1\", \"Topic1\", \"Topic1\", \"Topic1\", \"Topic1\", \"Topic1\", \"Topic1\", \"Topic1\", \"Topic1\", \"Topic1\", \"Topic1\", \"Topic1\", \"Topic1\", \"Topic1\", \"Topic1\", \"Topic1\", \"Topic1\", \"Topic1\", \"Topic1\", \"Topic1\", \"Topic1\", \"Topic1\", \"Topic1\", \"Topic1\", \"Topic1\", \"Topic1\", \"Topic1\", \"Topic1\", \"Topic1\", \"Topic1\", \"Topic1\", \"Topic2\", \"Topic2\", \"Topic2\", \"Topic2\", \"Topic2\", \"Topic2\", \"Topic2\", \"Topic2\", \"Topic2\", \"Topic2\", \"Topic2\", \"Topic2\", \"Topic2\", \"Topic2\", \"Topic2\", \"Topic2\", \"Topic2\", \"Topic2\", \"Topic2\", \"Topic2\", \"Topic2\", \"Topic2\", \"Topic2\", \"Topic2\", \"Topic2\", \"Topic2\", \"Topic2\", \"Topic2\", \"Topic2\", \"Topic2\", \"Topic2\", \"Topic2\", \"Topic2\", \"Topic2\", \"Topic2\", \"Topic2\", \"Topic2\", \"Topic2\", \"Topic2\", \"Topic2\", \"Topic2\", \"Topic2\", \"Topic2\", \"Topic2\", \"Topic2\", \"Topic2\", \"Topic3\", \"Topic3\", \"Topic3\", \"Topic3\", \"Topic3\", \"Topic3\", \"Topic3\", \"Topic3\", \"Topic3\", \"Topic3\", \"Topic3\", \"Topic3\", \"Topic3\", \"Topic3\", \"Topic3\", \"Topic3\", \"Topic3\", \"Topic3\", \"Topic3\", \"Topic3\", \"Topic3\", \"Topic3\", \"Topic3\", \"Topic3\", \"Topic3\", \"Topic3\", \"Topic3\", \"Topic3\", \"Topic3\", \"Topic3\", \"Topic3\", \"Topic3\", \"Topic3\", \"Topic3\", \"Topic3\", \"Topic3\", \"Topic3\", \"Topic3\", \"Topic3\", \"Topic3\", \"Topic3\", \"Topic3\", \"Topic3\", \"Topic3\", \"Topic3\", \"Topic4\", \"Topic4\", \"Topic4\", \"Topic4\", \"Topic4\", \"Topic4\", \"Topic4\", \"Topic4\", \"Topic4\", \"Topic4\", \"Topic4\", \"Topic4\", \"Topic4\", \"Topic4\", \"Topic4\", \"Topic4\", \"Topic4\", \"Topic4\", \"Topic4\", \"Topic4\", \"Topic4\", \"Topic4\", \"Topic4\", \"Topic4\", \"Topic4\", \"Topic4\", \"Topic4\", \"Topic4\", \"Topic4\", \"Topic4\", \"Topic4\", \"Topic4\", \"Topic4\", \"Topic4\", \"Topic4\", \"Topic4\", \"Topic4\", \"Topic4\", \"Topic5\", \"Topic5\", \"Topic5\", \"Topic5\", \"Topic5\", \"Topic5\", \"Topic5\", \"Topic5\", \"Topic5\", \"Topic5\", \"Topic5\", \"Topic5\", \"Topic5\", \"Topic5\", \"Topic5\", \"Topic5\", \"Topic5\", \"Topic5\", \"Topic5\", \"Topic5\", \"Topic5\", \"Topic5\", \"Topic5\", \"Topic5\", \"Topic5\", \"Topic5\", \"Topic5\", \"Topic5\", \"Topic5\", \"Topic5\", \"Topic5\", \"Topic5\", \"Topic5\", \"Topic5\", \"Topic5\", \"Topic5\", \"Topic5\", \"Topic6\", \"Topic6\", \"Topic6\", \"Topic6\", \"Topic6\", \"Topic6\", \"Topic6\", \"Topic6\", \"Topic6\", \"Topic6\", \"Topic6\", \"Topic6\", \"Topic6\", \"Topic6\", \"Topic6\", \"Topic6\", \"Topic6\", \"Topic6\", \"Topic6\", \"Topic6\", \"Topic6\", \"Topic6\", \"Topic6\", \"Topic6\", \"Topic6\", \"Topic6\", \"Topic6\", \"Topic6\", \"Topic6\", \"Topic6\", \"Topic6\", \"Topic6\", \"Topic6\", \"Topic6\", \"Topic6\", \"Topic6\", \"Topic6\", \"Topic6\", \"Topic6\", \"Topic6\", \"Topic6\", \"Topic6\", \"Topic6\", \"Topic7\", \"Topic7\", \"Topic7\", \"Topic7\", \"Topic7\", \"Topic7\", \"Topic7\", \"Topic7\", \"Topic7\", \"Topic7\", \"Topic7\", \"Topic7\", \"Topic7\", \"Topic7\", \"Topic7\", \"Topic7\", \"Topic7\", \"Topic7\", \"Topic7\", \"Topic7\", \"Topic7\", \"Topic7\", \"Topic7\", \"Topic7\", \"Topic7\", \"Topic7\", \"Topic7\", \"Topic7\", \"Topic7\", \"Topic7\", \"Topic7\", \"Topic7\", \"Topic7\", \"Topic7\", \"Topic7\", \"Topic7\", \"Topic7\", \"Topic7\", \"Topic7\", \"Topic7\", \"Topic7\", \"Topic7\", \"Topic7\", \"Topic7\", \"Topic7\", \"Topic8\", \"Topic8\", \"Topic8\", \"Topic8\", \"Topic8\", \"Topic8\", \"Topic8\", \"Topic8\", \"Topic8\", \"Topic8\", \"Topic8\", \"Topic8\", \"Topic8\", \"Topic8\", \"Topic8\", \"Topic8\", \"Topic8\", \"Topic8\", \"Topic8\", \"Topic8\", \"Topic8\", \"Topic8\", \"Topic8\", \"Topic8\", \"Topic8\", \"Topic8\", \"Topic8\", \"Topic8\", \"Topic8\", \"Topic8\", \"Topic8\", \"Topic8\", \"Topic8\", \"Topic8\", \"Topic8\", \"Topic8\", \"Topic8\", \"Topic8\", \"Topic8\", \"Topic8\", \"Topic8\", \"Topic8\", \"Topic8\", \"Topic8\", \"Topic8\", \"Topic8\", \"Topic9\", \"Topic9\", \"Topic9\", \"Topic9\", \"Topic9\", \"Topic9\", \"Topic9\", \"Topic9\", \"Topic9\", \"Topic9\", \"Topic9\", \"Topic9\", \"Topic9\", \"Topic9\", \"Topic9\", \"Topic9\", \"Topic9\", \"Topic9\", \"Topic9\", \"Topic9\", \"Topic9\", \"Topic9\", \"Topic9\", \"Topic9\", \"Topic9\", \"Topic9\", \"Topic9\", \"Topic9\", \"Topic9\", \"Topic9\", \"Topic9\", \"Topic9\", \"Topic9\", \"Topic9\", \"Topic9\", \"Topic9\", \"Topic9\", \"Topic9\", \"Topic9\", \"Topic9\", \"Topic9\", \"Topic9\", \"Topic9\", \"Topic9\", \"Topic10\", \"Topic10\", \"Topic10\", \"Topic10\", \"Topic10\", \"Topic10\", \"Topic10\", \"Topic10\", \"Topic10\", \"Topic10\", \"Topic10\", \"Topic10\", \"Topic10\", \"Topic10\", \"Topic10\", \"Topic10\", \"Topic10\", \"Topic10\", \"Topic10\", \"Topic10\", \"Topic10\", \"Topic10\", \"Topic10\", \"Topic10\", \"Topic10\", \"Topic10\", \"Topic10\", \"Topic10\", \"Topic10\", \"Topic10\", \"Topic10\", \"Topic10\", \"Topic10\", \"Topic10\", \"Topic10\", \"Topic10\", \"Topic10\", \"Topic10\", \"Topic10\", \"Topic10\", \"Topic10\", \"Topic10\"], \"Freq\": [7.0, 7.0, 6.0, 6.0, 5.0, 6.0, 5.0, 5.0, 6.0, 7.0, 5.0, 5.0, 6.0, 4.0, 5.0, 5.0, 4.0, 4.0, 4.0, 4.0, 6.0, 4.0, 3.0, 4.0, 3.0, 4.0, 3.0, 3.0, 3.0, 3.0, 4.255584239959717, 2.6115214824676514, 2.601691961288452, 2.601710081100464, 2.601710319519043, 2.591891288757324, 2.5918917655944824, 2.591890811920166, 2.5805344581604004, 0.9266648888587952, 0.9266473650932312, 0.29868966341018677, 0.09406150877475739, 0.09406048059463501, 0.08424448221921921, 0.08424443751573563, 0.08424433320760727, 0.14877845346927643, 0.08424440771341324, 0.08424440771341324, 0.08424437046051025, 0.08424468338489532, 0.084244005382061, 0.08424445241689682, 0.08424433320760727, 0.08424429595470428, 0.0842445120215416, 0.0842442438006401, 0.08424472063779831, 0.08424457907676697, 0.08425605297088623, 0.1152290627360344, 0.09406141191720963, 0.08425656706094742, 0.08424943685531616, 0.08424623310565948, 0.08424609154462814, 0.08424581587314606, 0.08424563705921173, 0.08424544334411621, 0.08424537628889084, 0.08424533903598785, 0.08424527943134308, 0.08424525707960129, 0.08424519002437592, 4.68686580657959, 3.8514301776885986, 3.162266731262207, 3.133896589279175, 2.3909800052642822, 2.3909788131713867, 2.3909785747528076, 2.3819892406463623, 2.3819892406463623, 3.1533210277557373, 1.6196740865707397, 0.08611845225095749, 0.08611800521612167, 0.08611815422773361, 0.07713010907173157, 0.07712972164154053, 0.07712981104850769, 0.07713015377521515, 0.07712946832180023, 0.07712984830141068, 0.07712982594966888, 0.07712972909212112, 0.07713015377521515, 0.07713010907173157, 0.07712987065315247, 0.07713013142347336, 0.07712988555431366, 0.07712991535663605, 0.07713010907173157, 0.07712992280721664, 0.10063645988702774, 0.10409682989120483, 0.08611992001533508, 0.08611983805894852, 0.07713446021080017, 0.07713156193494797, 0.07713127136230469, 0.07713120430707932, 0.07713108509778976, 0.07713089138269424, 0.07713080197572708, 0.07713078707456589, 0.07713073492050171, 0.07713066041469574, 0.07713063806295395, 0.07713063806295395, 7.004865646362305, 2.454939365386963, 2.445709466934204, 2.445709705352783, 2.4457106590270996, 2.4364795684814453, 2.4364659786224365, 2.425809383392334, 2.445730209350586, 1.653824806213379, 1.6630539894104004, 0.0884215235710144, 0.08842140436172485, 0.08842193335294724, 0.08842162042856216, 0.07919325679540634, 0.0791928619146347, 0.07919308543205261, 0.07919324189424515, 0.07919318974018097, 0.07919315993785858, 0.0791928842663765, 0.07919313758611679, 0.0791933611035347, 0.07919315993785858, 0.07919302582740784, 0.0791928619146347, 0.07919349521398544, 0.07919329404830933, 0.0791935920715332, 0.0884212926030159, 0.08842194825410843, 0.08842089027166367, 0.0884217694401741, 0.08842156082391739, 0.09227927029132843, 0.08842279762029648, 0.07920099794864655, 0.0791986882686615, 0.07919447124004364, 0.07919443398714066, 0.07919427752494812, 0.0791940987110138, 0.07919412106275558, 0.07919403910636902, 5.309042453765869, 4.6508469581604, 3.1599621772766113, 3.159961223602295, 2.402899980545044, 2.4028995037078857, 2.402897596359253, 2.3938632011413574, 2.3938632011413574, 2.3938639163970947, 2.383455514907837, 0.8526083827018738, 0.09026861190795898, 0.08654648810625076, 0.08654703944921494, 0.08654831349849701, 0.08654717355966568, 0.08654610067605972, 0.08654733002185822, 0.0865471139550209, 0.08654697239398956, 0.0865466445684433, 0.07751438021659851, 0.07751432806253433, 0.07751458883285522, 0.0775144100189209, 0.07751459628343582, 0.07751436531543732, 0.07751424610614777, 0.07751448452472687, 0.09558219462633133, 0.07752163708209991, 0.07752037793397903, 0.07751955091953278, 0.07751868665218353, 0.07751620560884476, 0.07751579582691193, 0.07751559466123581, 5.977400302886963, 5.1127190589904785, 3.771284341812134, 3.0301265716552734, 3.03010892868042, 2.2975947856903076, 2.297593593597412, 2.2889564037323, 2.2889556884765625, 4.512460231781006, 3.0400755405426025, 0.8152405619621277, 0.8152243494987488, 0.18760879337787628, 0.08275408297777176, 0.08275410532951355, 0.08275595307350159, 0.0827542319893837, 0.08275415748357773, 0.08275391161441803, 0.08275320380926132, 0.0827547013759613, 0.08275528252124786, 0.07411755621433258, 0.07411754131317139, 0.0741175040602684, 0.07411783188581467, 0.0741177573800087, 0.07411743700504303, 0.07411733269691467, 0.09139018505811691, 0.10138106346130371, 0.0827539786696434, 0.08275626599788666, 0.08275588601827621, 0.07412223517894745, 0.07411897927522659, 4.27824592590332, 4.2571187019348145, 3.4472496509552, 3.4216229915618896, 2.6064517498016357, 2.5966548919677734, 2.596656084060669, 0.10520674288272858, 0.11500519514083862, 0.09387839585542679, 0.09387830644845963, 0.09387940913438797, 0.09387800097465515, 0.09387767314910889, 0.09387800097465515, 0.09387905895709991, 0.09387864917516708, 0.08408086001873016, 0.0840807855129242, 0.08408068865537643, 0.08408074080944061, 0.0840807855129242, 0.08408068120479584, 0.08408042788505554, 0.08408096432685852, 0.08408107608556747, 0.08408030867576599, 0.08408086746931076, 0.08408084511756897, 0.08408055454492569, 0.09388105571269989, 0.09387896955013275, 0.09387824684381485, 0.09388018399477005, 0.09387792646884918, 0.09387810528278351, 0.08408290892839432, 0.08408279716968536, 0.08408242464065552, 0.08408180624246597, 0.08408177644014359, 0.08408169448375702, 0.08408169448375702, 5.073198318481445, 4.129955291748047, 3.413203716278076, 2.5880680084228516, 2.5783393383026123, 2.578338384628296, 2.578338146209717, 2.5686087608337402, 0.9183624386787415, 0.9183341860771179, 0.10446427017450333, 0.09321567416191101, 0.0932147353887558, 0.09321621060371399, 0.09321588277816772, 0.08348790556192398, 0.08348755538463593, 0.08348777890205383, 0.08348777890205383, 0.08348783105611801, 0.08348777890205383, 0.08348746597766876, 0.08348790556192398, 0.0834880843758583, 0.08348731696605682, 0.08348778635263443, 0.08348770439624786, 0.08348770439624786, 0.08348781615495682, 0.08348805457353592, 0.09321711212396622, 0.09321662783622742, 0.09321733564138412, 0.09333224594593048, 0.0834980309009552, 0.08349419385194778, 0.08348993957042694, 0.08348957449197769, 0.08348870277404785, 0.08348871022462845, 0.08348856121301651, 0.08348853141069412, 0.08348846435546875, 0.08348844200372696, 0.08348828554153442, 5.666090488433838, 4.072507858276367, 2.486802577972412, 2.4774534702301025, 2.47745418548584, 2.4681050777435303, 2.468104600906372, 2.460545778274536, 2.457301139831543, 1.6845943927764893, 0.8823672533035278, 0.10037843883037567, 0.08956871926784515, 0.08022087067365646, 0.0802207663655281, 0.08022104948759079, 0.08022123575210571, 0.1003788486123085, 0.08022116869688034, 0.08022098243236542, 0.0802207663655281, 0.08022124320268631, 0.08022129535675049, 0.08022069931030273, 0.08022098988294601, 0.08022092282772064, 0.08022084087133408, 0.0802212730050087, 0.08022138476371765, 0.08022119849920273, 0.09891889989376068, 0.09892015159130096, 0.09892088174819946, 0.08957167714834213, 0.08022633194923401, 0.08022293448448181, 0.08022256195545197, 0.08022210747003555, 0.08022204786539078, 0.08022194355726242, 0.08022182434797287, 0.08022177964448929, 0.08022180199623108, 0.0802217572927475, 0.08022168278694153, 0.08022163808345795, 7.172033309936523, 3.2312543392181396, 2.4571142196655273, 2.4571139812469482, 2.4478650093078613, 2.4478766918182373, 2.43863844871521, 2.43863844871521, 2.427959442138672, 0.23963208496570587, 0.22070524096488953, 0.1451811045408249, 0.09917746484279633, 0.08850017935037613, 0.08849947154521942, 0.08849874883890152, 0.08849932998418808, 0.07926338165998459, 0.07926326990127563, 0.07926347851753235, 0.07926333695650101, 0.07926325500011444, 0.07926318049430847, 0.07926338165998459, 0.07926338165998459, 0.079262875020504, 0.07926316559314728, 0.07926313579082489, 0.07926302403211594, 0.07926344871520996, 0.09773913025856018, 0.08849988877773285, 0.07926343381404877, 0.07927256077528, 0.07926801592111588, 0.07926786690950394, 0.07926482707262039, 0.07926469296216965, 0.07926437258720398, 0.07926423847675323, 0.07926411926746368, 0.07926413416862488, 0.07926401495933533, 0.07926402986049652, 5.736113548278809, 2.512739419937134, 2.503293037414551, 2.5032925605773926, 2.5032923221588135, 2.503293037414551, 2.503293037414551, 4.1244425773620605, 4.104110240936279, 0.09424935281276703, 0.09050331264734268, 0.09050275385379791, 0.09050361067056656, 0.0905027836561203, 0.0905027836561203, 0.09050238877534866, 0.09050295501947403, 0.09050253033638, 0.08105764538049698, 0.08105755597352982, 0.08105763792991638, 0.08105765283107758, 0.08105781674385071, 0.08105774223804474, 0.08105768263339996, 0.08105803281068802, 0.08105811476707458, 0.08105774968862534, 0.08105769753456116, 0.08105754852294922, 0.11087170243263245, 0.11087184399366379, 0.09050430357456207, 0.08105938881635666, 0.08105935901403427, 0.08105891942977905, 0.0810588151216507, 0.08105875551700592, 0.08105853945016861, 0.08105842769145966, 0.08105836808681488, 0.08105835318565369], \"Term\": [\"country\", \"economy\", \"transaction\", \"model\", \"type\", \"debt\", \"supply\", \"economic\", \"\\u2014\", \"flow\", \"balance\", \"financial\", \"agent\", \"income\", \"sector\", \"stock\", \"sfc\", \"good\", \"bank\", \"sheet\", \"asset\", \"ert\", \"household\", \"high\", \"loan\", \"account\", \"theory\", \"fund\", \"time\", \"section\", \"financial\", \"open\", \"private\", \"closure\", \"system\", \"gain\", \"c\", \"region\", \"medium\", \"run\", \"capital\", \"economy\", \"group\", \"deficit\", \"chapter\", \"finance\", \"distribution\", \"sector\", \"conclusion\", \"equity\", \"macroeconomic\", \"publication\", \"short\", \"variable\", \"ratio\", \"change\", \"classification\", \"matrix\", \"recent\", \"extension\", \"surplus\", \"economic\", \"sheet\", \"long\", \"model\", \"country\", \"debt\", \"type\", \"asset\", \"balance\", \"high\", \"stock\", \"agent\", \"bank\", \"account\", \"balance\", \"sheet\", \"loan\", \"fund\", \"equity\", \"macroeconomic\", \"conclusion\", \"publication\", \"deficit\", \"account\", \"net\", \"year\", \"paper\", \"government\", \"chapter\", \"finance\", \"distribution\", \"group\", \"short\", \"variable\", \"change\", \"ratio\", \"classification\", \"matrix\", \"recent\", \"extension\", \"market\", \"surplus\", \"period\", \"sum\", \"bank\", \"country\", \"stock\", \"flow\", \"\\u2014\", \"economy\", \"debt\", \"asset\", \"agent\", \"sector\", \"model\", \"transaction\", \"high\", \"economic\", \"policy\", \"supply\", \"economy\", \"sum\", \"extension\", \"period\", \"monetary\", \"market\", \"surplus\", \"year\", \"capital\", \"short\", \"run\", \"classification\", \"gain\", \"c\", \"region\", \"chapter\", \"finance\", \"distribution\", \"group\", \"conclusion\", \"macroeconomic\", \"equity\", \"publication\", \"deficit\", \"variable\", \"ratio\", \"change\", \"matrix\", \"recent\", \"paper\", \"term\", \"household\", \"high\", \"account\", \"supply\", \"country\", \"\\u2014\", \"private\", \"open\", \"sector\", \"debt\", \"agent\", \"transaction\", \"asset\", \"balance\", \"\\u2014\", \"sector\", \"policy\", \"price\", \"ratio\", \"change\", \"variable\", \"classification\", \"matrix\", \"recent\", \"long\", \"run\", \"bond\", \"publication\", \"deposit\", \"keynesian\", \"total\", \"consistent\", \"credit\", \"law\", \"process\", \"time\", \"chapter\", \"finance\", \"distribution\", \"group\", \"conclusion\", \"equity\", \"macroeconomic\", \"deficit\", \"type\", \"medium\", \"private\", \"sheet\", \"income\", \"country\", \"economy\", \"debt\", \"debt\", \"stock\", \"high\", \"term\", \"firm\", \"finance\", \"chapter\", \"distribution\", \"group\", \"asset\", \"flow\", \"short\", \"long\", \"income\", \"extension\", \"market\", \"surplus\", \"paper\", \"deposit\", \"analysis\", \"survey\", \"government\", \"private\", \"equity\", \"conclusion\", \"macroeconomic\", \"publication\", \"deficit\", \"variable\", \"ratio\", \"sfc\", \"\\u2014\", \"capital\", \"sheet\", \"transaction\", \"household\", \"economy\", \"supply\", \"economic\", \"good\", \"bank\", \"theory\", \"time\", \"section\", \"year\", \"fund\", \"surplus\", \"equation\", \"consumption\", \"analysis\", \"neoclassical\", \"specification\", \"c\", \"region\", \"chapter\", \"finance\", \"distribution\", \"group\", \"macroeconomic\", \"conclusion\", \"equity\", \"publication\", \"deficit\", \"short\", \"variable\", \"change\", \"ratio\", \"firm\", \"price\", \"policy\", \"household\", \"ert\", \"financial\", \"country\", \"economy\", \"debt\", \"transaction\", \"type\", \"model\", \"agent\", \"type\", \"income\", \"ert\", \"bill\", \"foreign\", \"investment\", \"specification\", \"government\", \"net\", \"asset\", \"consumption\", \"recent\", \"monetary\", \"table\", \"instead\", \"chapter\", \"finance\", \"distribution\", \"group\", \"conclusion\", \"macroeconomic\", \"equity\", \"publication\", \"deficit\", \"short\", \"change\", \"variable\", \"ratio\", \"classification\", \"matrix\", \"price\", \"policy\", \"agent\", \"debt\", \"keynesian\", \"\\u2014\", \"country\", \"economy\", \"supply\", \"high\", \"balance\", \"stock\", \"model\", \"sector\", \"economic\", \"model\", \"sfc\", \"output\", \"consistent\", \"table\", \"analysis\", \"credit\", \"bond\", \"total\", \"agent\", \"account\", \"medium\", \"section\", \"chapter\", \"finance\", \"distribution\", \"group\", \"long\", \"macroeconomic\", \"equity\", \"conclusion\", \"publication\", \"deficit\", \"short\", \"change\", \"ratio\", \"variable\", \"classification\", \"matrix\", \"recent\", \"sector\", \"debt\", \"flow\", \"stock\", \"financial\", \"country\", \"economy\", \"asset\", \"type\", \"high\", \"supply\", \"economic\", \"balance\", \"transaction\", \"ert\", \"\\u2014\", \"country\", \"household\", \"reserve\", \"wage\", \"keynesian\", \"equation\", \"paper\", \"deposit\", \"consumption\", \"\\u2014\", \"stock\", \"sheet\", \"total\", \"distribution\", \"period\", \"foreign\", \"closure\", \"chapter\", \"finance\", \"group\", \"conclusion\", \"macroeconomic\", \"equity\", \"publication\", \"deficit\", \"short\", \"ratio\", \"change\", \"variable\", \"classification\", \"balance\", \"transaction\", \"matrix\", \"firm\", \"type\", \"economy\", \"debt\", \"asset\", \"supply\", \"high\", \"sector\", \"agent\", \"sfc\", \"financial\", \"transaction\", \"eurozone\", \"survey\", \"law\", \"process\", \"instead\", \"neoclassical\", \"agent\", \"flow\", \"bond\", \"short\", \"matrix\", \"market\", \"credit\", \"investment\", \"medium\", \"gain\", \"system\", \"finance\", \"chapter\", \"distribution\", \"group\", \"conclusion\", \"equity\", \"macroeconomic\", \"publication\", \"deficit\", \"variable\", \"change\", \"ratio\", \"financial\", \"model\", \"asset\", \"economy\", \"country\", \"debt\", \"high\", \"economic\", \"price\", \"type\", \"account\", \"sector\"], \"Total\": [7.0, 7.0, 6.0, 6.0, 5.0, 6.0, 5.0, 5.0, 6.0, 7.0, 5.0, 5.0, 6.0, 4.0, 5.0, 5.0, 4.0, 4.0, 4.0, 4.0, 6.0, 4.0, 3.0, 4.0, 3.0, 4.0, 3.0, 3.0, 3.0, 3.0, 5.0112690925598145, 3.3275911808013916, 3.3264071941375732, 3.327012062072754, 3.3272206783294678, 3.326631784439087, 3.326984167098999, 3.32698392868042, 3.3262078762054443, 4.001684665679932, 4.017887115478516, 7.940443515777588, 3.024965524673462, 3.1149871349334717, 3.023786783218384, 3.0237858295440674, 3.024385452270508, 5.456881046295166, 3.114158868789673, 3.114159345626831, 3.1141583919525146, 3.1142029762268066, 3.125507354736328, 3.125692844390869, 3.1256942749023438, 3.1256942749023438, 3.125887870788574, 3.126105308532715, 3.1263883113861084, 3.1754631996154785, 3.176030158996582, 5.00433874130249, 4.658989429473877, 3.867527723312378, 6.416003227233887, 7.933145523071289, 6.732146739959717, 5.808098793029785, 6.082952499389648, 5.428527355194092, 4.506711959838867, 5.998697757720947, 6.457803726196289, 4.161362171173096, 4.6878790855407715, 5.428527355194092, 4.658989429473877, 3.885449171066284, 3.888004779815674, 3.114159345626831, 3.1141583919525146, 3.114158868789673, 3.1142029762268066, 3.1149871349334717, 4.6878790855407715, 3.1777279376983643, 3.1770412921905518, 3.177311420440674, 3.3030567169189453, 3.023786783218384, 3.0237858295440674, 3.024385452270508, 3.024965524673462, 3.125507354736328, 3.125692844390869, 3.1256942749023438, 3.1256942749023438, 3.125887870788574, 3.126105308532715, 3.1263883113861084, 3.1754631996154785, 3.175679922103882, 3.176030158996582, 3.176063060760498, 3.176055431365967, 4.161362171173096, 7.933145523071289, 5.998697757720947, 7.817012310028076, 6.228713512420654, 7.940443515777588, 6.732146739959717, 6.082952499389648, 6.457803726196289, 5.456881046295166, 6.416003227233887, 6.473245620727539, 4.506711959838867, 5.00433874130249, 3.9022879600524902, 5.003709316253662, 7.940443515777588, 3.176055431365967, 3.1754631996154785, 3.176063060760498, 3.1765551567077637, 3.175679922103882, 3.176030158996582, 3.1770412921905518, 4.017887115478516, 3.125507354736328, 4.001684665679932, 3.125887870788574, 3.326631784439087, 3.326984167098999, 3.32698392868042, 3.023786783218384, 3.0237858295440674, 3.024385452270508, 3.024965524673462, 3.114158868789673, 3.1141583919525146, 3.114159345626831, 3.1142029762268066, 3.1149871349334717, 3.125692844390869, 3.1256942749023438, 3.1256942749023438, 3.126105308532715, 3.1263883113861084, 3.177311420440674, 3.7655465602874756, 3.9713354110717773, 4.506711959838867, 4.6878790855407715, 5.003709316253662, 7.933145523071289, 6.228713512420654, 3.3264071941375732, 3.3275911808013916, 5.456881046295166, 6.732146739959717, 6.457803726196289, 6.473245620727539, 6.082952499389648, 5.428527355194092, 6.228713512420654, 5.456881046295166, 3.9022879600524902, 3.9022881984710693, 3.1256942749023438, 3.1256942749023438, 3.125692844390869, 3.125887870788574, 3.126105308532715, 3.1263883113861084, 3.867527723312378, 4.001684665679932, 3.2065815925598145, 3.1142029762268066, 3.177356243133545, 3.1779544353485107, 3.20633602142334, 3.206576108932495, 3.2066731452941895, 3.2315781116485596, 3.2315781116485596, 3.321917772293091, 3.023786783218384, 3.0237858295440674, 3.024385452270508, 3.024965524673462, 3.114158868789673, 3.114159345626831, 3.1141583919525146, 3.1149871349334717, 5.808098793029785, 3.3262078762054443, 3.3264071941375732, 4.658989429473877, 4.960273265838623, 7.933145523071289, 7.940443515777588, 6.732146739959717, 6.732146739959717, 5.998697757720947, 4.506711959838867, 3.7655465602874756, 3.7661123275756836, 3.0237858295440674, 3.023786783218384, 3.024385452270508, 3.024965524673462, 6.082952499389648, 7.817012310028076, 3.125507354736328, 3.867527723312378, 4.960273265838623, 3.1754631996154785, 3.175679922103882, 3.176030158996582, 3.177311420440674, 3.177356243133545, 3.206629514694214, 3.23118257522583, 3.3030567169189453, 3.3264071941375732, 3.114159345626831, 3.114158868789673, 3.1141583919525146, 3.1142029762268066, 3.1149871349334717, 3.125692844390869, 3.1256942749023438, 4.809874057769775, 6.228713512420654, 4.017887115478516, 4.658989429473877, 6.473245620727539, 3.9713354110717773, 7.940443515777588, 5.003709316253662, 5.00433874130249, 4.163481712341309, 4.161362171173096, 3.3226828575134277, 3.321917772293091, 3.322233200073242, 3.1770412921905518, 3.888004779815674, 3.176030158996582, 3.1787216663360596, 3.1797821521759033, 3.206629514694214, 3.2323431968688965, 3.3049588203430176, 3.326984167098999, 3.32698392868042, 3.023786783218384, 3.0237858295440674, 3.024385452270508, 3.024965524673462, 3.1141583919525146, 3.114158868789673, 3.114159345626831, 3.1142029762268066, 3.1149871349334717, 3.125507354736328, 3.125692844390869, 3.1256942749023438, 3.1256942749023438, 3.7661123275756836, 3.9022881984710693, 3.9022879600524902, 3.9713354110717773, 4.139826774597168, 5.0112690925598145, 7.933145523071289, 7.940443515777588, 6.732146739959717, 6.473245620727539, 5.808098793029785, 6.416003227233887, 6.457803726196289, 5.808098793029785, 4.960273265838623, 4.139826774597168, 3.3048906326293945, 3.3043980598449707, 3.3046066761016846, 3.3049588203430176, 3.3030567169189453, 3.1777279376983643, 6.082952499389648, 3.1797821521759033, 3.1263883113861084, 3.1765551567077637, 3.2072722911834717, 3.2322745323181152, 3.023786783218384, 3.0237858295440674, 3.024385452270508, 3.024965524673462, 3.114158868789673, 3.1141583919525146, 3.114159345626831, 3.1142029762268066, 3.1149871349334717, 3.125507354736328, 3.1256942749023438, 3.125692844390869, 3.1256942749023438, 3.125887870788574, 3.126105308532715, 3.9022881984710693, 3.9022879600524902, 6.457803726196289, 6.732146739959717, 3.1779544353485107, 6.228713512420654, 7.933145523071289, 7.940443515777588, 5.003709316253662, 4.506711959838867, 5.428527355194092, 5.998697757720947, 6.416003227233887, 5.456881046295166, 5.00433874130249, 6.416003227233887, 4.809874057769775, 3.2068917751312256, 3.206576108932495, 3.2072722911834717, 3.206629514694214, 3.2066731452941895, 3.2065815925598145, 3.20633602142334, 6.457803726196289, 4.6878790855407715, 3.3262078762054443, 3.322233200073242, 3.023786783218384, 3.0237858295440674, 3.024385452270508, 3.024965524673462, 3.867527723312378, 3.1141583919525146, 3.114159345626831, 3.114158868789673, 3.1142029762268066, 3.1149871349334717, 3.125507354736328, 3.1256942749023438, 3.1256942749023438, 3.125692844390869, 3.125887870788574, 3.126105308532715, 3.1263883113861084, 5.456881046295166, 6.732146739959717, 7.817012310028076, 5.998697757720947, 5.0112690925598145, 7.933145523071289, 7.940443515777588, 6.082952499389648, 5.808098793029785, 4.506711959838867, 5.003709316253662, 5.00433874130249, 5.428527355194092, 6.473245620727539, 4.139826774597168, 6.228713512420654, 7.933145523071289, 3.9713354110717773, 3.1781604290008545, 3.1781609058380127, 3.1779544353485107, 3.1787216663360596, 3.177311420440674, 3.177356243133545, 3.1797821521759033, 6.228713512420654, 5.998697757720947, 4.658989429473877, 3.20633602142334, 3.024385452270508, 3.176063060760498, 3.3043980598449707, 3.327012062072754, 3.023786783218384, 3.0237858295440674, 3.024965524673462, 3.114158868789673, 3.1141583919525146, 3.114159345626831, 3.1142029762268066, 3.1149871349334717, 3.125507354736328, 3.1256942749023438, 3.1256942749023438, 3.125692844390869, 3.125887870788574, 5.428527355194092, 6.473245620727539, 3.126105308532715, 3.7661123275756836, 5.808098793029785, 7.940443515777588, 6.732146739959717, 6.082952499389648, 5.003709316253662, 4.506711959838867, 5.456881046295166, 6.457803726196289, 4.809874057769775, 5.0112690925598145, 6.473245620727539, 3.2319912910461426, 3.23118257522583, 3.2315781116485596, 3.2315781116485596, 3.2322745323181152, 3.2323431968688965, 6.457803726196289, 7.817012310028076, 3.2065815925598145, 3.125507354736328, 3.126105308532715, 3.175679922103882, 3.2066731452941895, 3.3046066761016846, 3.3262078762054443, 3.326631784439087, 3.3272206783294678, 3.0237858295440674, 3.023786783218384, 3.024385452270508, 3.024965524673462, 3.114158868789673, 3.114159345626831, 3.1141583919525146, 3.1142029762268066, 3.1149871349334717, 3.125692844390869, 3.1256942749023438, 3.1256942749023438, 5.0112690925598145, 6.416003227233887, 6.082952499389648, 7.940443515777588, 7.933145523071289, 6.732146739959717, 4.506711959838867, 5.00433874130249, 3.9022881984710693, 5.808098793029785, 4.6878790855407715, 5.456881046295166], \"loglift\": [30.0, 29.0, 28.0, 27.0, 26.0, 25.0, 24.0, 23.0, 22.0, 21.0, 20.0, 19.0, 18.0, 17.0, 16.0, 15.0, 14.0, 13.0, 12.0, 11.0, 10.0, 9.0, 8.0, 7.0, 6.0, 5.0, 4.0, 3.0, 2.0, 1.0, 2.2093000411987305, 2.1303999423980713, 2.127000093460083, 2.126800060272217, 2.126800060272217, 2.123199939727783, 2.1231000423431396, 2.1231000423431396, 2.1189000606536865, 0.9099000096321106, 0.9057999849319458, -0.9075999855995178, -1.0980000495910645, -1.1273000240325928, -1.207800030708313, -1.207800030708313, -1.2079999446868896, -1.2294000387191772, -1.2373000383377075, -1.2373000383377075, -1.2373000383377075, -1.2373000383377075, -1.2409000396728516, -1.2410000562667847, -1.2410000562667847, -1.2410000562667847, -1.2410000562667847, -1.2410999536514282, -1.2411999702453613, -1.256700038909912, -1.2568000555038452, -1.3983999490737915, -1.5298999547958374, -1.4537999629974365, -1.9600000381469727, -2.172300100326538, -2.00819993019104, -1.8604999780654907, -1.9068000316619873, -1.7929999828338623, -1.6068999767303467, -1.892799973487854, -1.966599941253662, -1.5270999670028687, -1.646299958229065, 2.119800090789795, 2.0762999057769775, 2.060699939727783, 2.051100015640259, 2.0023999214172363, 2.0023999214172363, 2.0023999214172363, 1.9986000061035156, 1.9983999729156494, 1.8702000379562378, 1.5927000045776367, -1.3413000106811523, -1.3414000272750854, -1.3802000284194946, -1.4020999670028687, -1.4020999670028687, -1.4023000001907349, -1.402500033378601, -1.4351999759674072, -1.4351999759674072, -1.4351999759674072, -1.4351999759674072, -1.4352999925613403, -1.4354000091552734, -1.4355000257492065, -1.4509999752044678, -1.4510999917984009, -1.451200008392334, -1.451200008392334, -1.451200008392334, -1.455399990081787, -2.066800117492676, -1.9768999814987183, -2.2416000366210938, -2.1247000694274902, -2.367500066757202, -2.202500104904175, -2.101099967956543, -2.160900115966797, -1.9924999475479126, -2.154400110244751, -2.163300037384033, -1.8011000156402588, -1.905900001525879, -1.657099962234497, -1.9057999849319458, 2.1816999912261963, 2.049499988555908, 2.0459001064300537, 2.0457000732421875, 2.045599937438965, 2.042099952697754, 2.0420000553131104, 2.0373001098632812, 1.8106000423431396, 1.6705000400543213, 1.4290000200271606, -1.2582999467849731, -1.3206000328063965, -1.3207000494003296, -1.3207000494003296, -1.3352999687194824, -1.3352999687194824, -1.3355000019073486, -1.3357000350952148, -1.364799976348877, -1.364799976348877, -1.364799976348877, -1.364799976348877, -1.3650000095367432, -1.368499994277954, -1.368499994277954, -1.368499994277954, -1.3686000108718872, -1.3687000274658203, -1.3848999738693237, -1.4444999694824219, -1.4976999759674072, -1.6241999864578247, -1.663599967956543, -1.7288000583648682, -2.146899938583374, -1.9478000402450562, -1.4306000471115112, -1.430999994277954, -1.9256999492645264, -2.135699987411499, -2.094099998474121, -2.0964999198913574, -2.0343000888824463, -1.9205000400543213, 2.0473999977111816, 2.047300100326538, 1.9961999654769897, 1.9961999654769897, 1.944200038909912, 1.944200038909912, 1.944200038909912, 1.9404000043869019, 1.9402999877929688, 1.9401999711990356, 1.723099946975708, 0.6610000133514404, -1.3630000352859497, -1.3759000301361084, -1.3960000276565552, -1.3961000442504883, -1.4049999713897705, -1.4050999879837036, -1.4050999879837036, -1.4128999710083008, -1.4128999710083008, -1.440500020980835, -1.4565999507904053, -1.4565999507904053, -1.4567999839782715, -1.4570000171661377, -1.4860999584197998, -1.4860999584197998, -1.4860999584197998, -1.4864000082015991, -1.899899959564209, -1.551900029182434, -1.551900029182434, -1.8889000415802002, -1.9515000581741333, -2.4212000370025635, -2.422100067138672, -2.256999969482422, 1.9678000211715698, 1.926900029182434, 1.9085999727249146, 1.8694000244140625, 1.8693000078201294, 1.8121000528335571, 1.8121000528335571, 1.8080999851226807, 1.8078999519348145, 1.788100004196167, 1.142300009727478, 0.7427999973297119, 0.5297999978065491, -1.1881999969482422, -1.5606000423431396, -1.5607000589370728, -1.5607999563217163, -1.5612000226974487, -1.5612000226974487, -1.5703999996185303, -1.5779999494552612, -1.600000023841858, -1.607100009918213, -1.6513999700546265, -1.6513999700546265, -1.6513999700546265, -1.6513999700546265, -1.6516000032424927, -1.6550999879837036, -1.6550999879837036, -1.8766000270843506, -2.0313000679016113, -1.7958999872207642, -1.944000005722046, -2.2727999687194824, -1.8944000005722046, -2.5873000621795654, 2.324199914932251, 2.3190999031066895, 2.292099952697754, 2.285099983215332, 2.23799991607666, 2.234499931335449, 2.2344000339508057, -0.9269999861717224, -1.0398000478744507, -1.0405999422073364, -1.0413999557495117, -1.041700005531311, -1.0501999855041504, -1.0580999851226807, -1.080399990081787, -1.0870000123977661, -1.0870000123977661, -1.101699948310852, -1.101699948310852, -1.1018999814987183, -1.1021000146865845, -1.131100058555603, -1.131100058555603, -1.131100058555603, -1.131100058555603, -1.1313999891281128, -1.1347999572753906, -1.1347999572753906, -1.1347999572753906, -1.1347999572753906, -1.2108999490737915, -1.246500015258789, -1.246500015258789, -1.2640000581741333, -1.3056000471115112, -1.4966000318527222, -2.066200017929077, -2.0671000480651855, -1.9019999504089355, -1.8628000020980835, -1.7544000148773193, -1.8538999557495117, -1.8603999614715576, 2.2304000854492188, 2.182499885559082, 2.1726999282836914, 2.1212000846862793, 2.117500066757202, 2.117500066757202, 2.1173999309539795, 2.1142001152038574, 1.1243000030517578, 0.4749999940395355, -1.0500999689102173, -1.1470999717712402, -1.1629999876022339, -1.1726000308990479, -1.180400013923645, -1.2238999605178833, -1.2238999605178833, -1.2240999937057495, -1.2243000268936157, -1.2533999681472778, -1.2533999681472778, -1.2533999681472778, -1.2533999681472778, -1.253600001335144, -1.2569999694824219, -1.257099986076355, -1.257099986076355, -1.257099986076355, -1.257099986076355, -1.257200002670288, -1.3687000274658203, -1.3687000274658203, -1.872499942779541, -1.9127999544143677, -1.2734999656677246, -1.9464999437332153, -2.1884000301361084, -2.189300060272217, -1.7275999784469604, -1.6230000257492065, -1.8091000318527222, -1.9089000225067139, -1.976199984550476, -1.8142999410629272, -1.7276999950408936, 2.1872000694274902, 2.1451001167297363, 2.0571999549865723, 2.053499937057495, 2.053299903869629, 2.0497000217437744, 2.0497000217437744, 2.0467000007629395, 2.0453999042510986, 0.9677000045776367, 0.6413999795913696, -1.1892000436782837, -1.301900029182434, -1.3179999589920044, -1.3179999589920044, -1.3181999921798706, -1.3184000253677368, -1.339900016784668, -1.3473999500274658, -1.3473999500274658, -1.3473999500274658, -1.347499966621399, -1.3476999998092651, -1.351099967956543, -1.351099967956543, -1.351099967956543, -1.351099967956543, -1.351199984550476, -1.3513000011444092, -1.3514000177383423, -1.698799967765808, -1.9089000225067139, -2.058300018310547, -1.892799973487854, -1.823099970817566, -2.2825000286102295, -2.283400058746338, -2.0169999599456787, -1.9707000255584717, -1.7170000076293945, -1.8216999769210815, -1.8217999935150146, -1.9031000137329102, -2.079200029373169, -1.632099986076355, -2.040600061416626, 2.257499933242798, 2.1521999835968018, 2.101099967956543, 2.101099967956543, 2.097399950027466, 2.097100019454956, 2.0938000679016113, 2.0938000679016113, 2.088599920272827, -0.899399995803833, -0.944100022315979, -1.110200047492981, -1.1175999641418457, -1.1730999946594238, -1.222000002861023, -1.2616000175476074, -1.2684999704360962, -1.2831000089645386, -1.2831000089645386, -1.2834999561309814, -1.312600016593933, -1.312600016593933, -1.312600016593933, -1.312600016593933, -1.3128000497817993, -1.3162000179290771, -1.3163000345230103, -1.3163000345230103, -1.3163000345230103, -1.3163000345230103, -1.6586999893188477, -1.934000015258789, -1.3164000511169434, -1.502500057220459, -1.9357999563217163, -2.248500108718872, -2.0834999084472656, -1.982100009918213, -1.7868000268936157, -1.6821999549865723, -1.8734999895095825, -2.0418999195098877, -1.7473000288009644, -1.7883000373840332, 2.1998000144958496, 2.069000005722046, 2.0653998851776123, 2.0652999877929688, 2.0652999877929688, 2.0650999546051025, 2.0650999546051025, 1.8723000288009644, 1.6763999462127686, -1.2063000202178955, -1.2213000059127808, -1.221500039100647, -1.2372000217437744, -1.246899962425232, -1.2769999504089355, -1.2834999561309814, -1.2835999727249146, -1.2838000059127808, -1.2984000444412231, -1.2984000444412231, -1.2985999584197998, -1.298799991607666, -1.3279000520706177, -1.3279000520706177, -1.3279000520706177, -1.3279000520706177, -1.3280999660491943, -1.3315999507904053, -1.3315999507904053, -1.3315999507904053, -1.490399956703186, -1.7374999523162842, -1.8871999979019165, -2.2639000415802, -2.2629001140594482, -2.09879994392395, -1.6974999904632568, -1.8021999597549438, -1.5535000562667847, -1.951200008392334, -1.736899971961975, -1.888800024986267], \"logprob\": [30.0, 29.0, 28.0, 27.0, 26.0, 25.0, 24.0, 23.0, 22.0, 21.0, 20.0, 19.0, 18.0, 17.0, 16.0, 15.0, 14.0, 13.0, 12.0, 11.0, 10.0, 9.0, 8.0, 7.0, 6.0, 5.0, 4.0, 3.0, 2.0, 1.0, -2.084399938583374, -2.572700023651123, -2.5764999389648438, -2.5764999389648438, -2.5764999389648438, -2.580199956893921, -2.580199956893921, -2.580199956893921, -2.5845999717712402, -3.608799934387207, -3.608799934387207, -4.741000175476074, -5.896399974822998, -5.896399974822998, -6.006700038909912, -6.006700038909912, -6.006700038909912, -5.437900066375732, -6.006700038909912, -6.006700038909912, -6.006700038909912, -6.0065999031066895, -6.006700038909912, -6.006700038909912, -6.006700038909912, -6.006700038909912, -6.006700038909912, -6.006700038909912, -6.0065999031066895, -6.006700038909912, -6.006499767303467, -5.69350004196167, -5.896399974822998, -6.006499767303467, -6.0065999031066895, -6.0065999031066895, -6.0065999031066895, -6.0065999031066895, -6.0065999031066895, -6.0065999031066895, -6.0065999031066895, -6.0065999031066895, -6.0065999031066895, -6.0065999031066895, -6.0065999031066895, -2.093899965286255, -2.2901999950408936, -2.4874000549316406, -2.4964001178741455, -2.7669999599456787, -2.7669999599456787, -2.7669999599456787, -2.770699977874756, -2.770699977874756, -2.4902000427246094, -3.1565001010894775, -6.090700149536133, -6.090700149536133, -6.090700149536133, -6.200900077819824, -6.200900077819824, -6.200900077819824, -6.200900077819824, -6.201000213623047, -6.200900077819824, -6.200900077819824, -6.200900077819824, -6.200900077819824, -6.200900077819824, -6.200900077819824, -6.200900077819824, -6.200900077819824, -6.200900077819824, -6.200900077819824, -6.200900077819824, -5.934899806976318, -5.901100158691406, -6.090700149536133, -6.090700149536133, -6.200900077819824, -6.200900077819824, -6.200900077819824, -6.200900077819824, -6.200900077819824, -6.200900077819824, -6.200900077819824, -6.200900077819824, -6.200900077819824, -6.200900077819824, -6.200900077819824, -6.200900077819824, -1.6517000198364258, -2.700200080871582, -2.7039999961853027, -2.7039999961853027, -2.7039999961853027, -2.7077999114990234, -2.7077999114990234, -2.7121999263763428, -2.7039999961853027, -3.0952000617980957, -3.0896999835968018, -6.02400016784668, -6.02400016784668, -6.02400016784668, -6.02400016784668, -6.134200096130371, -6.134200096130371, -6.134200096130371, -6.134200096130371, -6.134200096130371, -6.134200096130371, -6.134200096130371, -6.134200096130371, -6.134200096130371, -6.134200096130371, -6.134200096130371, -6.134200096130371, -6.134200096130371, -6.134200096130371, -6.134200096130371, -6.02400016784668, -6.02400016784668, -6.02400016784668, -6.02400016784668, -6.02400016784668, -5.981299877166748, -6.023900032043457, -6.134099960327148, -6.134099960327148, -6.134200096130371, -6.134200096130371, -6.134200096130371, -6.134200096130371, -6.134200096130371, -6.134200096130371, -2.0288000106811523, -2.161099910736084, -2.547600030899048, -2.547600030899048, -2.821500062942505, -2.821500062942505, -2.821500062942505, -2.8252999782562256, -2.8252999782562256, -2.8252999782562256, -2.8296000957489014, -3.8577001094818115, -6.1031999588012695, -6.145299911499023, -6.145299911499023, -6.145299911499023, -6.145299911499023, -6.145299911499023, -6.145299911499023, -6.145299911499023, -6.145299911499023, -6.145299911499023, -6.255499839782715, -6.255499839782715, -6.255499839782715, -6.255499839782715, -6.255499839782715, -6.255499839782715, -6.255499839782715, -6.255499839782715, -6.046000003814697, -6.25540018081665, -6.25540018081665, -6.25540018081665, -6.25540018081665, -6.255499839782715, -6.255499839782715, -6.255499839782715, -2.0306999683380127, -2.1868999004364014, -2.4911999702453613, -2.710099935531616, -2.710099935531616, -2.986799955368042, -2.986799955368042, -2.990600109100342, -2.990600109100342, -2.311800003051758, -2.7067999839782715, -4.022900104522705, -4.022900104522705, -5.492099761962891, -6.310500144958496, -6.310500144958496, -6.310500144958496, -6.310500144958496, -6.310500144958496, -6.310500144958496, -6.310500144958496, -6.310500144958496, -6.310500144958496, -6.42080020904541, -6.42080020904541, -6.42080020904541, -6.42080020904541, -6.42080020904541, -6.42080020904541, -6.42080020904541, -6.211299896240234, -6.107500076293945, -6.310500144958496, -6.310500144958496, -6.310500144958496, -6.4207000732421875, -6.4207000732421875, -1.9709999561309814, -1.9759000539779663, -2.187000036239624, -2.1944000720977783, -2.4665000438690186, -2.4702999591827393, -2.4702999591827393, -5.676400184631348, -5.587299823760986, -5.790299892425537, -5.790299892425537, -5.790299892425537, -5.790299892425537, -5.790299892425537, -5.790299892425537, -5.790299892425537, -5.790299892425537, -5.9004998207092285, -5.9004998207092285, -5.9004998207092285, -5.9004998207092285, -5.9004998207092285, -5.9004998207092285, -5.9004998207092285, -5.9004998207092285, -5.9004998207092285, -5.9004998207092285, -5.9004998207092285, -5.9004998207092285, -5.9004998207092285, -5.790299892425537, -5.790299892425537, -5.790299892425537, -5.790299892425537, -5.790299892425537, -5.790299892425537, -5.9004998207092285, -5.9004998207092285, -5.9004998207092285, -5.9004998207092285, -5.9004998207092285, -5.9004998207092285, -5.9004998207092285, -1.9156999588012695, -2.1214001178741455, -2.3120999336242676, -2.5887999534606934, -2.592600107192993, -2.592600107192993, -2.592600107192993, -2.596299886703491, -3.6249001026153564, -3.6249001026153564, -5.798600196838379, -5.912499904632568, -5.912600040435791, -5.912499904632568, -5.912499904632568, -6.022799968719482, -6.022799968719482, -6.022799968719482, -6.022799968719482, -6.022799968719482, -6.022799968719482, -6.022799968719482, -6.022799968719482, -6.022799968719482, -6.022799968719482, -6.022799968719482, -6.022799968719482, -6.022799968719482, -6.022799968719482, -6.022799968719482, -5.912499904632568, -5.912499904632568, -5.912499904632568, -5.911300182342529, -6.022600173950195, -6.02269983291626, -6.02269983291626, -6.02269983291626, -6.02269983291626, -6.02269983291626, -6.02269983291626, -6.02269983291626, -6.02269983291626, -6.022799968719482, -6.022799968719482, -1.8594000339508057, -2.1895999908447266, -2.6828999519348145, -2.6865999698638916, -2.6865999698638916, -2.6903998851776123, -2.6903998851776123, -2.69350004196167, -2.6947999000549316, -3.0724000930786133, -3.7190001010894775, -5.8927001953125, -6.0065999031066895, -6.116799831390381, -6.116799831390381, -6.116799831390381, -6.116799831390381, -5.8927001953125, -6.116799831390381, -6.116799831390381, -6.116799831390381, -6.116799831390381, -6.116799831390381, -6.1168999671936035, -6.116799831390381, -6.116799831390381, -6.116799831390381, -6.116799831390381, -6.116799831390381, -6.116799831390381, -5.907299995422363, -5.907299995422363, -5.907299995422363, -6.0065999031066895, -6.116799831390381, -6.116799831390381, -6.116799831390381, -6.116799831390381, -6.116799831390381, -6.116799831390381, -6.116799831390381, -6.116799831390381, -6.116799831390381, -6.116799831390381, -6.116799831390381, -6.116799831390381, -1.576799988746643, -2.3740999698638916, -2.6480000019073486, -2.6480000019073486, -2.6517999172210693, -2.6517999172210693, -2.6554999351501465, -2.6554999351501465, -2.659899950027466, -4.975599765777588, -5.0578999519348145, -5.4766998291015625, -5.857800006866455, -5.971700191497803, -5.971700191497803, -5.971700191497803, -5.971700191497803, -6.081999778747559, -6.081999778747559, -6.081999778747559, -6.081999778747559, -6.081999778747559, -6.081999778747559, -6.081999778747559, -6.081999778747559, -6.081999778747559, -6.081999778747559, -6.081999778747559, -6.081999778747559, -6.081999778747559, -5.872399806976318, -5.971700191497803, -6.081999778747559, -6.0817999839782715, -6.081900119781494, -6.081900119781494, -6.081900119781494, -6.081900119781494, -6.081900119781494, -6.081900119781494, -6.081900119781494, -6.081900119781494, -6.081900119781494, -6.081900119781494, -1.8379000425338745, -2.663300037384033, -2.667099952697754, -2.667099952697754, -2.667099952697754, -2.667099952697754, -2.667099952697754, -2.1677000522613525, -2.1726999282836914, -5.946499824523926, -5.986999988555908, -5.986999988555908, -5.986999988555908, -5.986999988555908, -5.986999988555908, -5.987100124359131, -5.986999988555908, -5.987100124359131, -6.097300052642822, -6.097300052642822, -6.097300052642822, -6.097300052642822, -6.097300052642822, -6.097300052642822, -6.097300052642822, -6.097300052642822, -6.097300052642822, -6.097300052642822, -6.097300052642822, -6.097300052642822, -5.78410005569458, -5.78410005569458, -5.986999988555908, -6.0971999168396, -6.0971999168396, -6.097300052642822, -6.097300052642822, -6.097300052642822, -6.097300052642822, -6.097300052642822, -6.097300052642822, -6.097300052642822]}, \"token.table\": {\"Topic\": [2, 8, 8, 10, 8, 5, 7, 2, 6, 7, 8, 1, 1, 3, 4, 5, 4, 1, 2, 8, 9, 9, 8, 5, 2, 9, 5, 6, 3, 9, 2, 7, 10, 3, 5, 1, 5, 5, 10, 7, 2, 1, 6, 7, 5, 5, 9, 7, 10, 7, 9, 10, 2, 4, 5, 2, 3, 4, 1, 8, 3, 10, 2, 7, 1, 8, 9, 3, 4, 4, 1, 10, 2, 4, 4, 1, 9, 1, 3, 4, 6, 4, 8, 2, 3, 5, 7, 5, 3, 6, 3, 10, 1, 8, 5, 6, 6, 8, 10, 7, 4, 9, 3, 4], \"Freq\": [0.6399482488632202, 0.21331608295440674, 0.3097028136253357, 0.6194056272506714, 0.6237078309059143, 0.8219692707061768, 0.1643938571214676, 0.9210600852966309, 0.7209177613258362, 0.9077455997467041, 0.623717188835144, 0.9017175436019897, 0.24888703227043152, 0.49777406454086304, 0.639857828617096, 0.6614223122596741, 0.6398181915283203, 0.9017099738121033, 0.6422280073165894, 0.62371826171875, 0.6289739012718201, 0.8823738098144531, 0.6236993670463562, 0.8912461996078491, 0.6420572400093079, 0.6294541358947754, 0.6612913608551025, 0.7993063926696777, 0.8815628290176392, 0.6291837692260742, 0.6422278881072998, 0.724668025970459, 0.9282203316688538, 0.6298293471336365, 0.6614224910736084, 0.7982010245323181, 0.7965773940086365, 0.38377833366394043, 0.5117044448852539, 0.907880961894989, 0.7716040015220642, 0.9018130898475647, 0.7205507755279541, 0.9082496166229248, 0.6611645817756653, 0.887565016746521, 0.7554134130477905, 0.8064072132110596, 0.9281389713287354, 0.9078236222267151, 0.6293356418609619, 0.9283390045166016, 0.7721114754676819, 0.517126202583313, 0.2585631012916565, 0.6422280669212341, 0.6297863721847534, 0.6397737264633179, 0.9019280076026917, 0.9351616501808167, 0.6296128630638123, 0.9281192421913147, 0.6293805241584778, 0.3146902620792389, 0.9015530347824097, 0.6236568689346313, 0.6294630169868469, 0.6297104358673096, 0.7687797546386719, 0.7687796950340271, 0.9018739461898804, 0.9283390045166016, 0.6422188878059387, 0.639857828617096, 0.6397157907485962, 0.9017176032066345, 0.6292948722839355, 0.24989475309848785, 0.4997895061969757, 0.24989475309848785, 0.9030070304870605, 0.9162743091583252, 0.8316226005554199, 0.858555257320404, 0.6398960947990417, 0.3199480473995209, 0.9077268838882446, 0.8335142135620117, 0.629711925983429, 0.7994069457054138, 0.6297169327735901, 0.9284526705741882, 0.9016534686088562, 0.6235828399658203, 0.7966970801353455, 0.902884840965271, 0.9030928015708923, 0.6237649321556091, 0.9268920421600342, 0.860866904258728, 0.6398581266403198, 0.629294753074646, 0.6295165419578552, 0.8027339577674866], \"Term\": [\"account\", \"account\", \"agent\", \"agent\", \"analysis\", \"asset\", \"asset\", \"balance\", \"bank\", \"bill\", \"bond\", \"c\", \"capital\", \"capital\", \"change\", \"chapter\", \"classification\", \"closure\", \"conclusion\", \"consistent\", \"consumption\", \"country\", \"credit\", \"debt\", \"deficit\", \"deposit\", \"distribution\", \"economic\", \"economy\", \"equation\", \"equity\", \"ert\", \"eurozone\", \"extension\", \"finance\", \"financial\", \"firm\", \"flow\", \"flow\", \"foreign\", \"fund\", \"gain\", \"good\", \"government\", \"group\", \"high\", \"household\", \"income\", \"instead\", \"investment\", \"keynesian\", \"law\", \"loan\", \"long\", \"long\", \"macroeconomic\", \"market\", \"matrix\", \"medium\", \"model\", \"monetary\", \"neoclassical\", \"net\", \"net\", \"open\", \"output\", \"paper\", \"period\", \"policy\", \"price\", \"private\", \"process\", \"publication\", \"ratio\", \"recent\", \"region\", \"reserve\", \"run\", \"run\", \"run\", \"section\", \"sector\", \"sfc\", \"sheet\", \"short\", \"short\", \"specification\", \"stock\", \"sum\", \"supply\", \"surplus\", \"survey\", \"system\", \"table\", \"term\", \"theory\", \"time\", \"total\", \"transaction\", \"type\", \"variable\", \"wage\", \"year\", \"\\u2014\"]}, \"R\": 30, \"lambda.step\": 0.01, \"plot.opts\": {\"xlab\": \"PC1\", \"ylab\": \"PC2\"}, \"topic.order\": [1, 2, 3, 4, 5, 6, 7, 8, 9, 10]};\n",
              "\n",
              "function LDAvis_load_lib(url, callback){\n",
              "  var s = document.createElement('script');\n",
              "  s.src = url;\n",
              "  s.async = true;\n",
              "  s.onreadystatechange = s.onload = callback;\n",
              "  s.onerror = function(){console.warn(\"failed to load library \" + url);};\n",
              "  document.getElementsByTagName(\"head\")[0].appendChild(s);\n",
              "}\n",
              "\n",
              "if(typeof(LDAvis) !== \"undefined\"){\n",
              "   // already loaded: just create the visualization\n",
              "   !function(LDAvis){\n",
              "       new LDAvis(\"#\" + \"ldavis_el1231401807564988562404360549\", ldavis_el1231401807564988562404360549_data);\n",
              "   }(LDAvis);\n",
              "}else if(typeof define === \"function\" && define.amd){\n",
              "   // require.js is available: use it to load d3/LDAvis\n",
              "   require.config({paths: {d3: \"https://cdnjs.cloudflare.com/ajax/libs/d3/3.5.5/d3.min\"}});\n",
              "   require([\"d3\"], function(d3){\n",
              "      window.d3 = d3;\n",
              "      LDAvis_load_lib(\"https://cdn.rawgit.com/bmabey/pyLDAvis/files/ldavis.v1.0.0.js\", function(){\n",
              "        new LDAvis(\"#\" + \"ldavis_el1231401807564988562404360549\", ldavis_el1231401807564988562404360549_data);\n",
              "      });\n",
              "    });\n",
              "}else{\n",
              "    // require.js not available: dynamically load d3 & LDAvis\n",
              "    LDAvis_load_lib(\"https://cdnjs.cloudflare.com/ajax/libs/d3/3.5.5/d3.min.js\", function(){\n",
              "         LDAvis_load_lib(\"https://cdn.rawgit.com/bmabey/pyLDAvis/files/ldavis.v1.0.0.js\", function(){\n",
              "                 new LDAvis(\"#\" + \"ldavis_el1231401807564988562404360549\", ldavis_el1231401807564988562404360549_data);\n",
              "            })\n",
              "         });\n",
              "}\n",
              "</script>"
            ],
            "text/plain": [
              "<IPython.core.display.HTML object>"
            ]
          },
          "metadata": {
            "tags": []
          },
          "execution_count": 377
        }
      ]
    }
  ]
}